{
  "cells": [
    {
      "cell_type": "markdown",
      "metadata": {
        "id": "DXLrm_TWVe51"
      },
      "source": [
        "# CSE 572: Lab 9\n",
        "\n",
        "In this lab, you will practice implementing ensemble models.\n",
        "\n",
        "To execute and make changes to this notebook, click File > Save a copy to save your own version in your Google Drive or Github. Read the step-by-step instructions below carefully. To execute the code, click on each cell below and press the SHIFT-ENTER keys simultaneously or by clicking the Play button. \n",
        "\n",
        "When you finish executing all code/exercises, save your notebook then download a copy (.ipynb file). Submit the following **three** things:\n",
        "1. a link to your Colab notebook,\n",
        "2. the .ipynb file, and\n",
        "3. a pdf of the executed notebook on Canvas.\n",
        "\n",
        "To generate a pdf of the notebook, click File > Print > Save as PDF."
      ]
    },
    {
      "cell_type": "code",
      "execution_count": 1,
      "metadata": {
        "id": "PKOA-obiVe52"
      },
      "outputs": [],
      "source": [
        "# Import libraries\n",
        "import numpy as np\n",
        "import pandas as pd\n",
        "\n",
        "# Set the random seed for reproducibility\n",
        "seed = 0\n",
        "np.random.seed(0)"
      ]
    },
    {
      "cell_type": "markdown",
      "metadata": {
        "id": "BUVw7y7SVe53"
      },
      "source": [
        "## Ensemble of hybrid models\n",
        "\n",
        "One straighforward approach for constructing an ensemble classifier is to train $k$ separate classifiers using different classification methods and then combine their predictions using majority vote. In the first exercise, you will use Scikit-learn to train a k nearest neighbors, naive Bayes, and logistic regression classifier separately and then combine their predictions using a VotingClassifier."
      ]
    },
    {
      "cell_type": "markdown",
      "metadata": {
        "id": "hI8JH7f6Ve53"
      },
      "source": [
        "### Load the dataset\n",
        "\n",
        "We will use the Wisconsin breast cancer dataset with class values 'benign' or 'malignant'. Below, we will load the dataset and perform preprocessing as in previous labs."
      ]
    },
    {
      "cell_type": "code",
      "execution_count": 2,
      "metadata": {
        "id": "mAmBUSoXVe53",
        "colab": {
          "base_uri": "https://localhost:8080/",
          "height": 485
        },
        "outputId": "0efeb50c-f5cf-4a27-cece-af5ffbac12bd"
      },
      "outputs": [
        {
          "output_type": "execute_result",
          "data": {
            "text/plain": [
              "     Clump Thickness  Uniformity of Cell Size  Uniformity of Cell Shape  \\\n",
              "0                  5                        1                         1   \n",
              "1                  5                        4                         4   \n",
              "2                  3                        1                         1   \n",
              "3                  6                        8                         8   \n",
              "4                  4                        1                         1   \n",
              "..               ...                      ...                       ...   \n",
              "694                3                        1                         1   \n",
              "695                2                        1                         1   \n",
              "696                5                       10                        10   \n",
              "697                4                        8                         6   \n",
              "698                4                        8                         8   \n",
              "\n",
              "     Marginal Adhesion  Single Epithelial Cell Size  Bare Nuclei  \\\n",
              "0                    1                            2          1.0   \n",
              "1                    5                            7         10.0   \n",
              "2                    1                            2          2.0   \n",
              "3                    1                            3          4.0   \n",
              "4                    3                            2          1.0   \n",
              "..                 ...                          ...          ...   \n",
              "694                  1                            3          2.0   \n",
              "695                  1                            2          1.0   \n",
              "696                  3                            7          3.0   \n",
              "697                  4                            3          4.0   \n",
              "698                  5                            4          5.0   \n",
              "\n",
              "     Bland Chromatin  Normal Nucleoli  Mitoses  Class  \n",
              "0                  3                1        1      2  \n",
              "1                  3                2        1      2  \n",
              "2                  3                1        1      2  \n",
              "3                  3                7        1      2  \n",
              "4                  3                1        1      2  \n",
              "..               ...              ...      ...    ...  \n",
              "694                1                1        1      2  \n",
              "695                1                1        1      2  \n",
              "696                8               10        2      4  \n",
              "697               10                6        1      4  \n",
              "698               10                4        1      4  \n",
              "\n",
              "[699 rows x 10 columns]"
            ],
            "text/html": [
              "\n",
              "  <div id=\"df-c2070334-fcae-4987-b11e-a5ce6af8e88e\">\n",
              "    <div class=\"colab-df-container\">\n",
              "      <div>\n",
              "<style scoped>\n",
              "    .dataframe tbody tr th:only-of-type {\n",
              "        vertical-align: middle;\n",
              "    }\n",
              "\n",
              "    .dataframe tbody tr th {\n",
              "        vertical-align: top;\n",
              "    }\n",
              "\n",
              "    .dataframe thead th {\n",
              "        text-align: right;\n",
              "    }\n",
              "</style>\n",
              "<table border=\"1\" class=\"dataframe\">\n",
              "  <thead>\n",
              "    <tr style=\"text-align: right;\">\n",
              "      <th></th>\n",
              "      <th>Clump Thickness</th>\n",
              "      <th>Uniformity of Cell Size</th>\n",
              "      <th>Uniformity of Cell Shape</th>\n",
              "      <th>Marginal Adhesion</th>\n",
              "      <th>Single Epithelial Cell Size</th>\n",
              "      <th>Bare Nuclei</th>\n",
              "      <th>Bland Chromatin</th>\n",
              "      <th>Normal Nucleoli</th>\n",
              "      <th>Mitoses</th>\n",
              "      <th>Class</th>\n",
              "    </tr>\n",
              "  </thead>\n",
              "  <tbody>\n",
              "    <tr>\n",
              "      <th>0</th>\n",
              "      <td>5</td>\n",
              "      <td>1</td>\n",
              "      <td>1</td>\n",
              "      <td>1</td>\n",
              "      <td>2</td>\n",
              "      <td>1.0</td>\n",
              "      <td>3</td>\n",
              "      <td>1</td>\n",
              "      <td>1</td>\n",
              "      <td>2</td>\n",
              "    </tr>\n",
              "    <tr>\n",
              "      <th>1</th>\n",
              "      <td>5</td>\n",
              "      <td>4</td>\n",
              "      <td>4</td>\n",
              "      <td>5</td>\n",
              "      <td>7</td>\n",
              "      <td>10.0</td>\n",
              "      <td>3</td>\n",
              "      <td>2</td>\n",
              "      <td>1</td>\n",
              "      <td>2</td>\n",
              "    </tr>\n",
              "    <tr>\n",
              "      <th>2</th>\n",
              "      <td>3</td>\n",
              "      <td>1</td>\n",
              "      <td>1</td>\n",
              "      <td>1</td>\n",
              "      <td>2</td>\n",
              "      <td>2.0</td>\n",
              "      <td>3</td>\n",
              "      <td>1</td>\n",
              "      <td>1</td>\n",
              "      <td>2</td>\n",
              "    </tr>\n",
              "    <tr>\n",
              "      <th>3</th>\n",
              "      <td>6</td>\n",
              "      <td>8</td>\n",
              "      <td>8</td>\n",
              "      <td>1</td>\n",
              "      <td>3</td>\n",
              "      <td>4.0</td>\n",
              "      <td>3</td>\n",
              "      <td>7</td>\n",
              "      <td>1</td>\n",
              "      <td>2</td>\n",
              "    </tr>\n",
              "    <tr>\n",
              "      <th>4</th>\n",
              "      <td>4</td>\n",
              "      <td>1</td>\n",
              "      <td>1</td>\n",
              "      <td>3</td>\n",
              "      <td>2</td>\n",
              "      <td>1.0</td>\n",
              "      <td>3</td>\n",
              "      <td>1</td>\n",
              "      <td>1</td>\n",
              "      <td>2</td>\n",
              "    </tr>\n",
              "    <tr>\n",
              "      <th>...</th>\n",
              "      <td>...</td>\n",
              "      <td>...</td>\n",
              "      <td>...</td>\n",
              "      <td>...</td>\n",
              "      <td>...</td>\n",
              "      <td>...</td>\n",
              "      <td>...</td>\n",
              "      <td>...</td>\n",
              "      <td>...</td>\n",
              "      <td>...</td>\n",
              "    </tr>\n",
              "    <tr>\n",
              "      <th>694</th>\n",
              "      <td>3</td>\n",
              "      <td>1</td>\n",
              "      <td>1</td>\n",
              "      <td>1</td>\n",
              "      <td>3</td>\n",
              "      <td>2.0</td>\n",
              "      <td>1</td>\n",
              "      <td>1</td>\n",
              "      <td>1</td>\n",
              "      <td>2</td>\n",
              "    </tr>\n",
              "    <tr>\n",
              "      <th>695</th>\n",
              "      <td>2</td>\n",
              "      <td>1</td>\n",
              "      <td>1</td>\n",
              "      <td>1</td>\n",
              "      <td>2</td>\n",
              "      <td>1.0</td>\n",
              "      <td>1</td>\n",
              "      <td>1</td>\n",
              "      <td>1</td>\n",
              "      <td>2</td>\n",
              "    </tr>\n",
              "    <tr>\n",
              "      <th>696</th>\n",
              "      <td>5</td>\n",
              "      <td>10</td>\n",
              "      <td>10</td>\n",
              "      <td>3</td>\n",
              "      <td>7</td>\n",
              "      <td>3.0</td>\n",
              "      <td>8</td>\n",
              "      <td>10</td>\n",
              "      <td>2</td>\n",
              "      <td>4</td>\n",
              "    </tr>\n",
              "    <tr>\n",
              "      <th>697</th>\n",
              "      <td>4</td>\n",
              "      <td>8</td>\n",
              "      <td>6</td>\n",
              "      <td>4</td>\n",
              "      <td>3</td>\n",
              "      <td>4.0</td>\n",
              "      <td>10</td>\n",
              "      <td>6</td>\n",
              "      <td>1</td>\n",
              "      <td>4</td>\n",
              "    </tr>\n",
              "    <tr>\n",
              "      <th>698</th>\n",
              "      <td>4</td>\n",
              "      <td>8</td>\n",
              "      <td>8</td>\n",
              "      <td>5</td>\n",
              "      <td>4</td>\n",
              "      <td>5.0</td>\n",
              "      <td>10</td>\n",
              "      <td>4</td>\n",
              "      <td>1</td>\n",
              "      <td>4</td>\n",
              "    </tr>\n",
              "  </tbody>\n",
              "</table>\n",
              "<p>699 rows × 10 columns</p>\n",
              "</div>\n",
              "      <button class=\"colab-df-convert\" onclick=\"convertToInteractive('df-c2070334-fcae-4987-b11e-a5ce6af8e88e')\"\n",
              "              title=\"Convert this dataframe to an interactive table.\"\n",
              "              style=\"display:none;\">\n",
              "        \n",
              "  <svg xmlns=\"http://www.w3.org/2000/svg\" height=\"24px\"viewBox=\"0 0 24 24\"\n",
              "       width=\"24px\">\n",
              "    <path d=\"M0 0h24v24H0V0z\" fill=\"none\"/>\n",
              "    <path d=\"M18.56 5.44l.94 2.06.94-2.06 2.06-.94-2.06-.94-.94-2.06-.94 2.06-2.06.94zm-11 1L8.5 8.5l.94-2.06 2.06-.94-2.06-.94L8.5 2.5l-.94 2.06-2.06.94zm10 10l.94 2.06.94-2.06 2.06-.94-2.06-.94-.94-2.06-.94 2.06-2.06.94z\"/><path d=\"M17.41 7.96l-1.37-1.37c-.4-.4-.92-.59-1.43-.59-.52 0-1.04.2-1.43.59L10.3 9.45l-7.72 7.72c-.78.78-.78 2.05 0 2.83L4 21.41c.39.39.9.59 1.41.59.51 0 1.02-.2 1.41-.59l7.78-7.78 2.81-2.81c.8-.78.8-2.07 0-2.86zM5.41 20L4 18.59l7.72-7.72 1.47 1.35L5.41 20z\"/>\n",
              "  </svg>\n",
              "      </button>\n",
              "      \n",
              "  <style>\n",
              "    .colab-df-container {\n",
              "      display:flex;\n",
              "      flex-wrap:wrap;\n",
              "      gap: 12px;\n",
              "    }\n",
              "\n",
              "    .colab-df-convert {\n",
              "      background-color: #E8F0FE;\n",
              "      border: none;\n",
              "      border-radius: 50%;\n",
              "      cursor: pointer;\n",
              "      display: none;\n",
              "      fill: #1967D2;\n",
              "      height: 32px;\n",
              "      padding: 0 0 0 0;\n",
              "      width: 32px;\n",
              "    }\n",
              "\n",
              "    .colab-df-convert:hover {\n",
              "      background-color: #E2EBFA;\n",
              "      box-shadow: 0px 1px 2px rgba(60, 64, 67, 0.3), 0px 1px 3px 1px rgba(60, 64, 67, 0.15);\n",
              "      fill: #174EA6;\n",
              "    }\n",
              "\n",
              "    [theme=dark] .colab-df-convert {\n",
              "      background-color: #3B4455;\n",
              "      fill: #D2E3FC;\n",
              "    }\n",
              "\n",
              "    [theme=dark] .colab-df-convert:hover {\n",
              "      background-color: #434B5C;\n",
              "      box-shadow: 0px 1px 3px 1px rgba(0, 0, 0, 0.15);\n",
              "      filter: drop-shadow(0px 1px 2px rgba(0, 0, 0, 0.3));\n",
              "      fill: #FFFFFF;\n",
              "    }\n",
              "  </style>\n",
              "\n",
              "      <script>\n",
              "        const buttonEl =\n",
              "          document.querySelector('#df-c2070334-fcae-4987-b11e-a5ce6af8e88e button.colab-df-convert');\n",
              "        buttonEl.style.display =\n",
              "          google.colab.kernel.accessAllowed ? 'block' : 'none';\n",
              "\n",
              "        async function convertToInteractive(key) {\n",
              "          const element = document.querySelector('#df-c2070334-fcae-4987-b11e-a5ce6af8e88e');\n",
              "          const dataTable =\n",
              "            await google.colab.kernel.invokeFunction('convertToInteractive',\n",
              "                                                     [key], {});\n",
              "          if (!dataTable) return;\n",
              "\n",
              "          const docLinkHtml = 'Like what you see? Visit the ' +\n",
              "            '<a target=\"_blank\" href=https://colab.research.google.com/notebooks/data_table.ipynb>data table notebook</a>'\n",
              "            + ' to learn more about interactive tables.';\n",
              "          element.innerHTML = '';\n",
              "          dataTable['output_type'] = 'display_data';\n",
              "          await google.colab.output.renderOutput(dataTable, element);\n",
              "          const docLink = document.createElement('div');\n",
              "          docLink.innerHTML = docLinkHtml;\n",
              "          element.appendChild(docLink);\n",
              "        }\n",
              "      </script>\n",
              "    </div>\n",
              "  </div>\n",
              "  "
            ]
          },
          "metadata": {},
          "execution_count": 2
        }
      ],
      "source": [
        "# Load the Wisconsin breast cancer dataset\n",
        "data = pd.read_csv('https://archive.ics.uci.edu/ml/machine-learning-databases/breast-cancer-wisconsin/breast-cancer-wisconsin.data', header=None)\n",
        "data.columns = ['Sample code', 'Clump Thickness', 'Uniformity of Cell Size', 'Uniformity of Cell Shape',\n",
        "                'Marginal Adhesion', 'Single Epithelial Cell Size', 'Bare Nuclei', 'Bland Chromatin',\n",
        "                'Normal Nucleoli', 'Mitoses','Class']\n",
        "\n",
        "data = data.drop(['Sample code'],axis=1)\n",
        "\n",
        "data = data.replace('?',np.NaN)\n",
        "data['Bare Nuclei'] = pd.to_numeric(data['Bare Nuclei'])\n",
        "\n",
        "data"
      ]
    },
    {
      "cell_type": "markdown",
      "metadata": {
        "id": "5cTWRuf-Ve54"
      },
      "source": [
        "After loading the dataset, we clean it by removing samples with missing data, duplicates, or outliers using the code from Labs 2-3."
      ]
    },
    {
      "cell_type": "code",
      "execution_count": 3,
      "metadata": {
        "id": "9FR18XO2Ve54"
      },
      "outputs": [],
      "source": [
        "def inds_nans(df):\n",
        "    inds = df.isna().any(axis=1)\n",
        "    # print('Found {} rows that had NaN values.'.format(inds.sum()))\n",
        "    return inds\n",
        "\n",
        "def inds_dups(df):\n",
        "    inds = df.duplicated()\n",
        "    # print('Found {} rows that were duplicates.'.format(inds.sum()))\n",
        "    return inds\n",
        "\n",
        "def inds_outliers(df):\n",
        "    # In this example, we defined outliers as values that are +/- 3 standard deviations \n",
        "    # from the mean value. To identify such values, we need to compute the Z score for \n",
        "    # every value by subtracting the feature-wise mean and dividing by the feature-wise \n",
        "    # standard deviation (also known as standardizing the data).\n",
        "    df = df[df.columns[:-1]]\n",
        "    Z = (df-df.mean())/df.std()\n",
        "    # The below code will give a value of True or False for each row. The row will be\n",
        "    # True if all of the feature values for that row were within 3 standard deviations of \n",
        "    # the mean. The row will be False if at leaset one of the feature values for that row\n",
        "    # was NOT within 3 standard deviations of the mean.\n",
        "    inlier_inds = ((Z > -3).sum(axis=1)==9) & ((Z <= 3).sum(axis=1)==9)\n",
        "    # The outliers are the inverse boolean values of the above\n",
        "    outlier_inds = ~inlier_inds\n",
        "    # print('Found {} rows that were outliers.'.format(outlier_inds.sum()))\n",
        "    return outlier_inds"
      ]
    },
    {
      "cell_type": "code",
      "execution_count": 4,
      "metadata": {
        "id": "I29rJMDKVe54",
        "colab": {
          "base_uri": "https://localhost:8080/",
          "height": 485
        },
        "outputId": "90d008fb-c0a8-456c-be3c-4e55b82c2e84"
      },
      "outputs": [
        {
          "output_type": "execute_result",
          "data": {
            "text/plain": [
              "     Clump Thickness  Uniformity of Cell Size  Uniformity of Cell Shape  \\\n",
              "0                  5                        1                         1   \n",
              "1                  5                        4                         4   \n",
              "2                  3                        1                         1   \n",
              "3                  6                        8                         8   \n",
              "4                  4                        1                         1   \n",
              "..               ...                      ...                       ...   \n",
              "693                3                        1                         1   \n",
              "694                3                        1                         1   \n",
              "696                5                       10                        10   \n",
              "697                4                        8                         6   \n",
              "698                4                        8                         8   \n",
              "\n",
              "     Marginal Adhesion  Single Epithelial Cell Size  Bare Nuclei  \\\n",
              "0                    1                            2          1.0   \n",
              "1                    5                            7         10.0   \n",
              "2                    1                            2          2.0   \n",
              "3                    1                            3          4.0   \n",
              "4                    3                            2          1.0   \n",
              "..                 ...                          ...          ...   \n",
              "693                  1                            2          1.0   \n",
              "694                  1                            3          2.0   \n",
              "696                  3                            7          3.0   \n",
              "697                  4                            3          4.0   \n",
              "698                  5                            4          5.0   \n",
              "\n",
              "     Bland Chromatin  Normal Nucleoli  Mitoses  Class  \n",
              "0                  3                1        1      2  \n",
              "1                  3                2        1      2  \n",
              "2                  3                1        1      2  \n",
              "3                  3                7        1      2  \n",
              "4                  3                1        1      2  \n",
              "..               ...              ...      ...    ...  \n",
              "693                2                1        2      2  \n",
              "694                1                1        1      2  \n",
              "696                8               10        2      4  \n",
              "697               10                6        1      4  \n",
              "698               10                4        1      4  \n",
              "\n",
              "[399 rows x 10 columns]"
            ],
            "text/html": [
              "\n",
              "  <div id=\"df-67340d22-3eec-4693-8035-dc17a46db946\">\n",
              "    <div class=\"colab-df-container\">\n",
              "      <div>\n",
              "<style scoped>\n",
              "    .dataframe tbody tr th:only-of-type {\n",
              "        vertical-align: middle;\n",
              "    }\n",
              "\n",
              "    .dataframe tbody tr th {\n",
              "        vertical-align: top;\n",
              "    }\n",
              "\n",
              "    .dataframe thead th {\n",
              "        text-align: right;\n",
              "    }\n",
              "</style>\n",
              "<table border=\"1\" class=\"dataframe\">\n",
              "  <thead>\n",
              "    <tr style=\"text-align: right;\">\n",
              "      <th></th>\n",
              "      <th>Clump Thickness</th>\n",
              "      <th>Uniformity of Cell Size</th>\n",
              "      <th>Uniformity of Cell Shape</th>\n",
              "      <th>Marginal Adhesion</th>\n",
              "      <th>Single Epithelial Cell Size</th>\n",
              "      <th>Bare Nuclei</th>\n",
              "      <th>Bland Chromatin</th>\n",
              "      <th>Normal Nucleoli</th>\n",
              "      <th>Mitoses</th>\n",
              "      <th>Class</th>\n",
              "    </tr>\n",
              "  </thead>\n",
              "  <tbody>\n",
              "    <tr>\n",
              "      <th>0</th>\n",
              "      <td>5</td>\n",
              "      <td>1</td>\n",
              "      <td>1</td>\n",
              "      <td>1</td>\n",
              "      <td>2</td>\n",
              "      <td>1.0</td>\n",
              "      <td>3</td>\n",
              "      <td>1</td>\n",
              "      <td>1</td>\n",
              "      <td>2</td>\n",
              "    </tr>\n",
              "    <tr>\n",
              "      <th>1</th>\n",
              "      <td>5</td>\n",
              "      <td>4</td>\n",
              "      <td>4</td>\n",
              "      <td>5</td>\n",
              "      <td>7</td>\n",
              "      <td>10.0</td>\n",
              "      <td>3</td>\n",
              "      <td>2</td>\n",
              "      <td>1</td>\n",
              "      <td>2</td>\n",
              "    </tr>\n",
              "    <tr>\n",
              "      <th>2</th>\n",
              "      <td>3</td>\n",
              "      <td>1</td>\n",
              "      <td>1</td>\n",
              "      <td>1</td>\n",
              "      <td>2</td>\n",
              "      <td>2.0</td>\n",
              "      <td>3</td>\n",
              "      <td>1</td>\n",
              "      <td>1</td>\n",
              "      <td>2</td>\n",
              "    </tr>\n",
              "    <tr>\n",
              "      <th>3</th>\n",
              "      <td>6</td>\n",
              "      <td>8</td>\n",
              "      <td>8</td>\n",
              "      <td>1</td>\n",
              "      <td>3</td>\n",
              "      <td>4.0</td>\n",
              "      <td>3</td>\n",
              "      <td>7</td>\n",
              "      <td>1</td>\n",
              "      <td>2</td>\n",
              "    </tr>\n",
              "    <tr>\n",
              "      <th>4</th>\n",
              "      <td>4</td>\n",
              "      <td>1</td>\n",
              "      <td>1</td>\n",
              "      <td>3</td>\n",
              "      <td>2</td>\n",
              "      <td>1.0</td>\n",
              "      <td>3</td>\n",
              "      <td>1</td>\n",
              "      <td>1</td>\n",
              "      <td>2</td>\n",
              "    </tr>\n",
              "    <tr>\n",
              "      <th>...</th>\n",
              "      <td>...</td>\n",
              "      <td>...</td>\n",
              "      <td>...</td>\n",
              "      <td>...</td>\n",
              "      <td>...</td>\n",
              "      <td>...</td>\n",
              "      <td>...</td>\n",
              "      <td>...</td>\n",
              "      <td>...</td>\n",
              "      <td>...</td>\n",
              "    </tr>\n",
              "    <tr>\n",
              "      <th>693</th>\n",
              "      <td>3</td>\n",
              "      <td>1</td>\n",
              "      <td>1</td>\n",
              "      <td>1</td>\n",
              "      <td>2</td>\n",
              "      <td>1.0</td>\n",
              "      <td>2</td>\n",
              "      <td>1</td>\n",
              "      <td>2</td>\n",
              "      <td>2</td>\n",
              "    </tr>\n",
              "    <tr>\n",
              "      <th>694</th>\n",
              "      <td>3</td>\n",
              "      <td>1</td>\n",
              "      <td>1</td>\n",
              "      <td>1</td>\n",
              "      <td>3</td>\n",
              "      <td>2.0</td>\n",
              "      <td>1</td>\n",
              "      <td>1</td>\n",
              "      <td>1</td>\n",
              "      <td>2</td>\n",
              "    </tr>\n",
              "    <tr>\n",
              "      <th>696</th>\n",
              "      <td>5</td>\n",
              "      <td>10</td>\n",
              "      <td>10</td>\n",
              "      <td>3</td>\n",
              "      <td>7</td>\n",
              "      <td>3.0</td>\n",
              "      <td>8</td>\n",
              "      <td>10</td>\n",
              "      <td>2</td>\n",
              "      <td>4</td>\n",
              "    </tr>\n",
              "    <tr>\n",
              "      <th>697</th>\n",
              "      <td>4</td>\n",
              "      <td>8</td>\n",
              "      <td>6</td>\n",
              "      <td>4</td>\n",
              "      <td>3</td>\n",
              "      <td>4.0</td>\n",
              "      <td>10</td>\n",
              "      <td>6</td>\n",
              "      <td>1</td>\n",
              "      <td>4</td>\n",
              "    </tr>\n",
              "    <tr>\n",
              "      <th>698</th>\n",
              "      <td>4</td>\n",
              "      <td>8</td>\n",
              "      <td>8</td>\n",
              "      <td>5</td>\n",
              "      <td>4</td>\n",
              "      <td>5.0</td>\n",
              "      <td>10</td>\n",
              "      <td>4</td>\n",
              "      <td>1</td>\n",
              "      <td>4</td>\n",
              "    </tr>\n",
              "  </tbody>\n",
              "</table>\n",
              "<p>399 rows × 10 columns</p>\n",
              "</div>\n",
              "      <button class=\"colab-df-convert\" onclick=\"convertToInteractive('df-67340d22-3eec-4693-8035-dc17a46db946')\"\n",
              "              title=\"Convert this dataframe to an interactive table.\"\n",
              "              style=\"display:none;\">\n",
              "        \n",
              "  <svg xmlns=\"http://www.w3.org/2000/svg\" height=\"24px\"viewBox=\"0 0 24 24\"\n",
              "       width=\"24px\">\n",
              "    <path d=\"M0 0h24v24H0V0z\" fill=\"none\"/>\n",
              "    <path d=\"M18.56 5.44l.94 2.06.94-2.06 2.06-.94-2.06-.94-.94-2.06-.94 2.06-2.06.94zm-11 1L8.5 8.5l.94-2.06 2.06-.94-2.06-.94L8.5 2.5l-.94 2.06-2.06.94zm10 10l.94 2.06.94-2.06 2.06-.94-2.06-.94-.94-2.06-.94 2.06-2.06.94z\"/><path d=\"M17.41 7.96l-1.37-1.37c-.4-.4-.92-.59-1.43-.59-.52 0-1.04.2-1.43.59L10.3 9.45l-7.72 7.72c-.78.78-.78 2.05 0 2.83L4 21.41c.39.39.9.59 1.41.59.51 0 1.02-.2 1.41-.59l7.78-7.78 2.81-2.81c.8-.78.8-2.07 0-2.86zM5.41 20L4 18.59l7.72-7.72 1.47 1.35L5.41 20z\"/>\n",
              "  </svg>\n",
              "      </button>\n",
              "      \n",
              "  <style>\n",
              "    .colab-df-container {\n",
              "      display:flex;\n",
              "      flex-wrap:wrap;\n",
              "      gap: 12px;\n",
              "    }\n",
              "\n",
              "    .colab-df-convert {\n",
              "      background-color: #E8F0FE;\n",
              "      border: none;\n",
              "      border-radius: 50%;\n",
              "      cursor: pointer;\n",
              "      display: none;\n",
              "      fill: #1967D2;\n",
              "      height: 32px;\n",
              "      padding: 0 0 0 0;\n",
              "      width: 32px;\n",
              "    }\n",
              "\n",
              "    .colab-df-convert:hover {\n",
              "      background-color: #E2EBFA;\n",
              "      box-shadow: 0px 1px 2px rgba(60, 64, 67, 0.3), 0px 1px 3px 1px rgba(60, 64, 67, 0.15);\n",
              "      fill: #174EA6;\n",
              "    }\n",
              "\n",
              "    [theme=dark] .colab-df-convert {\n",
              "      background-color: #3B4455;\n",
              "      fill: #D2E3FC;\n",
              "    }\n",
              "\n",
              "    [theme=dark] .colab-df-convert:hover {\n",
              "      background-color: #434B5C;\n",
              "      box-shadow: 0px 1px 3px 1px rgba(0, 0, 0, 0.15);\n",
              "      filter: drop-shadow(0px 1px 2px rgba(0, 0, 0, 0.3));\n",
              "      fill: #FFFFFF;\n",
              "    }\n",
              "  </style>\n",
              "\n",
              "      <script>\n",
              "        const buttonEl =\n",
              "          document.querySelector('#df-67340d22-3eec-4693-8035-dc17a46db946 button.colab-df-convert');\n",
              "        buttonEl.style.display =\n",
              "          google.colab.kernel.accessAllowed ? 'block' : 'none';\n",
              "\n",
              "        async function convertToInteractive(key) {\n",
              "          const element = document.querySelector('#df-67340d22-3eec-4693-8035-dc17a46db946');\n",
              "          const dataTable =\n",
              "            await google.colab.kernel.invokeFunction('convertToInteractive',\n",
              "                                                     [key], {});\n",
              "          if (!dataTable) return;\n",
              "\n",
              "          const docLinkHtml = 'Like what you see? Visit the ' +\n",
              "            '<a target=\"_blank\" href=https://colab.research.google.com/notebooks/data_table.ipynb>data table notebook</a>'\n",
              "            + ' to learn more about interactive tables.';\n",
              "          element.innerHTML = '';\n",
              "          dataTable['output_type'] = 'display_data';\n",
              "          await google.colab.output.renderOutput(dataTable, element);\n",
              "          const docLink = document.createElement('div');\n",
              "          docLink.innerHTML = docLinkHtml;\n",
              "          element.appendChild(docLink);\n",
              "        }\n",
              "      </script>\n",
              "    </div>\n",
              "  </div>\n",
              "  "
            ]
          },
          "metadata": {},
          "execution_count": 4
        }
      ],
      "source": [
        "# Select only the rows at index locations that were not nans, duplicates, or outliers\n",
        "data_clean = data.loc[~((inds_nans(data) | inds_dups(data)) | inds_outliers(data)),:]\n",
        "\n",
        "data_clean"
      ]
    },
    {
      "cell_type": "markdown",
      "metadata": {
        "id": "Y-vpFy7yVe55"
      },
      "source": [
        "Next we normalize the data using the code from Lab 3 so the features will have approximately normal distributions."
      ]
    },
    {
      "cell_type": "code",
      "execution_count": 5,
      "metadata": {
        "id": "598Oqfu1Ve55",
        "colab": {
          "base_uri": "https://localhost:8080/"
        },
        "outputId": "d5405d4c-b840-4500-8478-d56112d53997"
      },
      "outputs": [
        {
          "output_type": "stream",
          "name": "stderr",
          "text": [
            "/usr/local/lib/python3.7/dist-packages/pandas/core/frame.py:3678: SettingWithCopyWarning: \n",
            "A value is trying to be set on a copy of a slice from a DataFrame.\n",
            "Try using .loc[row_indexer,col_indexer] = value instead\n",
            "\n",
            "See the caveats in the documentation: https://pandas.pydata.org/pandas-docs/stable/user_guide/indexing.html#returning-a-view-versus-a-copy\n",
            "  self[col] = igetitem(value, i)\n"
          ]
        }
      ],
      "source": [
        "from sklearn import preprocessing\n",
        "\n",
        "# Normalize the feature columns\n",
        "data_clean[data_clean.columns[:-1]] = preprocessing.normalize(data_clean[data_clean.columns[:-1]], norm='l2')"
      ]
    },
    {
      "cell_type": "markdown",
      "metadata": {
        "id": "iTiynl4KVe55"
      },
      "source": [
        "data_clean"
      ]
    },
    {
      "cell_type": "markdown",
      "metadata": {
        "id": "6AFJYsK6Ve55"
      },
      "source": [
        "Split the data into a training and test set with 70% train and 30% test. Use the `seed` variable to set the random state."
      ]
    },
    {
      "cell_type": "code",
      "execution_count": 18,
      "metadata": {
        "id": "Nd-yCoWAVe55"
      },
      "outputs": [],
      "source": [
        "from sklearn.model_selection import train_test_split\n",
        "\n",
        "# YOUR CODE HERE\n",
        "train = data_clean.sample(frac=0.7, random_state=seed)\n",
        "test = data_clean.drop(train.index)\n",
        "\n",
        "X_train, y_train = train.drop(labels=['Class'], axis=1), train['Class']\n",
        "X_test, y_test = test.drop(labels=['Class'], axis=1), test['Class']"
      ]
    },
    {
      "cell_type": "markdown",
      "metadata": {
        "id": "WaDjAarsVe55"
      },
      "source": [
        "### Train a Gaussian Naive Bayes classifier\n",
        "\n",
        "Use the GaussianNB object in sklearn to fit a Gaussian Naive Bayes classifier and predict the class labels for the test set based on probabilities estimated from the training set. \n"
      ]
    },
    {
      "cell_type": "code",
      "execution_count": 19,
      "metadata": {
        "id": "7nfm1IhYVe55"
      },
      "outputs": [],
      "source": [
        "from sklearn.naive_bayes import GaussianNB\n",
        "\n",
        "gnb = GaussianNB()\n",
        "\n",
        "# Fit the model parameters using the training data\n",
        "gnb = gnb.fit(X_train, y_train)"
      ]
    },
    {
      "cell_type": "code",
      "execution_count": 20,
      "metadata": {
        "id": "IIKtsP1zVe56"
      },
      "outputs": [],
      "source": [
        "# Predict the test set classes using the trained model\n",
        "y_pred_gnb = gnb.predict(X_test)"
      ]
    },
    {
      "cell_type": "markdown",
      "metadata": {
        "id": "JwRXQSaqVe56"
      },
      "source": [
        "Compute the accuracy of this model on the test set."
      ]
    },
    {
      "cell_type": "code",
      "execution_count": 22,
      "metadata": {
        "id": "rAm7Yg6JVe56",
        "colab": {
          "base_uri": "https://localhost:8080/"
        },
        "outputId": "5ff93c76-7592-4d23-82cc-6bf2952459c1"
      },
      "outputs": [
        {
          "output_type": "execute_result",
          "data": {
            "text/plain": [
              "0.8583333333333333"
            ]
          },
          "metadata": {},
          "execution_count": 22
        }
      ],
      "source": [
        "from sklearn.metrics import accuracy_score\n",
        "# YOUR CODE HERE\n",
        "accuracy_score(y_test, y_pred_gnb)"
      ]
    },
    {
      "cell_type": "markdown",
      "metadata": {
        "id": "oCwrYzA6Ve56"
      },
      "source": [
        "### Train a Logistic Regression classifier\n",
        "\n",
        "Use the LogisticRegression class in sklearn to fit a Logistic Regression classifier and predict the class labels for the test set."
      ]
    },
    {
      "cell_type": "code",
      "execution_count": 23,
      "metadata": {
        "id": "A5InKoGUVe56"
      },
      "outputs": [],
      "source": [
        "from sklearn.linear_model import LogisticRegression\n",
        "\n",
        "# Instantiate a logistic regression classifier and fit it to the training data\n",
        "lr = LogisticRegression(random_state=seed)\n",
        "lr = lr.fit(X_train, y_train)"
      ]
    },
    {
      "cell_type": "code",
      "execution_count": 24,
      "metadata": {
        "id": "pcL3NNVAVe56"
      },
      "outputs": [],
      "source": [
        "# Predict the test set classes using the trained model\n",
        "\n",
        "y_pred_lr = lr.predict(X_test) # YOUR CODE HERE"
      ]
    },
    {
      "cell_type": "markdown",
      "metadata": {
        "id": "__iNvVY5Ve56"
      },
      "source": [
        "Compute the accuracy of this model on the test set."
      ]
    },
    {
      "cell_type": "code",
      "execution_count": 25,
      "metadata": {
        "id": "tT8ni7V1Ve56",
        "colab": {
          "base_uri": "https://localhost:8080/"
        },
        "outputId": "2eb37c1c-03c1-46b5-960d-ba3a223a1ee2"
      },
      "outputs": [
        {
          "output_type": "execute_result",
          "data": {
            "text/plain": [
              "0.875"
            ]
          },
          "metadata": {},
          "execution_count": 25
        }
      ],
      "source": [
        "# YOUR CODE HERE\n",
        "\n",
        "accuracy_score(y_test, y_pred_lr)"
      ]
    },
    {
      "cell_type": "markdown",
      "metadata": {
        "id": "UY3pRpUoVe56"
      },
      "source": [
        "### Train a k Nearest Neighbors classifier\n",
        "\n",
        "Use the KNeighborsClassifier class in sklearn to train a kNN classifier and predict the class labels for the test set. We will use Euclidean distance with $k=5$."
      ]
    },
    {
      "cell_type": "code",
      "execution_count": 26,
      "metadata": {
        "id": "JzgnaZeoVe56",
        "colab": {
          "base_uri": "https://localhost:8080/"
        },
        "outputId": "b0b180f6-e8fa-45bd-ad24-2b2aacb70aa2"
      },
      "outputs": [
        {
          "output_type": "execute_result",
          "data": {
            "text/plain": [
              "KNeighborsClassifier(metric='euclidean')"
            ]
          },
          "metadata": {},
          "execution_count": 26
        }
      ],
      "source": [
        "from sklearn.neighbors import KNeighborsClassifier\n",
        "\n",
        "knn = KNeighborsClassifier(n_neighbors=5, metric='euclidean')\n",
        "knn.fit(X_train, y_train)"
      ]
    },
    {
      "cell_type": "code",
      "execution_count": 27,
      "metadata": {
        "scrolled": false,
        "id": "ozdlO-WlVe56"
      },
      "outputs": [],
      "source": [
        "# Predict the test set classes using the trained model\n",
        "\n",
        "y_pred_knn = knn.predict(X_test) # YOUR CODE HERE"
      ]
    },
    {
      "cell_type": "markdown",
      "metadata": {
        "id": "iph9uymFVe56"
      },
      "source": [
        "Compute the accuracy of this model on the test set."
      ]
    },
    {
      "cell_type": "code",
      "execution_count": 28,
      "metadata": {
        "id": "DFzQOq8QVe56",
        "colab": {
          "base_uri": "https://localhost:8080/"
        },
        "outputId": "4736c303-3505-42aa-de12-92bbede99d96"
      },
      "outputs": [
        {
          "output_type": "execute_result",
          "data": {
            "text/plain": [
              "0.9"
            ]
          },
          "metadata": {},
          "execution_count": 28
        }
      ],
      "source": [
        "# YOUR CODE HERE\n",
        "accuracy_score(y_test, y_pred_knn)"
      ]
    },
    {
      "cell_type": "markdown",
      "metadata": {
        "id": "hZ5ImTXHVe57"
      },
      "source": [
        "**Question 1: What is the test accuracy for each of the 3 models (rounded to 2 decimal places)?**\n",
        "\n",
        "**Answer:**\n",
        "\n",
        "The test accuracy scores for Gaussian Naive Bayes, Logistic Regression and k Nearest Neighbors classifiers are 0.86, 0.88 and 0.90 respectively."
      ]
    },
    {
      "cell_type": "markdown",
      "metadata": {
        "id": "gPpjncqdVe57"
      },
      "source": [
        "### Creating an ensemble VotingClassifier\n",
        "\n",
        "We will use the [VotingClassifier](https://scikit-learn.org/stable/modules/ensemble.html#voting-classifier) class in sklearn to combine the predictions of these 3 models using majority vote."
      ]
    },
    {
      "cell_type": "code",
      "execution_count": 30,
      "metadata": {
        "id": "0jGixlThVe57"
      },
      "outputs": [],
      "source": [
        "from sklearn.ensemble import VotingClassifier"
      ]
    },
    {
      "cell_type": "code",
      "execution_count": 31,
      "metadata": {
        "id": "OVTwZ_06Ve57",
        "colab": {
          "base_uri": "https://localhost:8080/"
        },
        "outputId": "f8342d2c-d196-4f36-f306-0d8c250bff63"
      },
      "outputs": [
        {
          "output_type": "execute_result",
          "data": {
            "text/plain": [
              "VotingClassifier(estimators=[('gnb', GaussianNB()),\n",
              "                             ('lr', LogisticRegression(random_state=0)),\n",
              "                             ('knn', KNeighborsClassifier(metric='euclidean'))],\n",
              "                 voting='soft')"
            ]
          },
          "metadata": {},
          "execution_count": 31
        }
      ],
      "source": [
        "ensemble = VotingClassifier(estimators=[('gnb', gnb), ('lr', lr), ('knn', knn)], voting='soft')\n",
        "\n",
        "ensemble.fit(X_train, y_train)"
      ]
    },
    {
      "cell_type": "markdown",
      "metadata": {
        "id": "FmuzU0AtVe57"
      },
      "source": [
        "**Question 2: What is the effect of setting the `voting=soft` vs. `voting=hard` parameter in the VotingClassifier? You can consult the documentation to answer this question.**\n",
        "\n",
        "**Answer:**\n",
        "\n",
        "Hard voting would select the class with the highest weighted frequency among the classes predicted by each individual model. For soft voting, the class with the highest weighted average probability is returned."
      ]
    },
    {
      "cell_type": "code",
      "execution_count": 32,
      "metadata": {
        "id": "6yr4M8p5Ve57",
        "colab": {
          "base_uri": "https://localhost:8080/"
        },
        "outputId": "21e54259-659a-43cb-c7ba-7c6dafc9b9f8"
      },
      "outputs": [
        {
          "output_type": "stream",
          "name": "stdout",
          "text": [
            "Accuracy: 0.86 [Naive Bayes]\n",
            "Accuracy: 0.88 [Logistic Regression]\n",
            "Accuracy: 0.90 [k Nearest Neighbors]\n",
            "Accuracy: 0.88 [Ensemble]\n"
          ]
        }
      ],
      "source": [
        "for clf, label in zip([gnb, lr, knn, ensemble], ['Naive Bayes', 'Logistic Regression', 'k Nearest Neighbors', 'Ensemble']):\n",
        "    score = accuracy_score(clf.predict(X_test), y_test)\n",
        "    print(\"Accuracy: %0.2f [%s]\" % (score, label))"
      ]
    },
    {
      "cell_type": "markdown",
      "metadata": {
        "id": "TwaFD6uDVe57"
      },
      "source": [
        "## Ensemble using boosting\n",
        "\n",
        "Another method for ensembling classifiers to improve the performance over any single classifier is using a technique called boosting. Boosting uses an iterative procedure to adaptively change the distribution of the training data by focusing more on previously misclassified samples each time a new classifier is trained. In the second exercise, you will implement the [AdaBoost](https://scikit-learn.org/stable/modules/generated/sklearn.ensemble.AdaBoostClassifier.html#sklearn.ensemble.AdaBoostClassifier) algorithm using a decision tree as the base classifier (the sklearn implementation uses a decision tree by default).\n",
        "\n",
        "You will use the same Wisconsin breast cancer dataset as in the previous exercise."
      ]
    },
    {
      "cell_type": "markdown",
      "metadata": {
        "id": "n1GE_beyVe57"
      },
      "source": [
        "### Train AdaBoost with decision tree\n",
        "\n",
        "Use the AdaBoost algorithm to train an ensemble of decision trees. Use 50 trees for the ensemble."
      ]
    },
    {
      "cell_type": "code",
      "execution_count": 33,
      "metadata": {
        "id": "PepNB8ZUVe57",
        "colab": {
          "base_uri": "https://localhost:8080/"
        },
        "outputId": "21313309-aeed-4480-b22f-652428a31cdf"
      },
      "outputs": [
        {
          "output_type": "execute_result",
          "data": {
            "text/plain": [
              "AdaBoostClassifier(random_state=0)"
            ]
          },
          "metadata": {},
          "execution_count": 33
        }
      ],
      "source": [
        "from sklearn.ensemble import AdaBoostClassifier\n",
        "\n",
        "ada = AdaBoostClassifier(n_estimators=50, random_state=seed)\n",
        "# Train the model\n",
        "ada.fit(X_train, y_train)"
      ]
    },
    {
      "cell_type": "code",
      "execution_count": 34,
      "metadata": {
        "scrolled": false,
        "id": "BxfEH8DQVe57"
      },
      "outputs": [],
      "source": [
        "# Predict the test set classes using the trained model\n",
        "\n",
        "y_pred_ada = ada.predict(X_test) # YOUR CODE HERE"
      ]
    },
    {
      "cell_type": "markdown",
      "metadata": {
        "id": "srXNWsaVVe57"
      },
      "source": [
        "Compute the accuracy of this model on the test set."
      ]
    },
    {
      "cell_type": "code",
      "execution_count": 35,
      "metadata": {
        "id": "bCzQEdj1Ve57",
        "colab": {
          "base_uri": "https://localhost:8080/"
        },
        "outputId": "e7afb610-9cc0-402d-e922-b78852f02260"
      },
      "outputs": [
        {
          "output_type": "execute_result",
          "data": {
            "text/plain": [
              "0.9083333333333333"
            ]
          },
          "metadata": {},
          "execution_count": 35
        }
      ],
      "source": [
        "# YOUR CODE HERE\n",
        "accuracy_score(y_test, y_pred_ada)"
      ]
    },
    {
      "cell_type": "code",
      "source": [],
      "metadata": {
        "id": "NvPT0rK0fLQL"
      },
      "execution_count": null,
      "outputs": []
    }
  ],
  "metadata": {
    "kernelspec": {
      "display_name": "Python 3 (ipykernel)",
      "language": "python",
      "name": "python3"
    },
    "language_info": {
      "codemirror_mode": {
        "name": "ipython",
        "version": 3
      },
      "file_extension": ".py",
      "mimetype": "text/x-python",
      "name": "python",
      "nbconvert_exporter": "python",
      "pygments_lexer": "ipython3",
      "version": "3.9.13"
    },
    "colab": {
      "provenance": []
    }
  },
  "nbformat": 4,
  "nbformat_minor": 0
}