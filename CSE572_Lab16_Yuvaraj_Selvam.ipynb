{
  "cells": [
    {
      "cell_type": "markdown",
      "metadata": {
        "id": "gePiDR3IHIeW"
      },
      "source": [
        "# CSE 572: Lab 16\n",
        "\n",
        "In this lab, you will practice measuring cluster validity with unsupervised metrics and applying clustering to a real world problem.\n",
        "\n",
        "To execute and make changes to this notebook, click File > Save a copy to save your own version in your Google Drive or Github. Read the step-by-step instructions below carefully. To execute the code, click on each cell below and press the SHIFT-ENTER keys simultaneously or by clicking the Play button. \n",
        "\n",
        "When you finish executing all code/exercises, save your notebook then download a copy (.ipynb file). Submit the following **three** things:\n",
        "1. a link to your Colab notebook,\n",
        "2. the .ipynb file, and\n",
        "3. a pdf of the executed notebook on Canvas.\n",
        "\n",
        "To generate a pdf of the notebook, click File > Print > Save as PDF."
      ]
    },
    {
      "cell_type": "markdown",
      "metadata": {
        "id": "kStM_HnWHIeY"
      },
      "source": [
        "## Scenario 🎃\n",
        "\n",
        "You have been hired by Costco to design the assorted Halloween candy mix bags that they will sell this Halloween. Since people tend to have different candy preferences (e.g., chocolate-y, fruity, sugar-y, etc.), they want you to create the mixes so there are similar types of candies in each bag and that you maximize the diversity across bags.\n",
        "\n",
        "Luckily, you have access to a [dataset collected by FiveThirtyEight](https://fivethirtyeight.com/videos/the-ultimate-halloween-candy-power-ranking/) that aggregates the feedback from more than 269,000 votes were collected from 8,371 different IP addresses. Data were collected through a survey where participants were shown two fun-sized candies and asked to click on the one they would prefer to receive. The survey results were aggregated into a table with one row per candy type. The attributes for each candy type describe the candy flavor profile (e.g., does it have chocolate? does it have caramel? is it a hard or soft candy?), the sugar percentage, the price percentage, and the win percentage (indicating the percentage of the time that the candy won in the survey matchup). \n",
        "\n",
        "Your goal is to use clustering algorithms to determine how the candies should be grouped into assorted bags (including the number of bags to create). You will create multiple clusterings and use cluster validity measures to evaluate which clustering is best. You will use your final choice of clustering to determine the groups of candy to create for each of the candy mix bags."
      ]
    },
    {
      "cell_type": "markdown",
      "metadata": {
        "id": "1ICygog0HIeY"
      },
      "source": [
        "### Load the dataset"
      ]
    },
    {
      "cell_type": "code",
      "execution_count": 70,
      "metadata": {
        "id": "A7OfdbYiHIeY"
      },
      "outputs": [],
      "source": [
        "import pandas as pd\n",
        "df = pd.read_csv('https://query.data.world/s/r466lc6rgojrhdzdqchnfhxqvifz7m')"
      ]
    },
    {
      "cell_type": "code",
      "execution_count": 71,
      "metadata": {
        "id": "bKMAndS1HIeZ",
        "colab": {
          "base_uri": "https://localhost:8080/",
          "height": 407
        },
        "outputId": "73f97aa2-45cd-46c8-f15e-89b2986b28e8"
      },
      "outputs": [
        {
          "output_type": "execute_result",
          "data": {
            "text/plain": [
              "              competitorname  chocolate  fruity  caramel  peanutyalmondy  \\\n",
              "62           Nestle Smarties          1       0        0               0   \n",
              "24  HersheyÕs Milk Chocolate          1       0        0               0   \n",
              "35                 Milk Duds          1       0        1               0   \n",
              "71               Sugar Daddy          0       0        1               0   \n",
              "46                    Payday          0       0        0               1   \n",
              "45               Now & Later          0       1        0               0   \n",
              "10           Charleston Chew          1       0        0               0   \n",
              "33                     M&MÕs          1       0        0               0   \n",
              "2                   One dime          0       0        0               0   \n",
              "34                Mike & Ike          0       1        0               0   \n",
              "\n",
              "    nougat  crispedricewafer  hard  bar  pluribus  sugarpercent  pricepercent  \\\n",
              "62       0                 0     0    0         1         0.267         0.976   \n",
              "24       0                 0     0    1         0         0.430         0.918   \n",
              "35       0                 0     0    0         1         0.302         0.511   \n",
              "71       0                 0     0    0         0         0.418         0.325   \n",
              "46       1                 0     0    1         0         0.465         0.767   \n",
              "45       0                 0     0    0         1         0.220         0.325   \n",
              "10       1                 0     0    1         0         0.604         0.511   \n",
              "33       0                 0     0    0         1         0.825         0.651   \n",
              "2        0                 0     0    0         0         0.011         0.116   \n",
              "34       0                 0     0    0         1         0.872         0.325   \n",
              "\n",
              "    winpercent  \n",
              "62   37.887188  \n",
              "24   56.490501  \n",
              "35   55.064072  \n",
              "71   32.230995  \n",
              "46   46.296597  \n",
              "45   39.446800  \n",
              "10   38.975037  \n",
              "33   66.574585  \n",
              "2    32.261086  \n",
              "34   46.411716  "
            ],
            "text/html": [
              "\n",
              "  <div id=\"df-5125833d-56c8-4b45-bd22-e56bae531d9a\">\n",
              "    <div class=\"colab-df-container\">\n",
              "      <div>\n",
              "<style scoped>\n",
              "    .dataframe tbody tr th:only-of-type {\n",
              "        vertical-align: middle;\n",
              "    }\n",
              "\n",
              "    .dataframe tbody tr th {\n",
              "        vertical-align: top;\n",
              "    }\n",
              "\n",
              "    .dataframe thead th {\n",
              "        text-align: right;\n",
              "    }\n",
              "</style>\n",
              "<table border=\"1\" class=\"dataframe\">\n",
              "  <thead>\n",
              "    <tr style=\"text-align: right;\">\n",
              "      <th></th>\n",
              "      <th>competitorname</th>\n",
              "      <th>chocolate</th>\n",
              "      <th>fruity</th>\n",
              "      <th>caramel</th>\n",
              "      <th>peanutyalmondy</th>\n",
              "      <th>nougat</th>\n",
              "      <th>crispedricewafer</th>\n",
              "      <th>hard</th>\n",
              "      <th>bar</th>\n",
              "      <th>pluribus</th>\n",
              "      <th>sugarpercent</th>\n",
              "      <th>pricepercent</th>\n",
              "      <th>winpercent</th>\n",
              "    </tr>\n",
              "  </thead>\n",
              "  <tbody>\n",
              "    <tr>\n",
              "      <th>62</th>\n",
              "      <td>Nestle Smarties</td>\n",
              "      <td>1</td>\n",
              "      <td>0</td>\n",
              "      <td>0</td>\n",
              "      <td>0</td>\n",
              "      <td>0</td>\n",
              "      <td>0</td>\n",
              "      <td>0</td>\n",
              "      <td>0</td>\n",
              "      <td>1</td>\n",
              "      <td>0.267</td>\n",
              "      <td>0.976</td>\n",
              "      <td>37.887188</td>\n",
              "    </tr>\n",
              "    <tr>\n",
              "      <th>24</th>\n",
              "      <td>HersheyÕs Milk Chocolate</td>\n",
              "      <td>1</td>\n",
              "      <td>0</td>\n",
              "      <td>0</td>\n",
              "      <td>0</td>\n",
              "      <td>0</td>\n",
              "      <td>0</td>\n",
              "      <td>0</td>\n",
              "      <td>1</td>\n",
              "      <td>0</td>\n",
              "      <td>0.430</td>\n",
              "      <td>0.918</td>\n",
              "      <td>56.490501</td>\n",
              "    </tr>\n",
              "    <tr>\n",
              "      <th>35</th>\n",
              "      <td>Milk Duds</td>\n",
              "      <td>1</td>\n",
              "      <td>0</td>\n",
              "      <td>1</td>\n",
              "      <td>0</td>\n",
              "      <td>0</td>\n",
              "      <td>0</td>\n",
              "      <td>0</td>\n",
              "      <td>0</td>\n",
              "      <td>1</td>\n",
              "      <td>0.302</td>\n",
              "      <td>0.511</td>\n",
              "      <td>55.064072</td>\n",
              "    </tr>\n",
              "    <tr>\n",
              "      <th>71</th>\n",
              "      <td>Sugar Daddy</td>\n",
              "      <td>0</td>\n",
              "      <td>0</td>\n",
              "      <td>1</td>\n",
              "      <td>0</td>\n",
              "      <td>0</td>\n",
              "      <td>0</td>\n",
              "      <td>0</td>\n",
              "      <td>0</td>\n",
              "      <td>0</td>\n",
              "      <td>0.418</td>\n",
              "      <td>0.325</td>\n",
              "      <td>32.230995</td>\n",
              "    </tr>\n",
              "    <tr>\n",
              "      <th>46</th>\n",
              "      <td>Payday</td>\n",
              "      <td>0</td>\n",
              "      <td>0</td>\n",
              "      <td>0</td>\n",
              "      <td>1</td>\n",
              "      <td>1</td>\n",
              "      <td>0</td>\n",
              "      <td>0</td>\n",
              "      <td>1</td>\n",
              "      <td>0</td>\n",
              "      <td>0.465</td>\n",
              "      <td>0.767</td>\n",
              "      <td>46.296597</td>\n",
              "    </tr>\n",
              "    <tr>\n",
              "      <th>45</th>\n",
              "      <td>Now &amp; Later</td>\n",
              "      <td>0</td>\n",
              "      <td>1</td>\n",
              "      <td>0</td>\n",
              "      <td>0</td>\n",
              "      <td>0</td>\n",
              "      <td>0</td>\n",
              "      <td>0</td>\n",
              "      <td>0</td>\n",
              "      <td>1</td>\n",
              "      <td>0.220</td>\n",
              "      <td>0.325</td>\n",
              "      <td>39.446800</td>\n",
              "    </tr>\n",
              "    <tr>\n",
              "      <th>10</th>\n",
              "      <td>Charleston Chew</td>\n",
              "      <td>1</td>\n",
              "      <td>0</td>\n",
              "      <td>0</td>\n",
              "      <td>0</td>\n",
              "      <td>1</td>\n",
              "      <td>0</td>\n",
              "      <td>0</td>\n",
              "      <td>1</td>\n",
              "      <td>0</td>\n",
              "      <td>0.604</td>\n",
              "      <td>0.511</td>\n",
              "      <td>38.975037</td>\n",
              "    </tr>\n",
              "    <tr>\n",
              "      <th>33</th>\n",
              "      <td>M&amp;MÕs</td>\n",
              "      <td>1</td>\n",
              "      <td>0</td>\n",
              "      <td>0</td>\n",
              "      <td>0</td>\n",
              "      <td>0</td>\n",
              "      <td>0</td>\n",
              "      <td>0</td>\n",
              "      <td>0</td>\n",
              "      <td>1</td>\n",
              "      <td>0.825</td>\n",
              "      <td>0.651</td>\n",
              "      <td>66.574585</td>\n",
              "    </tr>\n",
              "    <tr>\n",
              "      <th>2</th>\n",
              "      <td>One dime</td>\n",
              "      <td>0</td>\n",
              "      <td>0</td>\n",
              "      <td>0</td>\n",
              "      <td>0</td>\n",
              "      <td>0</td>\n",
              "      <td>0</td>\n",
              "      <td>0</td>\n",
              "      <td>0</td>\n",
              "      <td>0</td>\n",
              "      <td>0.011</td>\n",
              "      <td>0.116</td>\n",
              "      <td>32.261086</td>\n",
              "    </tr>\n",
              "    <tr>\n",
              "      <th>34</th>\n",
              "      <td>Mike &amp; Ike</td>\n",
              "      <td>0</td>\n",
              "      <td>1</td>\n",
              "      <td>0</td>\n",
              "      <td>0</td>\n",
              "      <td>0</td>\n",
              "      <td>0</td>\n",
              "      <td>0</td>\n",
              "      <td>0</td>\n",
              "      <td>1</td>\n",
              "      <td>0.872</td>\n",
              "      <td>0.325</td>\n",
              "      <td>46.411716</td>\n",
              "    </tr>\n",
              "  </tbody>\n",
              "</table>\n",
              "</div>\n",
              "      <button class=\"colab-df-convert\" onclick=\"convertToInteractive('df-5125833d-56c8-4b45-bd22-e56bae531d9a')\"\n",
              "              title=\"Convert this dataframe to an interactive table.\"\n",
              "              style=\"display:none;\">\n",
              "        \n",
              "  <svg xmlns=\"http://www.w3.org/2000/svg\" height=\"24px\"viewBox=\"0 0 24 24\"\n",
              "       width=\"24px\">\n",
              "    <path d=\"M0 0h24v24H0V0z\" fill=\"none\"/>\n",
              "    <path d=\"M18.56 5.44l.94 2.06.94-2.06 2.06-.94-2.06-.94-.94-2.06-.94 2.06-2.06.94zm-11 1L8.5 8.5l.94-2.06 2.06-.94-2.06-.94L8.5 2.5l-.94 2.06-2.06.94zm10 10l.94 2.06.94-2.06 2.06-.94-2.06-.94-.94-2.06-.94 2.06-2.06.94z\"/><path d=\"M17.41 7.96l-1.37-1.37c-.4-.4-.92-.59-1.43-.59-.52 0-1.04.2-1.43.59L10.3 9.45l-7.72 7.72c-.78.78-.78 2.05 0 2.83L4 21.41c.39.39.9.59 1.41.59.51 0 1.02-.2 1.41-.59l7.78-7.78 2.81-2.81c.8-.78.8-2.07 0-2.86zM5.41 20L4 18.59l7.72-7.72 1.47 1.35L5.41 20z\"/>\n",
              "  </svg>\n",
              "      </button>\n",
              "      \n",
              "  <style>\n",
              "    .colab-df-container {\n",
              "      display:flex;\n",
              "      flex-wrap:wrap;\n",
              "      gap: 12px;\n",
              "    }\n",
              "\n",
              "    .colab-df-convert {\n",
              "      background-color: #E8F0FE;\n",
              "      border: none;\n",
              "      border-radius: 50%;\n",
              "      cursor: pointer;\n",
              "      display: none;\n",
              "      fill: #1967D2;\n",
              "      height: 32px;\n",
              "      padding: 0 0 0 0;\n",
              "      width: 32px;\n",
              "    }\n",
              "\n",
              "    .colab-df-convert:hover {\n",
              "      background-color: #E2EBFA;\n",
              "      box-shadow: 0px 1px 2px rgba(60, 64, 67, 0.3), 0px 1px 3px 1px rgba(60, 64, 67, 0.15);\n",
              "      fill: #174EA6;\n",
              "    }\n",
              "\n",
              "    [theme=dark] .colab-df-convert {\n",
              "      background-color: #3B4455;\n",
              "      fill: #D2E3FC;\n",
              "    }\n",
              "\n",
              "    [theme=dark] .colab-df-convert:hover {\n",
              "      background-color: #434B5C;\n",
              "      box-shadow: 0px 1px 3px 1px rgba(0, 0, 0, 0.15);\n",
              "      filter: drop-shadow(0px 1px 2px rgba(0, 0, 0, 0.3));\n",
              "      fill: #FFFFFF;\n",
              "    }\n",
              "  </style>\n",
              "\n",
              "      <script>\n",
              "        const buttonEl =\n",
              "          document.querySelector('#df-5125833d-56c8-4b45-bd22-e56bae531d9a button.colab-df-convert');\n",
              "        buttonEl.style.display =\n",
              "          google.colab.kernel.accessAllowed ? 'block' : 'none';\n",
              "\n",
              "        async function convertToInteractive(key) {\n",
              "          const element = document.querySelector('#df-5125833d-56c8-4b45-bd22-e56bae531d9a');\n",
              "          const dataTable =\n",
              "            await google.colab.kernel.invokeFunction('convertToInteractive',\n",
              "                                                     [key], {});\n",
              "          if (!dataTable) return;\n",
              "\n",
              "          const docLinkHtml = 'Like what you see? Visit the ' +\n",
              "            '<a target=\"_blank\" href=https://colab.research.google.com/notebooks/data_table.ipynb>data table notebook</a>'\n",
              "            + ' to learn more about interactive tables.';\n",
              "          element.innerHTML = '';\n",
              "          dataTable['output_type'] = 'display_data';\n",
              "          await google.colab.output.renderOutput(dataTable, element);\n",
              "          const docLink = document.createElement('div');\n",
              "          docLink.innerHTML = docLinkHtml;\n",
              "          element.appendChild(docLink);\n",
              "        }\n",
              "      </script>\n",
              "    </div>\n",
              "  </div>\n",
              "  "
            ]
          },
          "metadata": {},
          "execution_count": 71
        }
      ],
      "source": [
        "df.sample(10)"
      ]
    },
    {
      "cell_type": "markdown",
      "metadata": {
        "id": "MXaDUJqPHIeZ"
      },
      "source": [
        "We will create a separate numpy array that contains only the columns that we want to use for clustering (i.e., excludes the `competitorname` and `winpercent` columns)."
      ]
    },
    {
      "cell_type": "code",
      "execution_count": 72,
      "metadata": {
        "id": "hAgheMSrHIeZ"
      },
      "outputs": [],
      "source": [
        "data = df.to_numpy()[:,1:-1]"
      ]
    },
    {
      "cell_type": "markdown",
      "metadata": {
        "id": "R63jQNWEHIea"
      },
      "source": [
        "Before we start applying and evaluating our clustering algorithms, we might first want to try to visualize the data to see what sort of structure exists. One way to visualize our data is using a scatter plot of a pair of features, e.g., sugarpercent and pricepercent."
      ]
    },
    {
      "cell_type": "code",
      "execution_count": 73,
      "metadata": {
        "id": "VLcyr4vwHIea",
        "colab": {
          "base_uri": "https://localhost:8080/",
          "height": 297
        },
        "outputId": "97d61f92-d4d7-4843-d534-44ace25dd6aa"
      },
      "outputs": [
        {
          "output_type": "execute_result",
          "data": {
            "text/plain": [
              "<matplotlib.axes._subplots.AxesSubplot at 0x7f7a75e8d590>"
            ]
          },
          "metadata": {},
          "execution_count": 73
        },
        {
          "output_type": "display_data",
          "data": {
            "text/plain": [
              "<Figure size 432x288 with 1 Axes>"
            ],
            "image/png": "[encoded data removed]"
          },
          "metadata": {
            "needs_background": "light"
          }
        }
      ],
      "source": [
        "df.plot.scatter('sugarpercent', 'pricepercent')"
      ]
    },
    {
      "cell_type": "markdown",
      "metadata": {
        "id": "BoEdcdcxHIea"
      },
      "source": [
        "Another way to visualize our 11-dimensional dataset is by reducing the dimensionality to 2 using PCA, then plotting the scatter plot of the first two PCs. \n",
        "\n",
        "Do this in the cell below."
      ]
    },
    {
      "cell_type": "code",
      "execution_count": 74,
      "metadata": {
        "id": "4v2DYdXEHIea",
        "colab": {
          "base_uri": "https://localhost:8080/",
          "height": 297
        },
        "outputId": "172436f6-1ebd-4aa3-86da-1f2f5eb8fa68"
      },
      "outputs": [
        {
          "output_type": "execute_result",
          "data": {
            "text/plain": [
              "Text(0, 0.5, 'PC2')"
            ]
          },
          "metadata": {},
          "execution_count": 74
        },
        {
          "output_type": "display_data",
          "data": {
            "text/plain": [
              "<Figure size 432x288 with 1 Axes>"
            ],
            "image/png": "[encoded data removed]"
          },
          "metadata": {
            "needs_background": "light"
          }
        }
      ],
      "source": [
        "# YOUR CODE HERE\n",
        "from sklearn.preprocessing import StandardScaler\n",
        "from sklearn.decomposition import PCA\n",
        "\n",
        "from matplotlib import pyplot as plt\n",
        "\n",
        "scaler = StandardScaler()\n",
        "scaled_data = scaler.fit_transform(data)\n",
        "\n",
        "pca = PCA(n_components=2).fit(scaled_data)\n",
        "df_pca = pca.transform(scaled_data)\n",
        "\n",
        "plt.scatter(df_pca[:,0], df_pca[:,1])\n",
        "plt.xlabel('PC1')\n",
        "plt.ylabel('PC2')\n",
        "# df_pca = pd.DataFrame(data_pca, columns = ['PC1','PC2'])"
      ]
    },
    {
      "cell_type": "markdown",
      "metadata": {
        "id": "2CJf31Z8HIea"
      },
      "source": [
        "## Cluster the data\n",
        "\n",
        "We will evaluate agglomerative clustering and K-means clustering for our dataset. First, we'll use the scipy library used in Lab 15 to cluster the data using the complete link (MAX) agglomerative clustering algorithm and visualize the resulting dendrogram. This dendrogram may also be useful to visualize the dataset if the clusters respond to meaningful taxonomies."
      ]
    },
    {
      "cell_type": "code",
      "execution_count": 75,
      "metadata": {
        "id": "ShvTgmcHHIeb",
        "colab": {
          "base_uri": "https://localhost:8080/",
          "height": 592
        },
        "outputId": "5c1c306e-707a-43c3-c68c-8725d80bbebe"
      },
      "outputs": [
        {
          "output_type": "display_data",
          "data": {
            "text/plain": [
              "<Figure size 720x720 with 1 Axes>"
            ],
            "image/png": "[encoded data removed]"
          },
          "metadata": {
            "needs_background": "light"
          }
        }
      ],
      "source": [
        "from scipy.cluster import hierarchy\n",
        "\n",
        "fig, ax = plt.subplots(ncols=1, figsize=(10,10))\n",
        "Z = hierarchy.linkage(data, 'complete')\n",
        "dn = hierarchy.dendrogram(Z, labels=df['competitorname'].tolist(), orientation='left', ax=ax)"
      ]
    },
    {
      "cell_type": "markdown",
      "metadata": {
        "id": "feMgvhx7HIeb"
      },
      "source": [
        "Since we will use Scikit-learn for K-means clustering, we'll recreate the agglomerative clustering using Scikit-learn too below. Recall that we can create a partitional clustering from a hierarchical clustering by cutting the dendrogram at a particular level. If we cut the dendrogram at about 2.0, our clustering would have 6 clusters. We will use this number of clusters for our Scikit-learn implementation below."
      ]
    },
    {
      "cell_type": "code",
      "execution_count": 76,
      "metadata": {
        "id": "mdVyzI2eHIeb"
      },
      "outputs": [],
      "source": [
        "from sklearn.cluster import AgglomerativeClustering\n",
        "\n",
        "agglom = AgglomerativeClustering(n_clusters=6, linkage='complete').fit(data)\n",
        "\n",
        "# Add resulting cluster labels to dataframe\n",
        "df['Agglom clusters'] = agglom.labels_"
      ]
    },
    {
      "cell_type": "markdown",
      "metadata": {
        "id": "R8ymJrI3HIeb"
      },
      "source": [
        "We will also evaluate clusterings produced by K-means. First, we need to decide how many clusters to use. In the cell below, plot the SSE as a function of number of clusters for up to 15 clusters. Set the random seed to 0 for K-means."
      ]
    },
    {
      "cell_type": "code",
      "execution_count": 77,
      "metadata": {
        "id": "lzsVOKQbHIeb",
        "colab": {
          "base_uri": "https://localhost:8080/",
          "height": 297
        },
        "outputId": "ba2c8839-20e0-4cd1-9586-4c4b321b07e3"
      },
      "outputs": [
        {
          "output_type": "execute_result",
          "data": {
            "text/plain": [
              "Text(0, 0.5, 'SSE')"
            ]
          },
          "metadata": {},
          "execution_count": 77
        },
        {
          "output_type": "display_data",
          "data": {
            "text/plain": [
              "<Figure size 432x288 with 1 Axes>"
            ],
            "image/png": "[encoded data removed]"
          },
          "metadata": {
            "needs_background": "light"
          }
        }
      ],
      "source": [
        "# YOUR CODE HERE\n",
        "from sklearn.cluster import KMeans\n",
        "\n",
        "num_clusters = range(1, 16)\n",
        "sse = []\n",
        "\n",
        "for k in num_clusters:\n",
        "    kmeans = KMeans(n_clusters=k, random_state=0)\n",
        "    kmeans.fit(data)\n",
        "    sse.append(kmeans.inertia_)\n",
        "\n",
        "plt.plot(num_clusters, sse)\n",
        "plt.xlabel('Number of Clusters')\n",
        "plt.ylabel('SSE')"
      ]
    },
    {
      "cell_type": "markdown",
      "metadata": {
        "id": "9vaEIZGfHIeb"
      },
      "source": [
        "Looking at the plot above, it looks like there is a bend in the curve around 4 clusters. However, we might also think that 6 clusters might be a good choice because this is what we found using agglomerative clustering. So let's try both!\n",
        "\n",
        "In the cell below, cluster the data using K-means with 4 clusters and 6 clusters. Then add the resulting cluster labels as new columns in our dataframe `df` called `KM4 clusters` and `KM6 clusters`.  Set the random state to 0 for both models."
      ]
    },
    {
      "cell_type": "code",
      "execution_count": 78,
      "metadata": {
        "id": "zramjLd1HIeb"
      },
      "outputs": [],
      "source": [
        "# YOUR CODE HERE\n",
        "km4 = KMeans(n_clusters=4, random_state=0)\n",
        "km6 = KMeans(n_clusters=6, random_state=0)\n",
        "\n",
        "km4.fit(data)\n",
        "km6.fit(data)\n",
        "\n",
        "df['KM4 clusters'] = km4.labels_\n",
        "df['KM6 clusters'] = km6.labels_"
      ]
    },
    {
      "cell_type": "markdown",
      "metadata": {
        "id": "ua2b7WOCHIeb"
      },
      "source": [
        "### Cluster validity\n",
        "\n",
        "Now we have 3 different clusterings that we need to evaluate to determine which gives the best candy groupings to recommend for Costco to create their bags. First, let's visualize the three different clusterings in our PCA visualization of the data."
      ]
    },
    {
      "cell_type": "code",
      "execution_count": 79,
      "metadata": {
        "id": "iEktawVGHIeb",
        "colab": {
          "base_uri": "https://localhost:8080/",
          "height": 255
        },
        "outputId": "8233c86c-1295-41b3-8838-c5b2386f7f38"
      },
      "outputs": [
        {
          "output_type": "execute_result",
          "data": {
            "text/plain": [
              "Text(0.5, 1.0, 'Agglomerative (k=6)')"
            ]
          },
          "metadata": {},
          "execution_count": 79
        },
        {
          "output_type": "display_data",
          "data": {
            "text/plain": [
              "<Figure size 720x216 with 3 Axes>"
            ],
            "image/png": "[encoded data removed]"
          },
          "metadata": {
            "needs_background": "light"
          }
        }
      ],
      "source": [
        "fig, ax = plt.subplots(ncols=3, figsize=(10, 3))\n",
        "fig.tight_layout()\n",
        "\n",
        "ax[0].scatter(df_pca[:,0], df_pca[:,1], alpha=0.8, c=df['KM4 clusters'], cmap='jet')\n",
        "ax[0].set_title('K means (k=4)')\n",
        "\n",
        "ax[1].scatter(df_pca[:,0], df_pca[:,1], alpha=0.8, c=df['KM6 clusters'], cmap='jet')\n",
        "ax[1].set_title('K means (k=6)')\n",
        "\n",
        "ax[2].scatter(df_pca[:,0], df_pca[:,1], alpha=0.8, c=df['Agglom clusters'], cmap='jet')\n",
        "ax[2].set_title('Agglomerative (k=6)')"
      ]
    },
    {
      "cell_type": "markdown",
      "metadata": {
        "id": "UM_QqIEcHIec"
      },
      "source": [
        "Visually, we might think 4 clusters looks pretty nice, but we remember that we aren't seeing the original data that was clustered here---this is the data in PCA space, so it may not tell us the full story.  \n",
        "\n",
        "To quantify the goodness of each clustering, we will use cluster validity metrics. We don't have ground truth classes (or classification labels), so we need to use unsupervised metrics such as Silhouette score and sum of squared errors (SSE or inertia).\n",
        "\n",
        "In the cell below, compute the silhouette score of each of the 3 clusterings. "
      ]
    },
    {
      "cell_type": "code",
      "execution_count": 80,
      "metadata": {
        "id": "IQB6hkwFHIec",
        "colab": {
          "base_uri": "https://localhost:8080/"
        },
        "outputId": "0815f6fb-1736-405c-efc6-11cf41d23e5d"
      },
      "outputs": [
        {
          "output_type": "stream",
          "name": "stdout",
          "text": [
            "KM4 clustering: 0.2868072331169027\n",
            "KM6 clustering: 0.3060602336736381\n",
            "Agglom clustering: 0.26624775382354204\n"
          ]
        }
      ],
      "source": [
        "from sklearn.metrics import silhouette_score\n",
        "\n",
        "# YOUR CODE HERE\n",
        "print('KM4 clustering:', silhouette_score(data, df['KM4 clusters']))\n",
        "print('KM6 clustering:', silhouette_score(data, df['KM6 clusters']))\n",
        "print('Agglom clustering:', silhouette_score(data, df['Agglom clusters']))"
      ]
    },
    {
      "cell_type": "markdown",
      "metadata": {
        "id": "dIA2Si57HIec"
      },
      "source": [
        "**Question 1: Which clustering has the best Silhouette score?**\n",
        "\n",
        "**Answer:**\n",
        "\n",
        "Kmeans with 6 clusters has the best Silhouette score."
      ]
    },
    {
      "cell_type": "markdown",
      "metadata": {
        "id": "_3Ry7ANCHIec"
      },
      "source": [
        "In the cell below, print the sum of squared errors (SSE) for the K-means clusterings."
      ]
    },
    {
      "cell_type": "code",
      "execution_count": 81,
      "metadata": {
        "id": "m3AX_JSUHIec",
        "colab": {
          "base_uri": "https://localhost:8080/"
        },
        "outputId": "54400850-d75b-4294-f260-aaa4b42c85e4"
      },
      "outputs": [
        {
          "output_type": "stream",
          "name": "stdout",
          "text": [
            "KM4 Clustering 63.35838843031403\n",
            "KM6 clustering: 50.70594444836088\n"
          ]
        }
      ],
      "source": [
        "# YOUR CODE HERE\n",
        "print('KM4 Clustering', km4.inertia_)\n",
        "print('KM6 clustering:', km6.inertia_)"
      ]
    },
    {
      "cell_type": "markdown",
      "metadata": {
        "id": "ZAjTBS0bHIec"
      },
      "source": [
        "**Question 2: Which clustering has the best SSE?**\n",
        "\n",
        "**Answer:**\n",
        "\n",
        "K means with 6 clusters has the best SSE.\n"
      ]
    },
    {
      "cell_type": "markdown",
      "metadata": {
        "id": "3N274AIbHIec"
      },
      "source": [
        "**Question 3: Which clustering will you choose to make your candy bag mix recommendations to Costco? Why?**\n",
        "\n",
        "**Answer:**\n",
        "K-means with 6 clusters as it has the best Silhouette score and SSE.\n",
        "\n"
      ]
    },
    {
      "cell_type": "markdown",
      "metadata": {
        "id": "YYUvwM-fHIec"
      },
      "source": [
        "In the cell below, print the groupings of candy names in each of the candy bags (clusters) you have chosen to recommend."
      ]
    },
    {
      "cell_type": "code",
      "execution_count": 82,
      "metadata": {
        "id": "mE1PSnRQHIec",
        "colab": {
          "base_uri": "https://localhost:8080/"
        },
        "outputId": "45fca69d-d393-4df0-b9b6-0b5524924138"
      },
      "outputs": [
        {
          "output_type": "stream",
          "name": "stdout",
          "text": [
            "Bag 1: ['Boston Baked Beans', 'Candy Corn', 'Haribo Happy Cola', 'HersheyÕs Kisses', 'Junior Mints', 'M&MÕs', 'Milk Duds', 'Pixie Sticks', 'Rolo', 'Root Beer Barrels', 'Sixlets', 'Nestle Smarties', 'Sugar Babies', 'Tootsie Roll Midgies', 'Whoppers']\n",
            "Bag 2: ['3 Musketeers', 'Baby Ruth', 'Charleston Chew', 'Milky Way', 'Milky Way Midnight', 'Payday', 'Snickers']\n",
            "Bag 3: ['One dime', 'One quarter', 'Air Heads', 'Caramel Apple Pops', 'Dum Dums', 'Fun Dip', 'Laffy Taffy', 'Lemonhead', 'Lifesavers big ring gummies', 'Ring pop', 'Sugar Daddy', 'Super Bubble', 'Tootsie Pop', 'Twizzlers', 'Warheads', 'WertherÕs Original Caramel']\n",
            "Bag 4: ['Chewey Lemonhead Fruit Mix', 'Chiclets', 'Dots', 'Fruit Chews', 'Gobstopper', 'Haribo Gold Bears', 'Haribo Sour Bears', 'Haribo Twin Snakes', 'Jawbusters', 'Mike & Ike', 'Nerds', 'Nik L Nip', 'Now & Later', 'Pop Rocks', 'Red vines', 'Runts', 'Skittles original', 'Skittles wildberry', 'Smarties candy', 'Sour Patch Kids', 'Sour Patch Tricksters', 'Starburst', 'Strawberry bon bons', 'Swedish Fish', 'Trolli Sour Bites', 'WelchÕs Fruit Snacks']\n",
            "Bag 5: ['Almond Joy', 'Peanut butter M&MÕs', 'Mr Good Bar', 'Nestle Butterfinger', 'Peanut M&Ms', 'ReeseÕs Miniatures', 'ReeseÕs Peanut Butter cup', 'ReeseÕs pieces', 'ReeseÕs stuffed with pieces', 'Tootsie Roll Juniors']\n",
            "Bag 6: ['100 Grand', 'HersheyÕs Krackel', 'HersheyÕs Milk Chocolate', 'HersheyÕs Special Dark', 'Kit Kat', 'Milky Way Simply Caramel', 'Mounds', 'Nestle Crunch', 'Snickers Crisper', 'Tootsie Roll Snack Bars', 'Twix']\n"
          ]
        }
      ],
      "source": [
        "# YOUR CODE HERE\n",
        "for bag, candy_names in enumerate(df.groupby('KM6 clusters')['competitorname'].apply(list)):\n",
        "  print(f\"Bag {bag+1}:\", candy_names)"
      ]
    },
    {
      "cell_type": "markdown",
      "metadata": {
        "id": "X7mH0bIwHIec"
      },
      "source": [
        "### Additional insights\n",
        "\n",
        "Because you're an overachiever, you want to also recommend to Costco which bag mix(es) you think will be the best sellers to help them decide how many of each bag to stock. In the cell below, use the `winpercentage` attribute to compute the average win percentage for each of your bags."
      ]
    },
    {
      "cell_type": "code",
      "execution_count": 83,
      "metadata": {
        "id": "oP_WsK0GHIec",
        "colab": {
          "base_uri": "https://localhost:8080/"
        },
        "outputId": "1a4494be-4e06-4d74-eb70-8cfd02e166f3"
      },
      "outputs": [
        {
          "output_type": "stream",
          "name": "stdout",
          "text": [
            "Bag 1: 44.284734533333335\n",
            "Bag 2: 60.05187942857143\n",
            "Bag 3: 40.469722374999996\n",
            "Bag 4: 45.444135\n",
            "Bag 5: 67.1996811\n",
            "Bag 6: 62.83917009090909\n"
          ]
        }
      ],
      "source": [
        "# YOUR CODE HERE\n",
        "from statistics import mean\n",
        "\n",
        "for bag, avg in enumerate(df.groupby('KM6 clusters')['winpercent'].apply(mean)):\n",
        "  print(f\"Bag {bag+1}:\", avg)"
      ]
    },
    {
      "cell_type": "markdown",
      "metadata": {
        "id": "YYs_YZtcHIec"
      },
      "source": [
        "**Question 4: Based on your analysis, which bag do you think will be the best selling?** \n",
        "\n",
        "**Answer:**\n",
        "\n",
        "Bag 5 (1-indexed)\n"
      ]
    },
    {
      "cell_type": "code",
      "execution_count": 83,
      "metadata": {
        "id": "aPpjDDzRHIec"
      },
      "outputs": [],
      "source": []
    }
  ],
  "metadata": {
    "kernelspec": {
      "display_name": "Python 3 (ipykernel)",
      "language": "python",
      "name": "python3"
    },
    "language_info": {
      "codemirror_mode": {
        "name": "ipython",
        "version": 3
      },
      "file_extension": ".py",
      "mimetype": "text/x-python",
      "name": "python",
      "nbconvert_exporter": "python",
      "pygments_lexer": "ipython3",
      "version": "3.9.13"
    },
    "colab": {
      "provenance": []
    }
  },
  "nbformat": 4,
  "nbformat_minor": 0
}