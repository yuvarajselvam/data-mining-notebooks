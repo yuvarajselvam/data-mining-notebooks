{
  "cells": [
    {
      "cell_type": "markdown",
      "metadata": {
        "id": "Zej6Zsb04uwK"
      },
      "source": [
        "# CSE 572: Lab 6\n",
        "\n",
        "In this lab, you will practice implementing different variations of the Support Vector Machine (SVM) classifier.\n",
        "\n",
        "To execute and make changes to this notebook, click File > Save a copy to save your own version in your Google Drive or Github. Read the step-by-step instructions below carefully. To execute the code, click on each cell below and press the SHIFT-ENTER keys simultaneously or by clicking the Play button. \n",
        "\n",
        "When you finish executing all code/exercises, save your notebook then download a copy (.ipynb file). Submit the following **three** things:\n",
        "1. a link to your Colab notebook,\n",
        "2. the .ipynb file, and\n",
        "3. a pdf of the executed notebook on Canvas.\n",
        "\n",
        "To generate a pdf of the notebook, click File > Print > Save as PDF.\n"
      ]
    },
    {
      "cell_type": "markdown",
      "metadata": {
        "id": "l1hQEAyV4uwM"
      },
      "source": [
        "### Load the iris dataset\n",
        "\n",
        "Load the dataset. For visualization purposes for the first exercise, we will convert the dataframe to have only two features (petal length and petal width) and two classes (Iris-virginica and Iris-other)."
      ]
    },
    {
      "cell_type": "code",
      "execution_count": 107,
      "metadata": {
        "id": "BQFRScLl4uwM",
        "colab": {
          "base_uri": "https://localhost:8080/",
          "height": 206
        },
        "outputId": "b46a419a-ede0-4074-d469-ab53eccf9026"
      },
      "outputs": [
        {
          "output_type": "execute_result",
          "data": {
            "text/plain": [
              "   sepal length  sepal width  petal length  petal width        class\n",
              "0           5.1          3.5           1.4          0.2  Iris-setosa\n",
              "1           4.9          3.0           1.4          0.2  Iris-setosa\n",
              "2           4.7          3.2           1.3          0.2  Iris-setosa\n",
              "3           4.6          3.1           1.5          0.2  Iris-setosa\n",
              "4           5.0          3.6           1.4          0.2  Iris-setosa"
            ],
            "text/html": [
              "\n",
              "  <div id=\"df-21cc028e-0bba-4df4-bfaa-e805b658e030\">\n",
              "    <div class=\"colab-df-container\">\n",
              "      <div>\n",
              "<style scoped>\n",
              "    .dataframe tbody tr th:only-of-type {\n",
              "        vertical-align: middle;\n",
              "    }\n",
              "\n",
              "    .dataframe tbody tr th {\n",
              "        vertical-align: top;\n",
              "    }\n",
              "\n",
              "    .dataframe thead th {\n",
              "        text-align: right;\n",
              "    }\n",
              "</style>\n",
              "<table border=\"1\" class=\"dataframe\">\n",
              "  <thead>\n",
              "    <tr style=\"text-align: right;\">\n",
              "      <th></th>\n",
              "      <th>sepal length</th>\n",
              "      <th>sepal width</th>\n",
              "      <th>petal length</th>\n",
              "      <th>petal width</th>\n",
              "      <th>class</th>\n",
              "    </tr>\n",
              "  </thead>\n",
              "  <tbody>\n",
              "    <tr>\n",
              "      <th>0</th>\n",
              "      <td>5.1</td>\n",
              "      <td>3.5</td>\n",
              "      <td>1.4</td>\n",
              "      <td>0.2</td>\n",
              "      <td>Iris-setosa</td>\n",
              "    </tr>\n",
              "    <tr>\n",
              "      <th>1</th>\n",
              "      <td>4.9</td>\n",
              "      <td>3.0</td>\n",
              "      <td>1.4</td>\n",
              "      <td>0.2</td>\n",
              "      <td>Iris-setosa</td>\n",
              "    </tr>\n",
              "    <tr>\n",
              "      <th>2</th>\n",
              "      <td>4.7</td>\n",
              "      <td>3.2</td>\n",
              "      <td>1.3</td>\n",
              "      <td>0.2</td>\n",
              "      <td>Iris-setosa</td>\n",
              "    </tr>\n",
              "    <tr>\n",
              "      <th>3</th>\n",
              "      <td>4.6</td>\n",
              "      <td>3.1</td>\n",
              "      <td>1.5</td>\n",
              "      <td>0.2</td>\n",
              "      <td>Iris-setosa</td>\n",
              "    </tr>\n",
              "    <tr>\n",
              "      <th>4</th>\n",
              "      <td>5.0</td>\n",
              "      <td>3.6</td>\n",
              "      <td>1.4</td>\n",
              "      <td>0.2</td>\n",
              "      <td>Iris-setosa</td>\n",
              "    </tr>\n",
              "  </tbody>\n",
              "</table>\n",
              "</div>\n",
              "      <button class=\"colab-df-convert\" onclick=\"convertToInteractive('df-21cc028e-0bba-4df4-bfaa-e805b658e030')\"\n",
              "              title=\"Convert this dataframe to an interactive table.\"\n",
              "              style=\"display:none;\">\n",
              "        \n",
              "  <svg xmlns=\"http://www.w3.org/2000/svg\" height=\"24px\"viewBox=\"0 0 24 24\"\n",
              "       width=\"24px\">\n",
              "    <path d=\"M0 0h24v24H0V0z\" fill=\"none\"/>\n",
              "    <path d=\"M18.56 5.44l.94 2.06.94-2.06 2.06-.94-2.06-.94-.94-2.06-.94 2.06-2.06.94zm-11 1L8.5 8.5l.94-2.06 2.06-.94-2.06-.94L8.5 2.5l-.94 2.06-2.06.94zm10 10l.94 2.06.94-2.06 2.06-.94-2.06-.94-.94-2.06-.94 2.06-2.06.94z\"/><path d=\"M17.41 7.96l-1.37-1.37c-.4-.4-.92-.59-1.43-.59-.52 0-1.04.2-1.43.59L10.3 9.45l-7.72 7.72c-.78.78-.78 2.05 0 2.83L4 21.41c.39.39.9.59 1.41.59.51 0 1.02-.2 1.41-.59l7.78-7.78 2.81-2.81c.8-.78.8-2.07 0-2.86zM5.41 20L4 18.59l7.72-7.72 1.47 1.35L5.41 20z\"/>\n",
              "  </svg>\n",
              "      </button>\n",
              "      \n",
              "  <style>\n",
              "    .colab-df-container {\n",
              "      display:flex;\n",
              "      flex-wrap:wrap;\n",
              "      gap: 12px;\n",
              "    }\n",
              "\n",
              "    .colab-df-convert {\n",
              "      background-color: #E8F0FE;\n",
              "      border: none;\n",
              "      border-radius: 50%;\n",
              "      cursor: pointer;\n",
              "      display: none;\n",
              "      fill: #1967D2;\n",
              "      height: 32px;\n",
              "      padding: 0 0 0 0;\n",
              "      width: 32px;\n",
              "    }\n",
              "\n",
              "    .colab-df-convert:hover {\n",
              "      background-color: #E2EBFA;\n",
              "      box-shadow: 0px 1px 2px rgba(60, 64, 67, 0.3), 0px 1px 3px 1px rgba(60, 64, 67, 0.15);\n",
              "      fill: #174EA6;\n",
              "    }\n",
              "\n",
              "    [theme=dark] .colab-df-convert {\n",
              "      background-color: #3B4455;\n",
              "      fill: #D2E3FC;\n",
              "    }\n",
              "\n",
              "    [theme=dark] .colab-df-convert:hover {\n",
              "      background-color: #434B5C;\n",
              "      box-shadow: 0px 1px 3px 1px rgba(0, 0, 0, 0.15);\n",
              "      filter: drop-shadow(0px 1px 2px rgba(0, 0, 0, 0.3));\n",
              "      fill: #FFFFFF;\n",
              "    }\n",
              "  </style>\n",
              "\n",
              "      <script>\n",
              "        const buttonEl =\n",
              "          document.querySelector('#df-21cc028e-0bba-4df4-bfaa-e805b658e030 button.colab-df-convert');\n",
              "        buttonEl.style.display =\n",
              "          google.colab.kernel.accessAllowed ? 'block' : 'none';\n",
              "\n",
              "        async function convertToInteractive(key) {\n",
              "          const element = document.querySelector('#df-21cc028e-0bba-4df4-bfaa-e805b658e030');\n",
              "          const dataTable =\n",
              "            await google.colab.kernel.invokeFunction('convertToInteractive',\n",
              "                                                     [key], {});\n",
              "          if (!dataTable) return;\n",
              "\n",
              "          const docLinkHtml = 'Like what you see? Visit the ' +\n",
              "            '<a target=\"_blank\" href=https://colab.research.google.com/notebooks/data_table.ipynb>data table notebook</a>'\n",
              "            + ' to learn more about interactive tables.';\n",
              "          element.innerHTML = '';\n",
              "          dataTable['output_type'] = 'display_data';\n",
              "          await google.colab.output.renderOutput(dataTable, element);\n",
              "          const docLink = document.createElement('div');\n",
              "          docLink.innerHTML = docLinkHtml;\n",
              "          element.appendChild(docLink);\n",
              "        }\n",
              "      </script>\n",
              "    </div>\n",
              "  </div>\n",
              "  "
            ]
          },
          "metadata": {},
          "execution_count": 107
        }
      ],
      "source": [
        "import pandas as pd\n",
        "\n",
        "data = pd.read_csv('http://archive.ics.uci.edu/ml/machine-learning-databases/iris/iris.data',header=None)\n",
        "data.columns = ['sepal length', 'sepal width', 'petal length', 'petal width', 'class']\n",
        "\n",
        "data.head()"
      ]
    },
    {
      "cell_type": "code",
      "execution_count": 108,
      "metadata": {
        "id": "I-qbzGRp4uwM",
        "colab": {
          "base_uri": "https://localhost:8080/",
          "height": 206
        },
        "outputId": "3417e7de-ed09-4351-c50e-f789916fcbbd"
      },
      "outputs": [
        {
          "output_type": "execute_result",
          "data": {
            "text/plain": [
              "   petal length  petal width        class\n",
              "0           1.4          0.2  Iris-setosa\n",
              "1           1.4          0.2  Iris-setosa\n",
              "2           1.3          0.2  Iris-setosa\n",
              "3           1.5          0.2  Iris-setosa\n",
              "4           1.4          0.2  Iris-setosa"
            ],
            "text/html": [
              "\n",
              "  <div id=\"df-81ade6cb-21a2-45e4-ae91-d7a2c18da23a\">\n",
              "    <div class=\"colab-df-container\">\n",
              "      <div>\n",
              "<style scoped>\n",
              "    .dataframe tbody tr th:only-of-type {\n",
              "        vertical-align: middle;\n",
              "    }\n",
              "\n",
              "    .dataframe tbody tr th {\n",
              "        vertical-align: top;\n",
              "    }\n",
              "\n",
              "    .dataframe thead th {\n",
              "        text-align: right;\n",
              "    }\n",
              "</style>\n",
              "<table border=\"1\" class=\"dataframe\">\n",
              "  <thead>\n",
              "    <tr style=\"text-align: right;\">\n",
              "      <th></th>\n",
              "      <th>petal length</th>\n",
              "      <th>petal width</th>\n",
              "      <th>class</th>\n",
              "    </tr>\n",
              "  </thead>\n",
              "  <tbody>\n",
              "    <tr>\n",
              "      <th>0</th>\n",
              "      <td>1.4</td>\n",
              "      <td>0.2</td>\n",
              "      <td>Iris-setosa</td>\n",
              "    </tr>\n",
              "    <tr>\n",
              "      <th>1</th>\n",
              "      <td>1.4</td>\n",
              "      <td>0.2</td>\n",
              "      <td>Iris-setosa</td>\n",
              "    </tr>\n",
              "    <tr>\n",
              "      <th>2</th>\n",
              "      <td>1.3</td>\n",
              "      <td>0.2</td>\n",
              "      <td>Iris-setosa</td>\n",
              "    </tr>\n",
              "    <tr>\n",
              "      <th>3</th>\n",
              "      <td>1.5</td>\n",
              "      <td>0.2</td>\n",
              "      <td>Iris-setosa</td>\n",
              "    </tr>\n",
              "    <tr>\n",
              "      <th>4</th>\n",
              "      <td>1.4</td>\n",
              "      <td>0.2</td>\n",
              "      <td>Iris-setosa</td>\n",
              "    </tr>\n",
              "  </tbody>\n",
              "</table>\n",
              "</div>\n",
              "      <button class=\"colab-df-convert\" onclick=\"convertToInteractive('df-81ade6cb-21a2-45e4-ae91-d7a2c18da23a')\"\n",
              "              title=\"Convert this dataframe to an interactive table.\"\n",
              "              style=\"display:none;\">\n",
              "        \n",
              "  <svg xmlns=\"http://www.w3.org/2000/svg\" height=\"24px\"viewBox=\"0 0 24 24\"\n",
              "       width=\"24px\">\n",
              "    <path d=\"M0 0h24v24H0V0z\" fill=\"none\"/>\n",
              "    <path d=\"M18.56 5.44l.94 2.06.94-2.06 2.06-.94-2.06-.94-.94-2.06-.94 2.06-2.06.94zm-11 1L8.5 8.5l.94-2.06 2.06-.94-2.06-.94L8.5 2.5l-.94 2.06-2.06.94zm10 10l.94 2.06.94-2.06 2.06-.94-2.06-.94-.94-2.06-.94 2.06-2.06.94z\"/><path d=\"M17.41 7.96l-1.37-1.37c-.4-.4-.92-.59-1.43-.59-.52 0-1.04.2-1.43.59L10.3 9.45l-7.72 7.72c-.78.78-.78 2.05 0 2.83L4 21.41c.39.39.9.59 1.41.59.51 0 1.02-.2 1.41-.59l7.78-7.78 2.81-2.81c.8-.78.8-2.07 0-2.86zM5.41 20L4 18.59l7.72-7.72 1.47 1.35L5.41 20z\"/>\n",
              "  </svg>\n",
              "      </button>\n",
              "      \n",
              "  <style>\n",
              "    .colab-df-container {\n",
              "      display:flex;\n",
              "      flex-wrap:wrap;\n",
              "      gap: 12px;\n",
              "    }\n",
              "\n",
              "    .colab-df-convert {\n",
              "      background-color: #E8F0FE;\n",
              "      border: none;\n",
              "      border-radius: 50%;\n",
              "      cursor: pointer;\n",
              "      display: none;\n",
              "      fill: #1967D2;\n",
              "      height: 32px;\n",
              "      padding: 0 0 0 0;\n",
              "      width: 32px;\n",
              "    }\n",
              "\n",
              "    .colab-df-convert:hover {\n",
              "      background-color: #E2EBFA;\n",
              "      box-shadow: 0px 1px 2px rgba(60, 64, 67, 0.3), 0px 1px 3px 1px rgba(60, 64, 67, 0.15);\n",
              "      fill: #174EA6;\n",
              "    }\n",
              "\n",
              "    [theme=dark] .colab-df-convert {\n",
              "      background-color: #3B4455;\n",
              "      fill: #D2E3FC;\n",
              "    }\n",
              "\n",
              "    [theme=dark] .colab-df-convert:hover {\n",
              "      background-color: #434B5C;\n",
              "      box-shadow: 0px 1px 3px 1px rgba(0, 0, 0, 0.15);\n",
              "      filter: drop-shadow(0px 1px 2px rgba(0, 0, 0, 0.3));\n",
              "      fill: #FFFFFF;\n",
              "    }\n",
              "  </style>\n",
              "\n",
              "      <script>\n",
              "        const buttonEl =\n",
              "          document.querySelector('#df-81ade6cb-21a2-45e4-ae91-d7a2c18da23a button.colab-df-convert');\n",
              "        buttonEl.style.display =\n",
              "          google.colab.kernel.accessAllowed ? 'block' : 'none';\n",
              "\n",
              "        async function convertToInteractive(key) {\n",
              "          const element = document.querySelector('#df-81ade6cb-21a2-45e4-ae91-d7a2c18da23a');\n",
              "          const dataTable =\n",
              "            await google.colab.kernel.invokeFunction('convertToInteractive',\n",
              "                                                     [key], {});\n",
              "          if (!dataTable) return;\n",
              "\n",
              "          const docLinkHtml = 'Like what you see? Visit the ' +\n",
              "            '<a target=\"_blank\" href=https://colab.research.google.com/notebooks/data_table.ipynb>data table notebook</a>'\n",
              "            + ' to learn more about interactive tables.';\n",
              "          element.innerHTML = '';\n",
              "          dataTable['output_type'] = 'display_data';\n",
              "          await google.colab.output.renderOutput(dataTable, element);\n",
              "          const docLink = document.createElement('div');\n",
              "          docLink.innerHTML = docLinkHtml;\n",
              "          element.appendChild(docLink);\n",
              "        }\n",
              "      </script>\n",
              "    </div>\n",
              "  </div>\n",
              "  "
            ]
          },
          "metadata": {},
          "execution_count": 108
        }
      ],
      "source": [
        "# Drop the sepal features \n",
        "data = data.drop(['sepal length', 'sepal width'], axis=1)\n",
        "\n",
        "data.head()"
      ]
    },
    {
      "cell_type": "code",
      "execution_count": 109,
      "metadata": {
        "id": "dUPLi4274uwN"
      },
      "outputs": [],
      "source": [
        "# Replace the Iris-setosa and Iris-versicolor classes with Iris-other\n",
        "data['class'] = data['class'].replace('Iris-versicolor', 'Iris-other')\n",
        "data['class'] = data['class'].replace('Iris-setosa', 'Iris-other')"
      ]
    },
    {
      "cell_type": "markdown",
      "metadata": {
        "id": "r3X4RZF94uwN"
      },
      "source": [
        "Next, we will split our dataset into three subsets: training (60%), validation (20%), and test (20%)."
      ]
    },
    {
      "cell_type": "code",
      "execution_count": 110,
      "metadata": {
        "id": "Ee62Je6g4uwN"
      },
      "outputs": [],
      "source": [
        "import numpy as np\n",
        "\n",
        "# The first parameter is the shuffled data frame\n",
        "# The second parameter is the split indices which are at 60% of the data and 80% of the data\n",
        "train, val, test = np.split(data.sample(frac=1, random_state=42), [int(.6*len(data)), int(.8*len(data))])"
      ]
    },
    {
      "cell_type": "markdown",
      "metadata": {
        "id": "Az5kcdUo4uwO"
      },
      "source": [
        "Print the number of samples in each of the three subsets and the number of instances from each class. For example, for the training set you might print \"The training set has __ instances (__ virginica, __ other)\"."
      ]
    },
    {
      "cell_type": "code",
      "execution_count": 111,
      "metadata": {
        "id": "Ai6WQwqc4uwO",
        "colab": {
          "base_uri": "https://localhost:8080/"
        },
        "outputId": "66b4da90-1005-43f8-9ef9-a90ea52cb8d9"
      },
      "outputs": [
        {
          "output_type": "stream",
          "name": "stdout",
          "text": [
            "The training set has 90 instances (26 virginica, 64 other)\n",
            "The validation set has 30 instances (12 virginica, 18 other)\n",
            "The test set has 30 instances (12 virginica, 18 other)\n"
          ]
        }
      ],
      "source": [
        "# YOUR CODE HERE\n",
        "trainViriginicaCount = train[train['class'] == 'Iris-virginica'].shape[0]\n",
        "valViriginicaCount = val[val['class'] == 'Iris-virginica'].shape[0]\n",
        "testViriginicaCount = test[test['class'] == 'Iris-virginica'].shape[0]\n",
        "print(f\"The training set has {train.shape[0]} instances ({trainViriginicaCount} virginica, {train.shape[0] - trainViriginicaCount} other)\")\n",
        "print(f\"The validation set has {val.shape[0]} instances ({valViriginicaCount} virginica, {val.shape[0] - valViriginicaCount} other)\")\n",
        "print(f\"The test set has {test.shape[0]} instances ({testViriginicaCount} virginica, {test.shape[0] - testViriginicaCount} other)\")"
      ]
    },
    {
      "cell_type": "markdown",
      "metadata": {
        "id": "1--Zj5Zm4uwO"
      },
      "source": [
        "## Support vector machines\n",
        "Support vector machines (SVMs) are a supervised learning method that finds the hyperplane (or set of hyperplanes) in the $n$-dimensional feature space (where $n$ is the number of input features) which maximizes the distance to the nearest training samples from each class. Maximizing this margin ensures that the decision boundary will be as generalizable as possible to new, unseen data points. "
      ]
    },
    {
      "cell_type": "code",
      "execution_count": 112,
      "metadata": {
        "id": "PmfIoi7I4uwP"
      },
      "outputs": [],
      "source": [
        "# import the Support vector classifier\n",
        "from sklearn.svm import SVC"
      ]
    },
    {
      "cell_type": "markdown",
      "metadata": {
        "id": "0DQDIGob4uwP"
      },
      "source": [
        "The main hyperparameter to choose is the regularization parameter $C$, which represents the strength of the penalty incurred during training for allowing samples to be closer to the margin boundary (since a perfect decision boundary is not attainable for most problems). \n",
        "\n",
        "SVM also uses a kernel function $K$ to map samples to a higher dimensional space (this is referred to as the \"kernel trick\"). The SVM implementation in scikit-learn gives four options for the kernel function: linear (this is the standard SVM without non-linear kernel), polynomial, radial basis function (RBF), and sigmoid. \n",
        "\n",
        "The below example uses a linear kernel with $C=0.1$."
      ]
    },
    {
      "cell_type": "code",
      "execution_count": 113,
      "metadata": {
        "id": "xPgIhyBd4uwP"
      },
      "outputs": [],
      "source": [
        "C = 0.1\n",
        "linear_svc = SVC(kernel='linear', C=C)"
      ]
    },
    {
      "cell_type": "code",
      "execution_count": 114,
      "metadata": {
        "id": "mWC2w6XF4uwP",
        "colab": {
          "base_uri": "https://localhost:8080/"
        },
        "outputId": "f209c542-978f-4173-980b-374fd2e63729"
      },
      "outputs": [
        {
          "output_type": "execute_result",
          "data": {
            "text/plain": [
              "SVC(C=0.1, kernel='linear')"
            ]
          },
          "metadata": {},
          "execution_count": 114
        }
      ],
      "source": [
        "# train the SVM classifier\n",
        "linear_svc.fit(train[['petal length','petal width']], train['class'])"
      ]
    },
    {
      "cell_type": "markdown",
      "metadata": {
        "id": "ybOkFz1K4uwQ"
      },
      "source": [
        "The following function for plotting the decision boundary is from the [Python Data Science Handbook by Jake VanderPlas](https://jakevdp.github.io/PythonDataScienceHandbook/05.07-support-vector-machines.html).  The function plots the decision boundary as a gray solid line and the margins as gray dashed lines. The support vectors are circled."
      ]
    },
    {
      "cell_type": "code",
      "execution_count": 115,
      "metadata": {
        "id": "5DZWj7Th4uwQ"
      },
      "outputs": [],
      "source": [
        "import matplotlib.pyplot as plt\n",
        "\n",
        "def plot_svc_decision_function(model, ax=None, plot_support=True):\n",
        "    \"\"\"Plot the decision function for a 2D SVC\"\"\"\n",
        "    if ax is None:\n",
        "        ax = plt.gca()\n",
        "    xlim = ax.get_xlim()\n",
        "    ylim = ax.get_ylim()\n",
        "    \n",
        "    # create grid to evaluate model\n",
        "    x = np.linspace(xlim[0], xlim[1], 30)\n",
        "    y = np.linspace(ylim[0], ylim[1], 30)\n",
        "    Y, X = np.meshgrid(y, x)\n",
        "    xy = np.vstack([X.ravel(), Y.ravel()]).T\n",
        "    P = model.decision_function(xy).reshape(X.shape)\n",
        "    \n",
        "    # plot decision boundary and margins\n",
        "    ax.contour(X, Y, P, colors='k',\n",
        "               levels=[-1, 0, 1], alpha=0.5,\n",
        "               linestyles=['--', '-', '--'])\n",
        "    \n",
        "    # plot support vectors\n",
        "    if plot_support:\n",
        "        ax.scatter(model.support_vectors_[:, 0],\n",
        "                   model.support_vectors_[:, 1],\n",
        "                   s=300, linewidth=1, facecolors='none', edgecolors='gray');\n",
        "    ax.set_xlim(xlim)\n",
        "    ax.set_ylim(ylim)"
      ]
    },
    {
      "cell_type": "markdown",
      "metadata": {
        "id": "FLbFNEhx4uwQ"
      },
      "source": [
        "Plot the dataset and the learned decision boundary."
      ]
    },
    {
      "cell_type": "code",
      "execution_count": 116,
      "metadata": {
        "id": "PZ8IlsRV4uwQ",
        "colab": {
          "base_uri": "https://localhost:8080/",
          "height": 386
        },
        "outputId": "7e4d228c-5881-4df5-ea8f-6514b7e7ee6e"
      },
      "outputs": [
        {
          "output_type": "stream",
          "name": "stderr",
          "text": [
            "/usr/local/lib/python3.7/dist-packages/sklearn/base.py:451: UserWarning: X does not have valid feature names, but SVC was fitted with feature names\n",
            "  \"X does not have valid feature names, but\"\n"
          ]
        },
        {
          "output_type": "display_data",
          "data": {
            "text/plain": [
              "<Figure size 504x360 with 1 Axes>"
            ],
            "image/png": "[encoded data removed]"
          },
          "metadata": {
            "needs_background": "light"
          }
        }
      ],
      "source": [
        "fig, ax = plt.subplots(1, figsize=(7,5))\n",
        "# Plot the setosa instances\n",
        "ax.scatter(train[train['class'] == 'Iris-virginica']['petal length'], \n",
        "               train[train['class'] == 'Iris-virginica']['petal width'],\n",
        "               label='Iris-virginica',\n",
        "               color='blue',\n",
        "               alpha=0.5)\n",
        "# Plot the other instances\n",
        "ax.scatter(train[train['class'] == 'Iris-other']['petal length'], \n",
        "               train[train['class'] == 'Iris-other']['petal width'],\n",
        "               label='Iris-other',\n",
        "               color='red',\n",
        "               alpha=0.5)\n",
        "\n",
        "plot_svc_decision_function(linear_svc, ax=ax)\n",
        "ax.set_xlabel('Petal length')\n",
        "ax.set_ylabel('Petal width')\n",
        "ax.legend()\n",
        "ax.set_title('SVM with Linear Kernel (C=%0.2f)' % C);"
      ]
    },
    {
      "cell_type": "markdown",
      "metadata": {
        "id": "x6-QSBy14uwQ"
      },
      "source": [
        "Train a new model with $C=100$ and plot the resulting decision boundary."
      ]
    },
    {
      "cell_type": "code",
      "execution_count": 117,
      "metadata": {
        "id": "uzipS89P4uwQ",
        "colab": {
          "base_uri": "https://localhost:8080/",
          "height": 386
        },
        "outputId": "3ac6680d-cd6b-4ba5-c0ec-8f7148bd3f43"
      },
      "outputs": [
        {
          "output_type": "stream",
          "name": "stderr",
          "text": [
            "/usr/local/lib/python3.7/dist-packages/sklearn/base.py:451: UserWarning: X does not have valid feature names, but SVC was fitted with feature names\n",
            "  \"X does not have valid feature names, but\"\n"
          ]
        },
        {
          "output_type": "display_data",
          "data": {
            "text/plain": [
              "<Figure size 504x360 with 1 Axes>"
            ],
            "image/png": "[encoded data removed]"
          },
          "metadata": {
            "needs_background": "light"
          }
        }
      ],
      "source": [
        "# YOUR CODE HERE\n",
        "linear_svc_100 = SVC(kernel='linear', C=100)\n",
        "linear_svc_100.fit(train[['petal length','petal width']], train['class'])\n",
        "\n",
        "fig, ax = plt.subplots(1, figsize=(7,5))\n",
        "# Plot the setosa instances\n",
        "ax.scatter(train[train['class'] == 'Iris-virginica']['petal length'], \n",
        "               train[train['class'] == 'Iris-virginica']['petal width'],\n",
        "               label='Iris-virginica',\n",
        "               color='blue',\n",
        "               alpha=0.5)\n",
        "# Plot the other instances\n",
        "ax.scatter(train[train['class'] == 'Iris-other']['petal length'], \n",
        "               train[train['class'] == 'Iris-other']['petal width'],\n",
        "               label='Iris-other',\n",
        "               color='red',\n",
        "               alpha=0.5)\n",
        "\n",
        "\n",
        "plot_svc_decision_function(linear_svc_100, ax=ax)\n",
        "ax.set_xlabel('Petal length')\n",
        "ax.set_ylabel('Petal width')\n",
        "ax.legend()\n",
        "ax.set_title('SVM with Linear Kernel (C=100.00)');"
      ]
    },
    {
      "cell_type": "markdown",
      "metadata": {
        "id": "9NFr_3we4uwQ"
      },
      "source": [
        "**Question 1:** \n",
        "\n",
        "How did a higher value of $C$ affect the decision boundary? Why?\n",
        "\n",
        "**Answer:** \n",
        "\n",
        "A higher value of C led to a **smaller marigin**. This is because, by setting a strong penalty, we're **discouraging the model to allow samples to be closer to the marigin boundary**."
      ]
    },
    {
      "cell_type": "markdown",
      "metadata": {
        "id": "eGtZmCyH4uwQ"
      },
      "source": [
        "Compute and print the accuracy of each classifier (with $C=0.1$ and $C=100$) on the validation set. "
      ]
    },
    {
      "cell_type": "code",
      "execution_count": 118,
      "metadata": {
        "id": "hoS2UDnY4uwQ",
        "colab": {
          "base_uri": "https://localhost:8080/"
        },
        "outputId": "c462947d-987d-41ca-b7b2-f25d34c00230"
      },
      "outputs": [
        {
          "output_type": "stream",
          "name": "stdout",
          "text": [
            "Accuracy for classifier with C=0.1: 0.900\n",
            "Accuracy for classifier with C=100: 0.967\n"
          ]
        }
      ],
      "source": [
        "from sklearn.metrics import accuracy_score\n",
        "# YOUR CODE HERE\n",
        "\n",
        "y_valPred = linear_svc.predict(val[['petal length','petal width']])\n",
        "print('Accuracy for classifier with C=0.1: %.3f' % round(accuracy_score(val['class'], y_valPred), 3))\n",
        "\n",
        "y_valPred100 = linear_svc_100.predict(val[['petal length','petal width']])\n",
        "print('Accuracy for classifier with C=100: %.3f' % round(accuracy_score(val['class'], y_valPred100), 3))"
      ]
    },
    {
      "cell_type": "markdown",
      "metadata": {
        "id": "cHquoUaY4uwR"
      },
      "source": [
        "**Question 2:** \n",
        "\n",
        "Which value of $C$ resulted in higher validation accuracy?\n",
        "\n",
        "**Answer:** Clasifier with $C$ = 100 resulted in higher accuracy.\n"
      ]
    },
    {
      "cell_type": "markdown",
      "metadata": {
        "id": "4taIoGba4uwR"
      },
      "source": [
        "In addition to linear SVM, we can also implement SVM with polynomial, radial basis function (RBF), and sigmoid kernels. Train an SVM classifier with each kernel separately. Set $C$ to be the value of $C$ with highest validation accuracy from Question 2. \n",
        "\n",
        "You may need to consult the [sklearn documentation](https://scikit-learn.org/stable/modules/generated/sklearn.svm.SVC.html). The polynomial kernel requires the `degree` parameter to be passed; use `degree=3`."
      ]
    },
    {
      "cell_type": "code",
      "execution_count": 119,
      "metadata": {
        "id": "MArhz_MB4uwR",
        "colab": {
          "base_uri": "https://localhost:8080/"
        },
        "outputId": "457d4cfe-b995-4147-9e4a-39b21b5dac4b"
      },
      "outputs": [
        {
          "output_type": "execute_result",
          "data": {
            "text/plain": [
              "SVC(C=100)"
            ]
          },
          "metadata": {},
          "execution_count": 119
        }
      ],
      "source": [
        "# RBF\n",
        "# YOUR CODE HERE\n",
        "rbf_svc = SVC(kernel='rbf', C=100)\n",
        "rbf_svc.fit(train[['petal length','petal width']], train['class'])"
      ]
    },
    {
      "cell_type": "code",
      "execution_count": 120,
      "metadata": {
        "id": "UJCfEgVS4uwR",
        "colab": {
          "base_uri": "https://localhost:8080/"
        },
        "outputId": "496ad917-e48e-40ea-8df9-fc14bb53998a"
      },
      "outputs": [
        {
          "output_type": "execute_result",
          "data": {
            "text/plain": [
              "SVC(C=100, kernel='poly')"
            ]
          },
          "metadata": {},
          "execution_count": 120
        }
      ],
      "source": [
        "# Polynomial (degree=3)\n",
        "# YOUR CODE HERE\n",
        "poly_svc = SVC(kernel='poly', C=100, degree=3)\n",
        "poly_svc.fit(train[['petal length','petal width']], train['class'])"
      ]
    },
    {
      "cell_type": "code",
      "execution_count": 121,
      "metadata": {
        "id": "r3lCP4-i4uwR",
        "colab": {
          "base_uri": "https://localhost:8080/"
        },
        "outputId": "ab114c7a-b566-46e4-993b-d946c065f030"
      },
      "outputs": [
        {
          "output_type": "execute_result",
          "data": {
            "text/plain": [
              "SVC(C=100, kernel='sigmoid')"
            ]
          },
          "metadata": {},
          "execution_count": 121
        }
      ],
      "source": [
        "# Sigmoid\n",
        "# YOUR CODE HERE\n",
        "sigmoid_svc = SVC(kernel='sigmoid', C=100)\n",
        "sigmoid_svc.fit(train[['petal length','petal width']], train['class'])"
      ]
    },
    {
      "cell_type": "markdown",
      "metadata": {
        "id": "MYNQSMSP4uwR"
      },
      "source": [
        "Compute and print the validation accuracy for each of the 3 classifiers."
      ]
    },
    {
      "cell_type": "code",
      "execution_count": 122,
      "metadata": {
        "id": "v8K-4mBE4uwR",
        "colab": {
          "base_uri": "https://localhost:8080/"
        },
        "outputId": "3c944a04-e942-4916-ddb6-d0650007352d"
      },
      "outputs": [
        {
          "output_type": "stream",
          "name": "stdout",
          "text": [
            "Accuracy for RBF: 0.967\n",
            "Accuracy for Poly: 0.967\n",
            "Accuracy for Sigmoid: 0.433\n"
          ]
        }
      ],
      "source": [
        "# YOUR CODE HERE\n",
        "rbf_yValPred = rbf_svc.predict(val[['petal length','petal width']])\n",
        "print('Accuracy for RBF: %.3f' % accuracy_score(val['class'], rbf_yValPred))\n",
        "\n",
        "poly_yValPred = poly_svc.predict(val[['petal length','petal width']])\n",
        "print('Accuracy for Poly: %.3f' % accuracy_score(val['class'], poly_yValPred))\n",
        "\n",
        "sigmoid_yValPred = sigmoid_svc.predict(val[['petal length','petal width']])\n",
        "print('Accuracy for Sigmoid: %.3f' % accuracy_score(val['class'], sigmoid_yValPred))"
      ]
    },
    {
      "cell_type": "markdown",
      "metadata": {
        "id": "cx3cQ9yu4uwR"
      },
      "source": [
        "**Question 3:** \n",
        "\n",
        "Which of the four kernels (the three above + linear) gave the highest validation accuracy? (If multiple tied for the highest accuracy, list all of them.)\n",
        "\n",
        "**Answer:** \n",
        "\n",
        "Linear, RBF and Poly gave the highest accuracy of 96.7%. "
      ]
    },
    {
      "cell_type": "markdown",
      "metadata": {
        "id": "7OERl9Yn4uwR"
      },
      "source": [
        "### SVM with non-linear decision boundary\n",
        "\n",
        "For the Iris-virginica vs. Iris-other version of the Iris dataset, the two classes were mostly linearly separable with a small number of classification errors. However, if we instead wanted to classify Iris-versicolor vs. Iris-other, the two classes would not be linearly separable. Below, we load the dataset again and convert it to Iris-versicolor vs. Iris-other and plot the dataset as a scatter plot."
      ]
    },
    {
      "cell_type": "code",
      "execution_count": 123,
      "metadata": {
        "id": "4SwrJ2ek4uwR",
        "colab": {
          "base_uri": "https://localhost:8080/",
          "height": 352
        },
        "outputId": "c4a47873-6748-4a8d-a1ce-8ed506bfc604"
      },
      "outputs": [
        {
          "output_type": "execute_result",
          "data": {
            "text/plain": [
              "<matplotlib.legend.Legend at 0x7fccbb650a90>"
            ]
          },
          "metadata": {},
          "execution_count": 123
        },
        {
          "output_type": "display_data",
          "data": {
            "text/plain": [
              "<Figure size 504x360 with 1 Axes>"
            ],
            "image/png": "[encoded data removed]"
          },
          "metadata": {
            "needs_background": "light"
          }
        }
      ],
      "source": [
        "# Load the dataset\n",
        "data = pd.read_csv('http://archive.ics.uci.edu/ml/machine-learning-databases/iris/iris.data',header=None)\n",
        "data.columns = ['sepal length', 'sepal width', 'petal length', 'petal width', 'class']\n",
        "\n",
        "# Drop the sepal features\n",
        "data = data.drop(['sepal length', 'sepal width'], axis=1)\n",
        "\n",
        "# Replace the Iris-virginica and Iris-setosa classes with Iris-other\n",
        "data['class'] = data['class'].replace('Iris-virginica', 'Iris-other')\n",
        "data['class'] = data['class'].replace('Iris-setosa', 'Iris-other')\n",
        "\n",
        "# Split the data into train/val/test\n",
        "train, val, test = np.split(data.sample(frac=1, random_state=42), [int(.6*len(data)), int(.8*len(data))])\n",
        "\n",
        "# Plot the dataset\n",
        "fig, ax = plt.subplots(1, figsize=(7,5))\n",
        "# Plot the versicolor instances\n",
        "ax.scatter(train[train['class'] == 'Iris-versicolor']['petal length'], \n",
        "               train[train['class'] == 'Iris-versicolor']['petal width'],\n",
        "               label='Iris-versicolor',\n",
        "               color='blue',\n",
        "               alpha=0.5)\n",
        "\n",
        "# Plot the other instances\n",
        "ax.scatter(train[train['class'] == 'Iris-other']['petal length'], \n",
        "               train[train['class'] == 'Iris-other']['petal width'],\n",
        "               label='Iris-other',\n",
        "               color='red',\n",
        "               alpha=0.5)\n",
        "\n",
        "ax.set_xlabel('Petal length')\n",
        "ax.set_ylabel('Petal width')\n",
        "ax.legend()"
      ]
    },
    {
      "cell_type": "markdown",
      "metadata": {
        "id": "eUfuQBl14uwR"
      },
      "source": [
        "If we train a linear SVM to classify these instances, the accuracy will be low. Train a linear SVM and plot the decision boundary to show this (use $C=100$)."
      ]
    },
    {
      "cell_type": "code",
      "execution_count": 124,
      "metadata": {
        "id": "Zv2pWV_h4uwR",
        "colab": {
          "base_uri": "https://localhost:8080/"
        },
        "outputId": "a8138514-65ce-4185-abd2-ed3bde70b609"
      },
      "outputs": [
        {
          "output_type": "execute_result",
          "data": {
            "text/plain": [
              "SVC(C=100, kernel='linear')"
            ]
          },
          "metadata": {},
          "execution_count": 124
        }
      ],
      "source": [
        "# YOUR CODE HERE\n",
        "linear_svc = SVC(kernel='linear', C=100)\n",
        "linear_svc.fit(train[['petal length','petal width']], train['class'])"
      ]
    },
    {
      "cell_type": "markdown",
      "metadata": {
        "id": "QQb_VxFo4uwR"
      },
      "source": [
        "The radial basis function kernel will allow us to learn an elliptical decision boundary that will better fit the data. Train an SVM with RBF kernel and plot the decision boundary (use $C=100$)."
      ]
    },
    {
      "cell_type": "code",
      "execution_count": 125,
      "metadata": {
        "id": "v32BZAfi4uwS",
        "colab": {
          "base_uri": "https://localhost:8080/",
          "height": 386
        },
        "outputId": "513e32f5-b2a3-4035-ef5c-d2d7000032e6"
      },
      "outputs": [
        {
          "output_type": "stream",
          "name": "stderr",
          "text": [
            "/usr/local/lib/python3.7/dist-packages/sklearn/base.py:451: UserWarning: X does not have valid feature names, but SVC was fitted with feature names\n",
            "  \"X does not have valid feature names, but\"\n"
          ]
        },
        {
          "output_type": "display_data",
          "data": {
            "text/plain": [
              "<Figure size 504x360 with 1 Axes>"
            ],
            "image/png": "[encoded data removed]"
          },
          "metadata": {
            "needs_background": "light"
          }
        }
      ],
      "source": [
        "# YOUR CODE HERE\n",
        "rbf_svc = SVC(kernel='rbf', C=100)\n",
        "rbf_svc.fit(train[['petal length','petal width']], train['class'])\n",
        "\n",
        "# Plot the dataset\n",
        "fig, ax = plt.subplots(1, figsize=(7,5))\n",
        "# Plot the versicolor instances\n",
        "ax.scatter(train[train['class'] == 'Iris-versicolor']['petal length'], \n",
        "               train[train['class'] == 'Iris-versicolor']['petal width'],\n",
        "               label='Iris-versicolor',\n",
        "               color='blue',\n",
        "               alpha=0.5)\n",
        "\n",
        "# Plot the other instances\n",
        "ax.scatter(train[train['class'] == 'Iris-other']['petal length'], \n",
        "               train[train['class'] == 'Iris-other']['petal width'],\n",
        "               label='Iris-other',\n",
        "               color='red',\n",
        "               alpha=0.5)\n",
        "\n",
        "plot_svc_decision_function(rbf_svc, ax=ax)\n",
        "\n",
        "ax.set_xlabel('Petal length')\n",
        "ax.set_ylabel('Petal width')\n",
        "ax.legend()\n",
        "ax.set_title('SVM with RBF Kernel (C=100)');"
      ]
    },
    {
      "cell_type": "markdown",
      "metadata": {
        "id": "y_MAPO9c4uwS"
      },
      "source": [
        "Compute and print the validation accuracy of your linear and RBF SVM classifiers."
      ]
    },
    {
      "cell_type": "code",
      "execution_count": 126,
      "metadata": {
        "id": "It62mIdK4uwS",
        "colab": {
          "base_uri": "https://localhost:8080/"
        },
        "outputId": "b5d34e27-baa4-4b05-dc20-ae11d62140ab"
      },
      "outputs": [
        {
          "output_type": "stream",
          "name": "stdout",
          "text": [
            "Accuracy for linear SVM: 0.700\n",
            "Accuracy for RBF SVM: 0.967\n"
          ]
        }
      ],
      "source": [
        "# YOUR CODE HERE\n",
        "linear_yValPred = linear_svc.predict(val[['petal length','petal width']])\n",
        "print('Accuracy for linear SVM: %.3f' % accuracy_score(val['class'], linear_yValPred))\n",
        "\n",
        "rbf_yValPred = rbf_svc.predict(val[['petal length','petal width']])\n",
        "print('Accuracy for RBF SVM: %.3f' % accuracy_score(val['class'], rbf_yValPred))"
      ]
    },
    {
      "cell_type": "markdown",
      "metadata": {
        "id": "ltdVwoW24uwS"
      },
      "source": [
        "Finally, use the best model (the one with the highest validation accuracy in the last cell) to compute the final accuracy on our test set. "
      ]
    },
    {
      "cell_type": "code",
      "execution_count": 127,
      "metadata": {
        "id": "jwLzdB_L4uwS",
        "colab": {
          "base_uri": "https://localhost:8080/"
        },
        "outputId": "3790394e-dc79-4a5a-857a-69b6e1c707ba"
      },
      "outputs": [
        {
          "output_type": "stream",
          "name": "stdout",
          "text": [
            "Accuracy for RBF SVM (Test set): 0.967\n"
          ]
        }
      ],
      "source": [
        "# YOUR CODE HERE\n",
        "rbf_yTestPred = rbf_svc.predict(test[['petal length','petal width']])\n",
        "print('Accuracy for RBF SVM (Test set): %.3f' % accuracy_score(test['class'], rbf_yTestPred))"
      ]
    },
    {
      "cell_type": "markdown",
      "metadata": {
        "id": "dsSmM_284uwS"
      },
      "source": [
        "### Put everything together\n",
        "\n",
        "In this last section, we load the full iris dataset including all features and the three classes and split it into train/val/test subsets. Then you will implement the following steps:\n",
        "1. Train an SVM with RBF kernel using all four input features and all 3 classes.\n",
        "2. Evaluate whether $C=0.1$, $C=1$, $C=10$, or $C=100$ gives better validation accuracy. Print the validation accuracy for both.\n",
        "3. Use the model with the setting of $C$ that gave the highest validation accuracy to make predictions for the *test* set and compute/print the final accuracy on the test set."
      ]
    },
    {
      "cell_type": "code",
      "execution_count": 128,
      "metadata": {
        "id": "Aw11LUJo4uwS",
        "colab": {
          "base_uri": "https://localhost:8080/"
        },
        "outputId": "d890701a-f0c3-4788-8162-2b9c54dbcc55"
      },
      "outputs": [
        {
          "output_type": "execute_result",
          "data": {
            "text/plain": [
              "Index(['sepal length', 'sepal width', 'petal length', 'petal width', 'class'], dtype='object')"
            ]
          },
          "metadata": {},
          "execution_count": 128
        }
      ],
      "source": [
        "# Load the dataset\n",
        "data = pd.read_csv('http://archive.ics.uci.edu/ml/machine-learning-databases/iris/iris.data',header=None)\n",
        "data.columns = ['sepal length', 'sepal width', 'petal length', 'petal width', 'class']\n",
        "\n",
        "# Split the data into train/val/test\n",
        "train, val, test = np.split(data.sample(frac=1, random_state=42), [int(.6*len(data)), int(.8*len(data))])\n",
        "train.columns"
      ]
    },
    {
      "cell_type": "code",
      "execution_count": 129,
      "metadata": {
        "id": "6IQfAXlK4uwS",
        "colab": {
          "base_uri": "https://localhost:8080/"
        },
        "outputId": "2eb417eb-a19d-40ff-944f-b109235857b1"
      },
      "outputs": [
        {
          "output_type": "stream",
          "name": "stdout",
          "text": [
            "Validation accuracy for RBF SVM with C=0.1 is 0.733\n",
            "Validation accuracy for RBF SVM with C=1.0 is 0.933\n",
            "Validation accuracy for RBF SVM with C=10.0 is 0.967\n",
            "Validation accuracy for RBF SVM with C=100.0 is 0.933\n"
          ]
        }
      ],
      "source": [
        "# Train SVMs and evaluate validation accuracy\n",
        "# YOUR CODE HERE\n",
        "\n",
        "C = 0.1\n",
        "while C <= 100:\n",
        "  svm = SVC(kernel='rbf', C=C)\n",
        "  svm.fit(train.drop(['class'], axis=1), train['class'])\n",
        "  pred = svm.predict(val.drop(['class'], axis = 1))\n",
        "  acc = accuracy_score(val['class'], pred)\n",
        "  print(f'Validation accuracy for RBF SVM with C={C} is {round(acc, 3)}')\n",
        "  C *= 10"
      ]
    },
    {
      "cell_type": "code",
      "execution_count": 130,
      "metadata": {
        "id": "QudgP9DS4uwS",
        "colab": {
          "base_uri": "https://localhost:8080/"
        },
        "outputId": "03bfe8ba-987a-4b90-a0b1-d71083400eff"
      },
      "outputs": [
        {
          "output_type": "stream",
          "name": "stdout",
          "text": [
            "Test accuracy for RBF SVM with C=10 is 0.967\n"
          ]
        }
      ],
      "source": [
        "# Use best model to predict test set and compute test accuracy\n",
        "# YOUR CODE HERE\n",
        "svm = SVC(kernel='rbf', C=10)\n",
        "svm.fit(train.drop(['class'], axis=1), train['class'])\n",
        "\n",
        "pred = svm.predict(test.drop(['class'], axis = 1))\n",
        "acc = accuracy_score(test['class'], pred)\n",
        "print(f'Test accuracy for RBF SVM with C=10 is {round(acc, 3)}')"
      ]
    }
  ],
  "metadata": {
    "kernelspec": {
      "display_name": "Python 3",
      "language": "python",
      "name": "python3"
    },
    "language_info": {
      "codemirror_mode": {
        "name": "ipython",
        "version": 3
      },
      "file_extension": ".py",
      "mimetype": "text/x-python",
      "name": "python",
      "nbconvert_exporter": "python",
      "pygments_lexer": "ipython3",
      "version": "3.6.15"
    },
    "colab": {
      "provenance": [],
      "collapsed_sections": []
    }
  },
  "nbformat": 4,
  "nbformat_minor": 0
}