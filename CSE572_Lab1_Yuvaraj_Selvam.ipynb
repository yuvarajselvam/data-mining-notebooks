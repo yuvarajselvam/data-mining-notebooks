{
  "cells": [
    {
      "cell_type": "markdown",
      "metadata": {
        "id": "XVwFfRJY45Ez"
      },
      "source": [
        "# CSE 572: Lab 1\n",
        "\n",
        "This lab contains two modules: \n",
        "1.   Module 1: Introduction to Python\n",
        "2.   Module 2: Introduction to Numpy and Pandas\n",
        "\n",
        "At the end there is a practice exercise in which you will use some of the operations from Modules 1 and 2.\n",
        "\n",
        "To execute and make changes to this notebook, click File > Save a copy to save your own version in your Google Drive or Github. Read the step-by-step instructions below carefully. To execute the code, click on each cell below and press the SHIFT-ENTER keys simultaneously or by clicking the Play button. \n",
        "\n",
        "When you finish executing all code/exercises, save your notebook then download a copy (.ipynb file). Submit the file on Canvas.\n"
      ]
    },
    {
      "cell_type": "markdown",
      "metadata": {
        "id": "WJiv__lc4Hze"
      },
      "source": [
        "# Module 1: Introduction to Python\n",
        "\n",
        "Python is a high-level programming language with extensive libraries available to perform various data analysis tasks. \n",
        "The following tutorial contains examples of using various data types, functions, and library modules available in the standard Python library. \n",
        "\n",
        "We begin with some basic information about Python:\n",
        "1. Python is an interpreted language, unlike other high-level programming languages such as C or C++. You only need to submit your Python program to an interpreter for execution, without having to explicitly compile and link the code first.\n",
        "\n",
        "2. Python is a dynamically typed language, which means variable names are bound to their respective types during execution time. You do not have to explicitly declare the type of a variable before using it in the code unlike Java, C++, and other statically-typed languages.\n",
        "\n",
        "3. Instead of using braces '{' and '}', Python uses whitespace indentation to group together related statements in loops or other control-flow statements.\n",
        "\n",
        "4. Python uses the hash character ('#') to precede single-line comments. Triple-quoted strings (''') are commonly used to denote multi-line comments (even though it is not part of the standard Python language) or docstring of functions.\n",
        "\n",
        "5. Python uses pass by reference (instead of pass by value) when assigning a variable to another (e.g., a = b) or when passing an object as input argument to a function. Thus, any modification to the assigned variable or to the input argument within the function will affect the original object.  \n",
        "\n",
        "6. Python uses `None` to denote a null object (e.g., a = None). You do not have to terminate each statement with a terminating character (such as a semicolon) unlike other languages.\n",
        "\n",
        "7. You may access the variables or functions defined in another Python program file using the `import` command. This is analogous to the `import` command in Java or the `#include` command in C or C++."
      ]
    },
    {
      "cell_type": "markdown",
      "metadata": {
        "id": "FLm6IlGs4Hzh"
      },
      "source": [
        "## 1.1 Elementary Data Types\n",
        "\n",
        "The standard Python library provides support for various elementary data types, including including integers, booleans, floating points, and strings. A summary of the data types is shown in the table below.\n",
        "\n",
        "| &nbsp;  |      Data Type    |   Example   | \n",
        "|:--------|:-----------------:|:------------|\n",
        "|Number   | Integer           | x = 4       |\n",
        "| &nbsp;  | Long integer      | x = 15L     | \n",
        "| &nbsp;  | Floating point    | x = 3.142   | \n",
        "| &nbsp;  | Boolean           | x = True    |\n",
        "|Text     | Character         | x = 'c'     |\n",
        "| &nbsp;  | String            | x = \"this\" or x = 'this' |"
      ]
    },
    {
      "cell_type": "code",
      "execution_count": null,
      "metadata": {
        "id": "pcGGeqM_4Hzi",
        "colab": {
          "base_uri": "https://localhost:8080/"
        },
        "outputId": "5251eac9-f9ac-4580-ec1a-6a553e565ed0"
      },
      "outputs": [
        {
          "output_type": "stream",
          "name": "stdout",
          "text": [
            "4 <class 'int'>\n",
            "True <class 'bool'>\n",
            "3.7 <class 'float'>\n",
            "This is a string <class 'str'>\n"
          ]
        }
      ],
      "source": [
        "x = 4              # integer\n",
        "print(x, type(x))\n",
        "\n",
        "y = True           # boolean (True, False)\n",
        "print(y, type(y))\n",
        "\n",
        "z = 3.7            # floating point\n",
        "print(z, type(z))\n",
        "\n",
        "s = \"This is a string\"    # string\n",
        "print(s, type(s))"
      ]
    },
    {
      "cell_type": "markdown",
      "metadata": {
        "id": "xMUnTNfK4Hzj"
      },
      "source": [
        "The following are some of the arithmetic operations available for manipulating integers and floating point numbers"
      ]
    },
    {
      "cell_type": "code",
      "execution_count": null,
      "metadata": {
        "id": "3J-wLIr34Hzj",
        "colab": {
          "base_uri": "https://localhost:8080/"
        },
        "outputId": "5357cf3d-677f-4710-a462-06ebec684448"
      },
      "outputs": [
        {
          "output_type": "stream",
          "name": "stdout",
          "text": [
            "18 8 12 6 18 2\n",
            "3.7 1.7000000000000002 1.2333333333333334 1.0 13.690000000000001\n",
            "3.7 13.690000000000001 4 3\n"
          ]
        }
      ],
      "source": [
        "x = 4            # integer\n",
        "x1 = x + 4       # addition \n",
        "x2 = x * 3       # multiplication\n",
        "x += 2           # equivalent to x = x + 2\n",
        "x3 = x       \n",
        "x *= 3           # equivalent to x = x * 3\n",
        "x4 = x      \n",
        "x5 = x % 4       # modulo (remainder) operator\n",
        "\n",
        "z = 3.7          # floating point number\n",
        "z1 = z - 2       # subtraction\n",
        "z2 = z / 3       # division\n",
        "z3 = z // 3      # integer division\n",
        "z4 = z ** 2      # square of z \n",
        "z5 = z4 ** 0.5   # square root\n",
        "z6 = pow(z,2)    # equivalent to square of z\n",
        "z7 = round(z)    # rounding z to its nearest integer \n",
        "z8 = int(z)      # type casting float to int\n",
        "\n",
        "print(x,x1,x2,x3,x4,x5)\n",
        "print(z,z1,z2,z3,z4)\n",
        "print(z5,z6,z7,z8)"
      ]
    },
    {
      "cell_type": "markdown",
      "metadata": {
        "id": "PRtv2pIf4Hzk"
      },
      "source": [
        "The following are some of the functions provided by the math module for integers and floating point numbers"
      ]
    },
    {
      "cell_type": "code",
      "execution_count": null,
      "metadata": {
        "id": "WEtAf-WA4Hzk",
        "scrolled": true,
        "colab": {
          "base_uri": "https://localhost:8080/"
        },
        "outputId": "0a2bdd17-b01c-44a2-e658-8277ac0aaf89"
      },
      "outputs": [
        {
          "output_type": "stream",
          "name": "stdout",
          "text": [
            "2.0\n",
            "16.0\n",
            "54.598150033144236\n",
            "2.0\n",
            "4.0\n",
            "24\n",
            "1\n",
            "0\n",
            "0\n",
            "3.6739403974420594e-16\n",
            "0.9999999869751758\n",
            "True\n",
            "True\n"
          ]
        }
      ],
      "source": [
        "import math\n",
        "\n",
        "x = 4\n",
        "print(math.sqrt(x))      # sqrt(4) = 2\n",
        "print(math.pow(x,2))     # 4**2 = 16\n",
        "print(math.exp(x))       # exp(4) = 54.6\n",
        "print(math.log(x,2))     # log based 2  (default is natural logarithm)\n",
        "print(math.fabs(-4))     # absolute value\n",
        "print(math.factorial(x)) # 4! = 4 x 3 x 2 x 1 = 24\n",
        "\n",
        "z = 0.2\n",
        "print(math.ceil(z))      # ceiling function\n",
        "print(math.floor(z))     # floor function\n",
        "print(math.trunc(z))     # truncate function\n",
        "\n",
        "z = 3*math.pi            # math.pi = 3.141592653589793 \n",
        "print(math.sin(z))       # sine function\n",
        "print(math.tanh(z))      # arctan function\n",
        "\n",
        "x = math.nan             # not a number\n",
        "print(math.isnan(x))\n",
        "\n",
        "x = math.inf             # infinity\n",
        "print(math.isinf(x))"
      ]
    },
    {
      "cell_type": "markdown",
      "metadata": {
        "collapsed": true,
        "id": "tBomt_Qp4Hzl"
      },
      "source": [
        "The following are some of the logical operations available for booleans"
      ]
    },
    {
      "cell_type": "code",
      "execution_count": null,
      "metadata": {
        "id": "CgOsci3x4Hzl",
        "colab": {
          "base_uri": "https://localhost:8080/"
        },
        "outputId": "4c560a14-ba55-4beb-a3a3-5013fc3c9018"
      },
      "outputs": [
        {
          "output_type": "stream",
          "name": "stdout",
          "text": [
            "False\n",
            "True\n",
            "True\n"
          ]
        }
      ],
      "source": [
        "y1 = True\n",
        "y2 = False\n",
        "\n",
        "print(y1 and y2)       # logical AND\n",
        "print(y1 or y2)        # logical OR\n",
        "print(y1 and not y2)   # logical NOT"
      ]
    },
    {
      "cell_type": "markdown",
      "metadata": {
        "id": "hCytPHq64Hzm"
      },
      "source": [
        "The following are some of the operations and functions for manipulating strings"
      ]
    },
    {
      "cell_type": "code",
      "execution_count": null,
      "metadata": {
        "id": "lR_MkZdx4Hzm",
        "colab": {
          "base_uri": "https://localhost:8080/"
        },
        "outputId": "4ef14aaf-b804-4335-92a9-3e39e2adcc14"
      },
      "outputs": [
        {
          "output_type": "stream",
          "name": "stdout",
          "text": [
            "his\n",
            "4\n",
            "Length of string is 4\n",
            "THIS\n",
            "this\n",
            "This\n",
            "This is another string\n",
            "That at a string\n",
            "8\n",
            "True\n",
            "True\n",
            "False\n",
            "This is a string too\n",
            "This This This \n"
          ]
        }
      ],
      "source": [
        "s1 = \"This\"\n",
        "\n",
        "print(s1[1:])                    # print last three characters \n",
        "print(len(s1))                               # get the string length\n",
        "print(\"Length of string is \" + str(len(s1))) # type casting int to str\n",
        "print(s1.upper())                            # convert to upper case\n",
        "print(s1.lower())                            # convert to lower case\n",
        "\n",
        "s2 = \"This is a string\"\n",
        "words = s2.split(' ')             # split the string into words\n",
        "print(words[0])\n",
        "print(s2.replace('a','another'))  # replace \"a\" with \"another\"\n",
        "print(s2.replace('is','at'))      # replace \"is\" with \"at\"\n",
        "print(s2.find(\"a\"))               # find the position of \"a\" in s2\n",
        "print(s1 in s2)                   # check if s1 is a substring of s2\n",
        "\n",
        "print(s1 == 'This')               # equality comparison\n",
        "print(s1 < 'That')                # inequality comparison\n",
        "print(s2 + \" too\")                # string concatenation\n",
        "print((s1 + \" \")* 3)              # replicate the string 3 times"
      ]
    },
    {
      "cell_type": "markdown",
      "metadata": {
        "id": "Gprvq-Se4Hzn"
      },
      "source": [
        "## 1.2 Compound Data Types\n",
        "\n",
        "The following examples show how to create and manipulate a list object"
      ]
    },
    {
      "cell_type": "code",
      "execution_count": null,
      "metadata": {
        "id": "6lu5cqWU4Hzn",
        "colab": {
          "base_uri": "https://localhost:8080/"
        },
        "outputId": "8a9ccdf4-49e5-41d2-85d1-a6e5d3e2cafd"
      },
      "outputs": [
        {
          "output_type": "stream",
          "name": "stdout",
          "text": [
            "<class 'list'>\n",
            "[1, 3, 5, 7, 9]\n",
            "[0, 2, 4, 6, 8]\n",
            "5\n",
            "[1, 3]\n",
            "[5, 7, 9]\n",
            "[7, 9]\n",
            "5\n",
            "25\n",
            "[1, 3, 5, 7, 9, 11]\n",
            "11\n",
            "[1, 3, 5, 7, 9]\n",
            "[1, 3, 5, 7, 9, 11, 13, 15]\n",
            "[1, 3, 5, 7, 9, 1, 3, 5, 7, 9, 1, 3, 5, 7, 9]\n",
            "[1, 3, 4, 5, 7, 9]\n",
            "[9, 7, 5, 4, 3, 1]\n"
          ]
        }
      ],
      "source": [
        "intlist = [1, 3, 5, 7, 9]\n",
        "print(type(intlist))\n",
        "print(intlist)\n",
        "intlist2 = list(range(0,10,2))   # range[startvalue, endvalue, stepsize]\n",
        "print(intlist2)\n",
        "\n",
        "print(intlist[2])                # get the third element of the list\n",
        "print(intlist[:2])               # get the first two elements\n",
        "print(intlist[2:])               # get the last three elements of the list\n",
        "print(intlist[-2:])              # get the last two elements of the list\n",
        "print(len(intlist))              # get the number of elements in the list\n",
        "print(sum(intlist))              # sums up elements of the list\n",
        "\n",
        "intlist.append(11)               # insert 11 to end of the list\n",
        "print(intlist)\n",
        "print(intlist.pop())             # remove last element of the list\n",
        "print(intlist)\n",
        "print(intlist + [11,13,15])      # concatenate two lists\n",
        "print(intlist * 3)               # replicate the list\n",
        "intlist.insert(2,4)              # insert item 4 at index 2  \n",
        "print(intlist)\n",
        "intlist.sort(reverse=True)       # sort elements in descending order\n",
        "print(intlist)"
      ]
    },
    {
      "cell_type": "code",
      "execution_count": null,
      "metadata": {
        "id": "4rT-_Hxh4Hzn",
        "colab": {
          "base_uri": "https://localhost:8080/"
        },
        "outputId": "12851b94-9277-46b4-b268-f50db9f9d564"
      },
      "outputs": [
        {
          "output_type": "stream",
          "name": "stdout",
          "text": [
            "['this', 'is', 'a', 'list']\n",
            "<class 'list'>\n",
            "True\n",
            "a\n",
            "['this', 'is']\n",
            "['a', 'list']\n",
            "this is a list too\n",
            "['this', 'a', 'list', 'too']\n"
          ]
        }
      ],
      "source": [
        "mylist = ['this', 'is', 'a', 'list']\n",
        "print(mylist)\n",
        "print(type(mylist))\n",
        "\n",
        "print(\"list\" in mylist)          # check whether \"list\" is in mylist\n",
        "print(mylist[2])                 # show the 3rd element of the list\n",
        "print(mylist[:2])                # show the first two elements of the list\n",
        "print(mylist[2:])                # show the last two elements of the list\n",
        "mylist.append(\"too\")             # insert element to end of the list\n",
        "\n",
        "separator = \" \"\n",
        "print(separator.join(mylist))    # merge all elements of the list into a string\n",
        "\n",
        "mylist.remove(\"is\")              # remove element from list\n",
        "print(mylist)"
      ]
    },
    {
      "cell_type": "markdown",
      "metadata": {
        "id": "CqE8ts0v4Hzo"
      },
      "source": [
        "The following examples show how to create and manipulate a dictionary object"
      ]
    },
    {
      "cell_type": "code",
      "execution_count": null,
      "metadata": {
        "id": "YdHFePDe4Hzo",
        "colab": {
          "base_uri": "https://localhost:8080/"
        },
        "outputId": "04c76536-680f-4ffd-890e-31891b5027ec"
      },
      "outputs": [
        {
          "output_type": "stream",
          "name": "stdout",
          "text": [
            "{'MI': 'Michigan', 'MN': 'Minnesota', 'TX': 'Texas', 'CA': 'California'}\n",
            "dict_keys(['MI', 'MN', 'TX', 'CA'])\n",
            "dict_values(['Michigan', 'Minnesota', 'Texas', 'California'])\n",
            "4\n",
            "Michigan\n",
            "False\n",
            "True\n"
          ]
        }
      ],
      "source": [
        "abbrev = {}\n",
        "abbrev['MI'] = \"Michigan\"\n",
        "abbrev['MN'] = \"Minnesota\"\n",
        "abbrev['TX'] = \"Texas\"\n",
        "abbrev['CA'] = \"California\"\n",
        "\n",
        "print(abbrev)\n",
        "print(abbrev.keys())            # get the keys of the dictionary\n",
        "print(abbrev.values())          # get the values of the dictionary\n",
        "print(len(abbrev))              # get number of key-value pairs\n",
        "\n",
        "print(abbrev.get('MI'))\n",
        "print(\"FL\" in abbrev)\n",
        "print(\"CA\" in abbrev)"
      ]
    },
    {
      "cell_type": "code",
      "execution_count": null,
      "metadata": {
        "id": "tL66TQzh63VU",
        "colab": {
          "base_uri": "https://localhost:8080/"
        },
        "outputId": "44c0cd4d-43e1-4120-befe-852c6752fff1"
      },
      "outputs": [
        {
          "output_type": "stream",
          "name": "stdout",
          "text": [
            "{'apples': 3, 'oranges': 4, 'bananas': 2, 'cherries': 10}\n",
            "['apples', 'bananas', 'cherries', 'oranges']\n",
            "[('apples', 3), ('bananas', 2), ('cherries', 10), ('oranges', 4)]\n",
            "[('bananas', 2), ('apples', 3), ('oranges', 4), ('cherries', 10)]\n"
          ]
        }
      ],
      "source": [
        "keys = ['apples', 'oranges', 'bananas', 'cherries']\n",
        "values = [3, 4, 2, 10]\n",
        "fruits = dict(zip(keys, values))\n",
        "print(fruits)\n",
        "print(sorted(fruits))     # sort keys of dictionary\n",
        "\n",
        "from operator import itemgetter\n",
        "print(sorted(fruits.items(), key=itemgetter(0)))    # sort by key of dictionary\n",
        "print(sorted(fruits.items(), key=itemgetter(1)))    # sort by value of dictionary"
      ]
    },
    {
      "cell_type": "markdown",
      "metadata": {
        "id": "YLe3-CGH4Hzo"
      },
      "source": [
        "The following examples show how to create and manipulate a tuple object. Unlike a list, a tuple object is immutable, i.e., they cannot be modified after creation."
      ]
    },
    {
      "cell_type": "code",
      "execution_count": null,
      "metadata": {
        "id": "O8FoMBO34Hzo",
        "colab": {
          "base_uri": "https://localhost:8080/"
        },
        "outputId": "59d36f00-c195-442d-fb7d-c27ba724d7ef"
      },
      "outputs": [
        {
          "output_type": "stream",
          "name": "stdout",
          "text": [
            "('MI', 'Michigan', 'Lansing')\n",
            "('Michigan', 'Lansing')\n",
            "[('MI', 'Michigan', 'Lansing'), ('CA', 'California', 'Sacramento'), ('TX', 'Texas', 'Austin')]\n",
            "('TX', 'Texas', 'Austin')\n",
            "('TX', 'Texas', 'Austin')\n",
            "('Texas', 'Austin')\n",
            "[('TX', 'Texas', 'Austin'), ('MI', 'Michigan', 'Lansing'), ('CA', 'California', 'Sacramento')]\n"
          ]
        }
      ],
      "source": [
        "MItuple = ('MI', 'Michigan', 'Lansing')\n",
        "CAtuple = ('CA', 'California', 'Sacramento')\n",
        "TXtuple = ('TX', 'Texas', 'Austin')\n",
        "\n",
        "print(MItuple)\n",
        "print(MItuple[1:])\n",
        "\n",
        "states = [MItuple, CAtuple, TXtuple]    # this will create a list of tuples\n",
        "print(states)\n",
        "print(states[2]) # print the third tuple in the list\n",
        "print(states[2][:]) # print all the values in the third tuple\n",
        "print(states[2][1:]) # print the last two values in the third tuple\n",
        "\n",
        "states.sort(key=lambda state: state[2])  # sort the states by their capital cities (last value in list)\n",
        "print(states)"
      ]
    },
    {
      "cell_type": "markdown",
      "metadata": {
        "id": "Ye5okI-s4Hzp"
      },
      "source": [
        "## 1.3 Control Flow Statements\n",
        "\n",
        "Similar to other programming languages, the control flow statements in Python include if, for, and while statements. Examples on how to use these statements are shown below. "
      ]
    },
    {
      "cell_type": "code",
      "execution_count": null,
      "metadata": {
        "id": "2bH2koES4Hzp",
        "colab": {
          "base_uri": "https://localhost:8080/"
        },
        "outputId": "9618cf14-deea-466c-e7d6-a48f0128ec8f"
      },
      "outputs": [
        {
          "output_type": "stream",
          "name": "stdout",
          "text": [
            "x = 10 is even\n",
            "x = 10 is positive\n"
          ]
        }
      ],
      "source": [
        "# using if-else statement\n",
        "\n",
        "x = 10\n",
        "\n",
        "if x % 2 == 0:\n",
        "    print(\"x =\", x, \"is even\")\n",
        "else:\n",
        "    print(\"x =\", x, \"is odd\")\n",
        "\n",
        "if x > 0:\n",
        "    print(\"x =\", x, \"is positive\")\n",
        "elif x < 0:\n",
        "    print(\"x =\", x, \"is negative\")\n",
        "else:\n",
        "    print(\"x =\", x, \"is neither positive nor negative\")"
      ]
    },
    {
      "cell_type": "code",
      "execution_count": null,
      "metadata": {
        "id": "uAAsYQ-R4Hzp",
        "colab": {
          "base_uri": "https://localhost:8080/"
        },
        "outputId": "ab446628-5644-4648-902b-b87b1e7553ec"
      },
      "outputs": [
        {
          "output_type": "stream",
          "name": "stdout",
          "text": [
            "that\n",
            "at\n",
            "a\n",
            "latt\n",
            "[4, 2, 1, 4]\n"
          ]
        }
      ],
      "source": [
        "# using for loop with a list\n",
        "\n",
        "mylist = ['this', 'is', 'a', 'list']\n",
        "for word in mylist:\n",
        "    print(word.replace(\"is\", \"at\"))\n",
        "    \n",
        "mylist2 = [len(word) for word in mylist]   # number of characters in each word\n",
        "print(mylist2)"
      ]
    },
    {
      "cell_type": "code",
      "execution_count": null,
      "metadata": {
        "id": "nkrnBoTk7Xwz",
        "colab": {
          "base_uri": "https://localhost:8080/"
        },
        "outputId": "e142789c-db55-499d-92e6-043047f94539"
      },
      "outputs": [
        {
          "output_type": "stream",
          "name": "stdout",
          "text": [
            "['Austin', 'Lansing', 'Sacramento']\n"
          ]
        }
      ],
      "source": [
        "# using for loop with list of tuples\n",
        "\n",
        "states = [('MI', 'Michigan', 'Lansing'),('CA', 'California', 'Sacramento'),\n",
        "          ('TX', 'Texas', 'Austin')]\n",
        "\n",
        "sorted_capitals = [state[2] for state in states]\n",
        "sorted_capitals.sort()\n",
        "print(sorted_capitals)"
      ]
    },
    {
      "cell_type": "code",
      "execution_count": null,
      "metadata": {
        "id": "Ksn5nPTc7X3C",
        "colab": {
          "base_uri": "https://localhost:8080/"
        },
        "outputId": "52dfa01f-3c9c-42d7-a76d-6c79bc7ff3b9"
      },
      "outputs": [
        {
          "output_type": "stream",
          "name": "stdout",
          "text": [
            "['apples', 'oranges', 'bananas', 'cherries']\n"
          ]
        }
      ],
      "source": [
        "# using for loop with dictionary\n",
        "\n",
        "fruits = {'apples': 3, 'oranges': 4, 'bananas': 2, 'cherries': 10}\n",
        "fruitnames = [k for (k,v) in fruits.items()]\n",
        "print(fruitnames)"
      ]
    },
    {
      "cell_type": "code",
      "execution_count": null,
      "metadata": {
        "id": "QQy8IAZ64Hzp",
        "colab": {
          "base_uri": "https://localhost:8080/"
        },
        "outputId": "4fe5c83b-b58c-485c-ee81-449e7b86c11a"
      },
      "outputs": [
        {
          "output_type": "stream",
          "name": "stdout",
          "text": [
            "[-10, -9, -8, -7, -6, -5, -4, -3, -2, -1, 0, 1, 2, 3, 4, 5, 6, 7, 8, 9]\n",
            "First non-negative number: 0\n"
          ]
        }
      ],
      "source": [
        "# using while loop\n",
        "\n",
        "mylist = list(range(-10,10))\n",
        "print(mylist)\n",
        "\n",
        "i = 0\n",
        "while mylist[i] < 0:\n",
        "    i = i + 1\n",
        "    \n",
        "print(\"First non-negative number:\", mylist[i])\n"
      ]
    },
    {
      "cell_type": "markdown",
      "metadata": {
        "id": "eaz47WDf4Hzp"
      },
      "source": [
        "## 1.4 User-Defined Functions\n",
        "\n",
        "You can create your own functions in Python, which can be named or unnamed. Unnamed functions are defined using the lambda keyword as shown in the previous example for sorting a list of tuples. "
      ]
    },
    {
      "cell_type": "code",
      "execution_count": null,
      "metadata": {
        "id": "OBiu0dA44Hzq",
        "colab": {
          "base_uri": "https://localhost:8080/"
        },
        "outputId": "2cb5bcb8-88a4-47d4-8a1f-d97eeea7e846"
      },
      "outputs": [
        {
          "output_type": "stream",
          "name": "stdout",
          "text": [
            "11\n"
          ]
        }
      ],
      "source": [
        "myfunc = lambda x: 3*x**2 - 2*x + 3      # example of an unnamed quadratic function\n",
        "\n",
        "print(myfunc(2))"
      ]
    },
    {
      "cell_type": "code",
      "execution_count": null,
      "metadata": {
        "id": "03osRRxD4Hzq",
        "colab": {
          "base_uri": "https://localhost:8080/"
        },
        "outputId": "1fbf2eda-725e-4857-e33b-ebf87556897e"
      },
      "outputs": [
        {
          "output_type": "stream",
          "name": "stdout",
          "text": [
            "[-11, 12, 23, 45, 71]\n"
          ]
        }
      ],
      "source": [
        "import math\n",
        "\n",
        "# The following function will discard missing values from a list\n",
        "def discard(inlist, sortFlag=False):    # default value for sortFlag is False \n",
        "    outlist = []\n",
        "    for item in inlist:\n",
        "        if not math.isnan(item):\n",
        "            outlist.append(item)\n",
        "            \n",
        "    if sortFlag:\n",
        "        outlist.sort()\n",
        "    return outlist\n",
        "\n",
        "mylist = [12, math.nan, 23, -11, 45, math.nan, 71]\n",
        "\n",
        "print(discard(mylist,True))    "
      ]
    },
    {
      "cell_type": "markdown",
      "metadata": {
        "id": "O16R0VrY4Hzq"
      },
      "source": [
        "## 1.5 File I/O\n",
        "\n",
        "You can read and write data from a list or other objects to a file."
      ]
    },
    {
      "cell_type": "code",
      "execution_count": null,
      "metadata": {
        "id": "9eXaUnY_4Hzq",
        "colab": {
          "base_uri": "https://localhost:8080/"
        },
        "outputId": "732d3cf5-4af6-452f-b4a7-8705636557a5"
      },
      "outputs": [
        {
          "output_type": "stream",
          "name": "stdout",
          "text": [
            "State= Michigan ( MI ) Capital: Lansing\n",
            "\n",
            "State= California ( CA ) Capital: Sacramento\n",
            "\n",
            "State= Texas ( TX ) Capital: Austin\n",
            "\n",
            "State= Minnesota ( MN ) Capital: St Paul\n"
          ]
        }
      ],
      "source": [
        "states = [('MI', 'Michigan', 'Lansing'),('CA', 'California', 'Sacramento'),\n",
        "          ('TX', 'Texas', 'Austin'), ('MN', 'Minnesota', 'St Paul')]\n",
        "\n",
        "with open('states.txt', 'w') as f:\n",
        "    f.write('\\n'.join('%s,%s,%s' % state for state in states))\n",
        "    \n",
        "with open('states.txt', 'r') as f:\n",
        "    for line in f:\n",
        "        fields = line.split(sep=',')    # split each line into its respective fields\n",
        "        print('State=',fields[1],'(',fields[0],')','Capital:', fields[2])"
      ]
    },
    {
      "cell_type": "markdown",
      "metadata": {
        "id": "tiJ2qIFs8eFL"
      },
      "source": [
        "# Module 2: Introduction to Numpy and Pandas\n",
        "\n",
        "The following tutorial contains examples of using the numpy and pandas library modules. "
      ]
    },
    {
      "cell_type": "markdown",
      "metadata": {
        "id": "wPqEga6N8eFO"
      },
      "source": [
        "## 2.1 Introduction to Numpy\n",
        "\n",
        "Numpy, which stands for numerical Python, is a Python library package to support numerical computations. The basic data structure in numpy is a multi-dimensional array object called ndarray. Numpy provides a suite of functions that can efficiently manipulate elements of the ndarray. \n",
        "\n",
        "### 2.1.1 Creating ndarray\n",
        "\n",
        "An ndarray can be created from a list or a tuple object as shown in the examples below. It is possible to create a 1-dimensional or multi-dimensional array from the list objects as well as tuples."
      ]
    },
    {
      "cell_type": "code",
      "execution_count": null,
      "metadata": {
        "id": "txAiuLoK8eFO",
        "colab": {
          "base_uri": "https://localhost:8080/"
        },
        "outputId": "35ba1af9-fb40-48bb-aaa2-5443aeba1e88"
      },
      "outputs": [
        {
          "output_type": "stream",
          "name": "stdout",
          "text": [
            "[1. 2. 3. 4. 5.]\n",
            "#Dimensions = 1\n",
            "Dimension = (5,)\n",
            "Size = 5\n",
            "Array type = float64 \n",
            "\n",
            "[[1 2]\n",
            " [3 4]\n",
            " [5 6]\n",
            " [7 8]]\n",
            "#Dimensions = 2\n",
            "Dimension = (4, 2)\n",
            "Size = 8\n",
            "Array type = int64 \n",
            "\n",
            "[['1' 'a' '3.0']\n",
            " ['2' 'b' '3.5']]\n",
            "#Dimensions = 2\n",
            "Dimension = (2, 3)\n",
            "Size = 6\n"
          ]
        }
      ],
      "source": [
        "import numpy as np\n",
        "\n",
        "oneDim = np.array([1.0,2,3,4,5])   # a 1-dimensional array (vector)\n",
        "print(oneDim)\n",
        "print(\"#Dimensions =\", oneDim.ndim)\n",
        "print(\"Dimension =\", oneDim.shape)\n",
        "print(\"Size =\", oneDim.size)\n",
        "print(\"Array type =\", oneDim.dtype, '\\n')\n",
        "\n",
        "twoDim = np.array([[1,2],[3,4],[5,6],[7,8]])  # a two-dimensional array (matrix)\n",
        "print(twoDim)\n",
        "print(\"#Dimensions =\", twoDim.ndim)\n",
        "print(\"Dimension =\", twoDim.shape)\n",
        "print(\"Size =\", twoDim.size)\n",
        "print(\"Array type =\", twoDim.dtype, '\\n')\n",
        "\n",
        "arrFromTuple = np.array([(1,'a',3.0),(2,'b',3.5)])  # create ndarray from tuple\n",
        "print(arrFromTuple)\n",
        "print(\"#Dimensions =\", arrFromTuple.ndim)\n",
        "print(\"Dimension =\", arrFromTuple.shape)\n",
        "print(\"Size =\", arrFromTuple.size)"
      ]
    },
    {
      "cell_type": "markdown",
      "metadata": {
        "id": "rC5i_a1O8eFP"
      },
      "source": [
        "There are also built-in functions available in numpy to create the ndarrays. "
      ]
    },
    {
      "cell_type": "code",
      "execution_count": null,
      "metadata": {
        "id": "CSkDAuLt8eFQ",
        "colab": {
          "base_uri": "https://localhost:8080/"
        },
        "outputId": "b249a6ab-324b-4aac-c753-bc2d893fba27"
      },
      "outputs": [
        {
          "output_type": "stream",
          "name": "stdout",
          "text": [
            "Array of random numbers from a uniform distribution\n",
            "[0.76491167 0.80395465 0.06216264 0.43667954 0.69243121]\n",
            "\n",
            "Array of random numbers from a normal distribution\n",
            "[ 1.63684911  0.9595463  -0.75724811 -0.41324022 -0.38568332]\n",
            "\n",
            "Array of integers between -10 and 10, with step size of 2\n",
            "[-10  -8  -6  -4  -2   0   2   4   6   8]\n",
            "\n",
            "2-dimensional array of integers from 0 to 11\n",
            "[[ 0  1  2  3]\n",
            " [ 4  5  6  7]\n",
            " [ 8  9 10 11]]\n",
            "\n",
            "Array of values between 0 and 1, split into 10 equally spaced values\n",
            "[0.         0.11111111 0.22222222 0.33333333 0.44444444 0.55555556\n",
            " 0.66666667 0.77777778 0.88888889 1.        ]\n",
            "\n",
            "Array of values from 10^-3 to 10^3\n",
            "[1.e-03 1.e-02 1.e-01 1.e+00 1.e+01 1.e+02 1.e+03]\n"
          ]
        }
      ],
      "source": [
        "print('Array of random numbers from a uniform distribution')\n",
        "print(np.random.rand(5))      # random numbers from a uniform distribution between [0,1]\n",
        "\n",
        "print('\\nArray of random numbers from a normal distribution')\n",
        "print(np.random.randn(5))     # random numbers from a normal distribution\n",
        "\n",
        "print('\\nArray of integers between -10 and 10, with step size of 2')\n",
        "print(np.arange(-10,10,2))    # similar to range, but returns ndarray instead of list\n",
        "\n",
        "print('\\n2-dimensional array of integers from 0 to 11')\n",
        "print(np.arange(12).reshape(3,4))  # reshape to a matrix\n",
        "\n",
        "print('\\nArray of values between 0 and 1, split into 10 equally spaced values')\n",
        "print(np.linspace(0,1,10))    # split interval [0,1] into 10 equally separated values\n",
        "\n",
        "print('\\nArray of values from 10^-3 to 10^3')\n",
        "print(np.logspace(-3,3,7))    # create ndarray with values from 10^-3 to 10^3"
      ]
    },
    {
      "cell_type": "code",
      "execution_count": null,
      "metadata": {
        "id": "0iwVlNoP8eFQ",
        "colab": {
          "base_uri": "https://localhost:8080/"
        },
        "outputId": "0a78f12e-3b9e-4a7b-b474-4998f962fe38"
      },
      "outputs": [
        {
          "output_type": "stream",
          "name": "stdout",
          "text": [
            "A 2 x 3 matrix of zeros\n",
            "[[0. 0. 0.]\n",
            " [0. 0. 0.]]\n",
            "\n",
            "A 3 x 2 matrix of ones\n",
            "[[1. 1.]\n",
            " [1. 1.]\n",
            " [1. 1.]]\n",
            "\n",
            "A 3 x 3 identity matrix\n",
            "[[1. 0. 0.]\n",
            " [0. 1. 0.]\n",
            " [0. 0. 1.]]\n"
          ]
        }
      ],
      "source": [
        "print('A 2 x 3 matrix of zeros')\n",
        "print(np.zeros((2,3)))        # a matrix of zeros\n",
        "\n",
        "print('\\nA 3 x 2 matrix of ones')\n",
        "print(np.ones((3,2)))         # a matrix of ones\n",
        "\n",
        "print('\\nA 3 x 3 identity matrix')\n",
        "print(np.eye(3))              # a 3 x 3 identity matrix"
      ]
    },
    {
      "cell_type": "markdown",
      "metadata": {
        "id": "0POKFGJS8eFR"
      },
      "source": [
        "## 2.1.2 Element-wise Operations\n",
        "\n",
        "You can apply standard operators such as addition and multiplication on each element of the ndarray."
      ]
    },
    {
      "cell_type": "code",
      "execution_count": null,
      "metadata": {
        "id": "rNrS-RtY8eFR",
        "colab": {
          "base_uri": "https://localhost:8080/"
        },
        "outputId": "8f2c55a8-6b0b-4d67-822b-265d50665011"
      },
      "outputs": [
        {
          "output_type": "stream",
          "name": "stdout",
          "text": [
            "x = [1 2 3 4 5]\n",
            "x + 1 = [2 3 4 5 6]\n",
            "x - 1 = [0 1 2 3 4]\n",
            "x * 2 = [ 2  4  6  8 10]\n",
            "x // 2 = [0 1 1 2 2]\n",
            "x ** 2 = [ 1  4  9 16 25]\n",
            "x % 2 = [1 0 1 0 1]\n",
            "1 / x = [1.         0.5        0.33333333 0.25       0.2       ]\n"
          ]
        }
      ],
      "source": [
        "x = np.array([1,2,3,4,5])\n",
        "\n",
        "print('x =', x)\n",
        "print('x + 1 =', x + 1)      # addition\n",
        "print('x - 1 =', x - 1)      # subtraction\n",
        "print('x * 2 =', x * 2)      # multiplication\n",
        "print('x // 2 =', x // 2)     # integer division\n",
        "print('x ** 2 =', x ** 2)     # square\n",
        "print('x % 2 =', x % 2)      # modulo  \n",
        "print('1 / x =', 1 / x)      # division"
      ]
    },
    {
      "cell_type": "code",
      "execution_count": null,
      "metadata": {
        "id": "oL3nyflj8eFS",
        "colab": {
          "base_uri": "https://localhost:8080/"
        },
        "outputId": "1f91bb1c-2e1c-4c89-b4cf-81c4985248d3"
      },
      "outputs": [
        {
          "output_type": "stream",
          "name": "stdout",
          "text": [
            "x = [ 2  4  6  8 10]\n",
            "y = [1 2 3 4 5]\n",
            "x + y = [ 3  6  9 12 15]\n",
            "x - y = [1 2 3 4 5]\n",
            "x * y = [ 2  8 18 32 50]\n",
            "x / y = [2. 2. 2. 2. 2.]\n",
            "x // y = [2 2 2 2 2]\n",
            "x ** y = [     2     16    216   4096 100000]\n"
          ]
        }
      ],
      "source": [
        "x = np.array([2,4,6,8,10])\n",
        "y = np.array([1,2,3,4,5])\n",
        "\n",
        "print('x =', x)\n",
        "print('y =', y)\n",
        "print('x + y =', x + y)      # element-wise addition\n",
        "print('x - y =', x - y)      # element-wise subtraction\n",
        "print('x * y =', x * y)      # element-wise multiplication \n",
        "print('x / y =', x / y)      # element-wise division\n",
        "print('x // y =', x // y)    # element-wise integer division \n",
        "print('x ** y =', x ** y)    # element-wise exponentiation"
      ]
    },
    {
      "cell_type": "markdown",
      "metadata": {
        "id": "jUQAoEk88eFS"
      },
      "source": [
        "## 2.1.3 Indexing and Slicing\n",
        "\n",
        "There are various ways to select a subset of elements within a numpy array. Assigning a numpy array (or a subset of its elements) to another variable will simply pass a reference to the array instead of copying its values. To make a copy of an ndarray, you need to explicitly call the .copy() function."
      ]
    },
    {
      "cell_type": "code",
      "execution_count": null,
      "metadata": {
        "id": "fFmQbMCR8eFT",
        "colab": {
          "base_uri": "https://localhost:8080/"
        },
        "outputId": "9ff71a1e-7bca-421f-901e-66f5cb768867"
      },
      "outputs": [
        {
          "output_type": "stream",
          "name": "stdout",
          "text": [
            "Before: x = [-5 -4 -3 -2 -1  0  1  2  3  4]\n",
            "        y = [-2 -1]\n",
            "After : y = [1000 1000]\n",
            "        x = [  -5   -4   -3 1000 1000    0    1    2    3    4] \n",
            "\n",
            "Before: x = [  -5   -4   -3 1000 1000    0    1    2    3    4]\n",
            "        z = [1000 1000]\n",
            "After : z = [500 500]\n",
            "        x = [  -5   -4   -3 1000 1000    0    1    2    3    4]\n"
          ]
        }
      ],
      "source": [
        "x = np.arange(-5,5)\n",
        "print('Before: x =', x)\n",
        "\n",
        "y = x[3:5]     # y is a slice, i.e., pointer to a subarray in x\n",
        "print('        y =', y)\n",
        "y[:] = 1000    # modifying the value of y will change x\n",
        "print('After : y =', y)\n",
        "print('        x =', x, '\\n')\n",
        "\n",
        "z = x[3:5].copy()   # makes a copy of the subarray\n",
        "print('Before: x =', x)\n",
        "print('        z =', z)\n",
        "z[:] = 500          # modifying the value of z will not affect x\n",
        "print('After : z =', z)\n",
        "print('        x =', x)"
      ]
    },
    {
      "cell_type": "markdown",
      "metadata": {
        "id": "4TfP_zqF8eFT"
      },
      "source": [
        "There are many ways to access elements of an ndarray. The following example illustrates the difference between indexing elements of a list and elements of ndarray. "
      ]
    },
    {
      "cell_type": "code",
      "execution_count": null,
      "metadata": {
        "id": "GITA1NTE8eFU",
        "colab": {
          "base_uri": "https://localhost:8080/"
        },
        "outputId": "83c2aec1-96b8-4b92-df55-e19e89ab87d4"
      },
      "outputs": [
        {
          "output_type": "stream",
          "name": "stdout",
          "text": [
            "my2dlist = [[1, 2, 3, 4], [5, 6, 7, 8], [9, 10, 11, 12]]\n",
            "my2dlist[2] = [9, 10, 11, 12]\n",
            "my2dlist[:][2] = [9, 10, 11, 12]\n",
            "\n",
            "my2darr =\n",
            " [[ 1  2  3  4]\n",
            " [ 5  6  7  8]\n",
            " [ 9 10 11 12]]\n",
            "my2darr[2][:] = [ 9 10 11 12]\n",
            "my2darr[2,:] = [ 9 10 11 12]\n",
            "my2darr[:][2] = [ 9 10 11 12]\n",
            "my2darr[:,2] = [ 3  7 11]\n",
            "my2darr[:2,2:] =\n",
            " [[3 4]\n",
            " [7 8]]\n"
          ]
        }
      ],
      "source": [
        "my2dlist = [[1,2,3,4],[5,6,7,8],[9,10,11,12]]  # a 2-dim list\n",
        "print('my2dlist =', my2dlist)\n",
        "print('my2dlist[2] =', my2dlist[2])            # access the third sublist\n",
        "print('my2dlist[:][2] =', my2dlist[:][2])      # can't access third element of each sublist\n",
        "# print('my2dlist[:,2] =', my2dlist[:,2])      # invalid way to access sublist, will cause syntax error\n",
        "\n",
        "my2darr = np.array(my2dlist)\n",
        "print('\\nmy2darr =\\n', my2darr)\n",
        "\n",
        "print('my2darr[2][:] =', my2darr[2][:])      # access the third row\n",
        "print('my2darr[2,:] =', my2darr[2,:])        # access the third row\n",
        "print('my2darr[:][2] =', my2darr[:][2])      # access the third row (similar to 2d list)\n",
        "print('my2darr[:,2] =', my2darr[:,2])        # access the third column\n",
        "print('my2darr[:2,2:] =\\n', my2darr[:2,2:])     # access the first two rows & last two columns"
      ]
    },
    {
      "cell_type": "markdown",
      "metadata": {
        "id": "6ckhE9Ac8eFU"
      },
      "source": [
        "Numpy arrays also support boolean indexing."
      ]
    },
    {
      "cell_type": "code",
      "execution_count": null,
      "metadata": {
        "id": "VBnc3VUW8eFU",
        "colab": {
          "base_uri": "https://localhost:8080/"
        },
        "outputId": "9bef5419-6028-4053-ad06-457499f546ec"
      },
      "outputs": [
        {
          "output_type": "stream",
          "name": "stdout",
          "text": [
            "my2darr =\n",
            " [[ 1  2  3  4]\n",
            " [ 5  6  7  8]\n",
            " [ 9 10 11 12]]\n",
            "\n",
            "my2darr[my2darr % 3 == 0] = [ 3  6  9 12]\n",
            "my2darr[2:, my2darr[2,:] % 3 == 0] = [[ 9 12]]\n"
          ]
        }
      ],
      "source": [
        "my2darr = np.arange(1,13,1).reshape(3,4)\n",
        "print('my2darr =\\n', my2darr)\n",
        "\n",
        "divBy3 = my2darr[my2darr % 3 == 0]\n",
        "print('\\nmy2darr[my2darr % 3 == 0] =', divBy3)            # returns all the elements divisible by 3 in an ndarray\n",
        "\n",
        "divBy3LastRow = my2darr[2:, my2darr[2,:] % 3 == 0]\n",
        "print('my2darr[2:, my2darr[2,:] % 3 == 0] =', divBy3LastRow)    # returns elements in the last row divisible by 3"
      ]
    },
    {
      "cell_type": "markdown",
      "metadata": {
        "id": "88JbejrE8eFU"
      },
      "source": [
        "More indexing examples."
      ]
    },
    {
      "cell_type": "code",
      "execution_count": null,
      "metadata": {
        "id": "0H-GSGri8eFV",
        "colab": {
          "base_uri": "https://localhost:8080/"
        },
        "outputId": "10391b5a-70f1-461d-8d86-8bd315ef32b1"
      },
      "outputs": [
        {
          "output_type": "stream",
          "name": "stdout",
          "text": [
            "my2darr =\n",
            " [[ 1  2  3]\n",
            " [ 4  5  6]\n",
            " [ 7  8  9]\n",
            " [10 11 12]]\n",
            "indices = [2, 1, 0, 3] \n",
            "\n",
            "my2darr[indices,:] =\n",
            " [[ 7  8  9]\n",
            " [ 4  5  6]\n",
            " [ 1  2  3]\n",
            " [10 11 12]]\n",
            "\n",
            "rowIndex = [0, 0, 1, 2, 3]\n",
            "columnIndex = [0, 2, 0, 1, 2] \n",
            "\n",
            "my2darr[rowIndex,columnIndex] = [ 1  3  4  8 12]\n"
          ]
        }
      ],
      "source": [
        "my2darr = np.arange(1,13,1).reshape(4,3)\n",
        "print('my2darr =\\n', my2darr)\n",
        "\n",
        "indices = [2,1,0,3]    # selected row indices\n",
        "print('indices =', indices, '\\n')\n",
        "print('my2darr[indices,:] =\\n', my2darr[indices,:])  # this will shuffle the rows of my2darr\n",
        "\n",
        "rowIndex = [0,0,1,2,3]     # row index into my2darr\n",
        "print('\\nrowIndex =', rowIndex)\n",
        "columnIndex = [0,2,0,1,2]  # column index into my2darr\n",
        "print('columnIndex =', columnIndex, '\\n')\n",
        "print('my2darr[rowIndex,columnIndex] =', my2darr[rowIndex,columnIndex])"
      ]
    },
    {
      "cell_type": "markdown",
      "metadata": {
        "id": "d9G--4dS8eFV"
      },
      "source": [
        "## 2.1.4 Numpy Arithmetic and Statistical Functions\n",
        "\n",
        "Numpy provides many built-in mathematical functions available for manipulating elements of an ndarray."
      ]
    },
    {
      "cell_type": "code",
      "execution_count": null,
      "metadata": {
        "id": "lgLZk7n28eFV",
        "colab": {
          "base_uri": "https://localhost:8080/"
        },
        "outputId": "c7689da5-5a19-40b9-c63e-3897331891d3"
      },
      "outputs": [
        {
          "output_type": "stream",
          "name": "stdout",
          "text": [
            "y = [-1.4  0.4 -3.2  2.5  3.4] \n",
            "\n",
            "np.abs(y) = [1.4 0.4 3.2 2.5 3.4]\n",
            "np.sqrt(abs(y)) = [1.18321596 0.63245553 1.78885438 1.58113883 1.84390889]\n",
            "np.sign(y) = [-1.  1. -1.  1.  1.]\n",
            "np.exp(y) = [ 0.24659696  1.4918247   0.0407622  12.18249396 29.96410005]\n",
            "np.sort(y) = [-3.2 -1.4  0.4  2.5  3.4]\n"
          ]
        }
      ],
      "source": [
        "y = np.array([-1.4, 0.4, -3.2, 2.5, 3.4])    \n",
        "print('y =', y, '\\n')\n",
        "\n",
        "print('np.abs(y) =', np.abs(y))                # convert to absolute values\n",
        "print('np.sqrt(abs(y)) =', np.sqrt(abs(y)))    # apply square root to each element\n",
        "print('np.sign(y) =', np.sign(y))              # get the sign of each element\n",
        "print('np.exp(y) =', np.exp(y))                # apply exponentiation\n",
        "print('np.sort(y) =', np.sort(y))              # sort array"
      ]
    },
    {
      "cell_type": "code",
      "execution_count": null,
      "metadata": {
        "id": "Ngz1X5008eFV",
        "colab": {
          "base_uri": "https://localhost:8080/"
        },
        "outputId": "6fd82bc2-7bbe-493e-a66c-fab560b19ba5"
      },
      "outputs": [
        {
          "output_type": "stream",
          "name": "stdout",
          "text": [
            "x = [-2 -1  0  1  2]\n",
            "y = [-1.22493879  1.08025977  0.82938623  0.0309671  -0.92002665] \n",
            "\n",
            "np.add(x,y) = [-3.22493879  0.08025977  0.82938623  1.0309671   1.07997335]\n",
            "np.subtract(x,y) = [-0.77506121 -2.08025977 -0.82938623  0.9690329   2.92002665]\n",
            "np.multiply(x,y) = [ 2.44987757 -1.08025977  0.          0.0309671  -1.8400533 ]\n",
            "np.divide(x,y) = [ 1.63273465 -0.92570327  0.         32.2923345  -2.17385008]\n",
            "np.maximum(x,y) = [-1.22493879  1.08025977  0.82938623  1.          2.        ]\n"
          ]
        }
      ],
      "source": [
        "x = np.arange(-2,3)\n",
        "y = np.random.randn(5)\n",
        "print('x =', x)\n",
        "print('y =', y, '\\n')\n",
        "\n",
        "print('np.add(x,y) =', np.add(x,y))                # element-wise addition       x + y\n",
        "print('np.subtract(x,y) =', np.subtract(x,y))      # element-wise subtraction    x - y\n",
        "print('np.multiply(x,y) =', np.multiply(x,y))      # element-wise multiplication x * y\n",
        "print('np.divide(x,y) =', np.divide(x,y))          # element-wise division       x / y\n",
        "print('np.maximum(x,y) =', np.maximum(x,y))        # element-wise maximum        max(x,y)"
      ]
    },
    {
      "cell_type": "code",
      "execution_count": null,
      "metadata": {
        "id": "NBKUfnaI8eFW",
        "colab": {
          "base_uri": "https://localhost:8080/"
        },
        "outputId": "0081cae2-7a54-4190-8a96-1a8a91318ca7"
      },
      "outputs": [
        {
          "output_type": "stream",
          "name": "stdout",
          "text": [
            "y = [-3.2 -1.4  0.4  2.5  3.4] \n",
            "\n",
            "Min = -3.2\n",
            "Max = 3.4\n",
            "Average = 0.34000000000000014\n",
            "Std deviation = 2.432776191925595\n",
            "Sum = 1.7000000000000006\n"
          ]
        }
      ],
      "source": [
        "y = np.array([-3.2, -1.4, 0.4, 2.5, 3.4])    \n",
        "print('y =', y, '\\n')\n",
        "\n",
        "print(\"Min =\", np.min(y))             # min \n",
        "print(\"Max =\", np.max(y))             # max \n",
        "print(\"Average =\", np.mean(y))        # mean/average\n",
        "print(\"Std deviation =\", np.std(y))   # standard deviation\n",
        "print(\"Sum =\", np.sum(y))             # sum "
      ]
    },
    {
      "cell_type": "markdown",
      "metadata": {
        "id": "yu9ActUA8eFW"
      },
      "source": [
        "## 2.1.5 Numpy linear algebra\n",
        "\n",
        "Numpy provides many functions to support linear algebra operations."
      ]
    },
    {
      "cell_type": "code",
      "execution_count": null,
      "metadata": {
        "id": "iqHu02EC8eFW",
        "colab": {
          "base_uri": "https://localhost:8080/"
        },
        "outputId": "492e4e98-17cd-45b5-d196-fcbed85a8b5f"
      },
      "outputs": [
        {
          "output_type": "stream",
          "name": "stdout",
          "text": [
            "X =\n",
            " [[ 0.32646146  0.50879969  0.96115491]\n",
            " [ 0.81571182 -0.01723369  0.48992985]] \n",
            "\n",
            "Transpose of X, X.T =\n",
            " [[ 0.32646146  0.81571182]\n",
            " [ 0.50879969 -0.01723369]\n",
            " [ 0.96115491  0.48992985]] \n",
            "\n",
            "y = [ 1.11590682  0.32863559 -0.82246981] \n",
            "\n",
            "Matrix-vector multiplication\n",
            "X.dot(y) =\n",
            " [-0.25901064  0.50164227] \n",
            "\n",
            "Matrix-matrix product\n",
            "X.dot(X.T) = [[1.28927296 0.72842846]\n",
            " [0.72842846 0.90571403]]\n",
            "\n",
            "X.T.dot(X) =\n",
            " [[0.77196286 0.15204577 0.7134216 ]\n",
            " [0.15204577 0.25917412 0.48059202]\n",
            " [0.7134216  0.48059202 1.16385001]]\n"
          ]
        }
      ],
      "source": [
        "X = np.random.randn(2,3)                         # create a 2 x 3 random matrix\n",
        "print('X =\\n', X, '\\n')\n",
        "print('Transpose of X, X.T =\\n', X.T, '\\n')      # matrix transpose operation X^T\n",
        "\n",
        "y = np.random.randn(3) # random vector \n",
        "print('y =', y, '\\n')\n",
        "\n",
        "print('Matrix-vector multiplication')\n",
        "print('X.dot(y) =\\n', X.dot(y), '\\n')            # matrix-vector multiplication  X * y\n",
        "\n",
        "print('Matrix-matrix product')\n",
        "print('X.dot(X.T) =', X.dot(X.T))        # matrix-matrix multiplication  X * X^T\n",
        "print('\\nX.T.dot(X) =\\n', X.T.dot(X))      # matrix-matrix multiplication  X^T * X"
      ]
    },
    {
      "cell_type": "code",
      "execution_count": null,
      "metadata": {
        "id": "MJj0VYMI8eFW",
        "colab": {
          "base_uri": "https://localhost:8080/"
        },
        "outputId": "1cde77aa-ec8d-4a84-f410-5d8609bb3d0c"
      },
      "outputs": [
        {
          "output_type": "stream",
          "name": "stdout",
          "text": [
            "X =\n",
            " [[-2.2835021   0.90090357 -0.27943958]\n",
            " [-2.27097612  1.09515344 -1.45199053]\n",
            " [ 0.75542877 -1.07665997 -0.8965927 ]\n",
            " [ 0.78627393  0.87692216  1.57721412]\n",
            " [ 0.45135576  0.86025282  0.59619024]] \n",
            "\n",
            "C = X.T.dot(X) =\n",
            " [[11.7643357  -4.27984133  4.76744099]\n",
            " [-4.27984133  4.6792124   1.01939328]\n",
            " [ 4.76744099  1.01939328  5.83328864]] \n",
            "\n",
            "Inverse of C = np.linalg.inv(C)\n",
            " [[ 0.48545352  0.55144918 -0.49312057]\n",
            " [ 0.55144918  0.84858616 -0.59898364]\n",
            " [-0.49312057 -0.59898364  0.67912345]] \n",
            "\n",
            "Determinant of C = np.linalg.det(C) = 54.085576783627346\n",
            "Eigenvalues of C =\n",
            " [15.46040885  0.55907468  6.2573532 ]\n",
            "Eigenvectors of C =\n",
            " [[ 0.86560159 -0.49363931 -0.0839888 ]\n",
            " [-0.30615499 -0.65447028  0.69133044]\n",
            " [ 0.39623606  0.57270314  0.71764065]]\n"
          ]
        }
      ],
      "source": [
        "X = np.random.randn(5,3)\n",
        "print('X =\\n', X, '\\n')\n",
        "\n",
        "C = X.T.dot(X)               # C = X^T * X is a square matrix\n",
        "print('C = X.T.dot(X) =\\n', C, '\\n')\n",
        "\n",
        "invC = np.linalg.inv(C)      # inverse of a square matrix\n",
        "print('Inverse of C = np.linalg.inv(C)\\n', invC, '\\n')\n",
        "\n",
        "detC = np.linalg.det(C)      # determinant of a square matrix\n",
        "print('Determinant of C = np.linalg.det(C) =', detC)\n",
        "\n",
        "S, U = np.linalg.eig(C)      # eigenvalue S and eigenvector U of a square matrix\n",
        "print('Eigenvalues of C =\\n', S)\n",
        "print('Eigenvectors of C =\\n', U)"
      ]
    },
    {
      "cell_type": "markdown",
      "metadata": {
        "id": "-n2JvvBu8eFW"
      },
      "source": [
        "## 2.2 Introduction to Pandas\n",
        "\n",
        "Pandas provide two convenient data structures for storing and manipulating data: Series and DataFrame. A Series is similar to a one-dimensional array whereas a DataFrame is a tabular representation akin to a spreadsheet table.  \n",
        "\n",
        "### 2.2.1 Series\n",
        "\n",
        "A Series object consists of a one-dimensional array of values, whose elements can be referenced using an index array. A Series object can be created from a list, a numpy array, or a Python dictionary. You can apply most of the numpy functions on the Series object."
      ]
    },
    {
      "cell_type": "code",
      "execution_count": null,
      "metadata": {
        "id": "h-lkdnsC8eFX",
        "colab": {
          "base_uri": "https://localhost:8080/"
        },
        "outputId": "56992a93-dfda-4b86-d70c-fc8c2bc546c9"
      },
      "outputs": [
        {
          "output_type": "stream",
          "name": "stdout",
          "text": [
            "Series, s =\n",
            " 0    3.1\n",
            "1    2.4\n",
            "2   -1.7\n",
            "3    0.2\n",
            "4   -2.9\n",
            "5    4.5\n",
            "dtype: float64 \n",
            "\n",
            "s.values = [ 3.1  2.4 -1.7  0.2 -2.9  4.5]\n",
            "s.index = RangeIndex(start=0, stop=6, step=1)\n",
            "s.dtype = float64\n"
          ]
        }
      ],
      "source": [
        "from pandas import Series\n",
        "\n",
        "s = Series([3.1, 2.4, -1.7, 0.2, -2.9, 4.5])   # creating a series from a list\n",
        "print('Series, s =\\n', s, '\\n')\n",
        "\n",
        "print('s.values =', s.values)     # display values of the Series\n",
        "print('s.index =', s.index)       # display indices of the Series\n",
        "print('s.dtype =', s.dtype)       # display the element type of the Series"
      ]
    },
    {
      "cell_type": "code",
      "execution_count": null,
      "metadata": {
        "id": "TN7Gd1fG8eFX",
        "colab": {
          "base_uri": "https://localhost:8080/"
        },
        "outputId": "3295593b-2eb4-492c-895f-026e7115257b"
      },
      "outputs": [
        {
          "output_type": "stream",
          "name": "stdout",
          "text": [
            "Series s2 =\n",
            " 0    0.093345\n",
            "1    1.066045\n",
            "2   -1.158860\n",
            "3    0.765959\n",
            "4    2.527943\n",
            "5    0.246220\n",
            "dtype: float64 \n",
            "\n",
            "s2.values = [ 0.09334504  1.06604461 -1.15886032  0.76595908  2.52794321  0.24622028]\n",
            "s2.index = RangeIndex(start=0, stop=6, step=1)\n",
            "s2.dtype = float64\n"
          ]
        }
      ],
      "source": [
        "import numpy as np\n",
        "\n",
        "s2 = Series(np.random.randn(6))   # creating a series from a numpy ndarray\n",
        "print('Series s2 =\\n', s2, '\\n')\n",
        "print('s2.values =', s2.values)   # display values of the Series\n",
        "print('s2.index =', s2.index)     # display indices of the Series\n",
        "print('s2.dtype =', s2.dtype)     # display the element type of the Series"
      ]
    },
    {
      "cell_type": "code",
      "execution_count": null,
      "metadata": {
        "id": "6ZjSVEUT8eFX",
        "colab": {
          "base_uri": "https://localhost:8080/"
        },
        "outputId": "3ca6102d-563b-4d88-a547-fd791337603b"
      },
      "outputs": [
        {
          "output_type": "stream",
          "name": "stdout",
          "text": [
            "Series s3 =\n",
            " Jan 1    1.2\n",
            "Jan 2    2.5\n",
            "Jan 3   -2.2\n",
            "Jan 4    3.1\n",
            "Jan 5   -0.8\n",
            "Jan 6   -3.2\n",
            "dtype: float64 \n",
            "\n",
            "s3.values = [ 1.2  2.5 -2.2  3.1 -0.8 -3.2]\n",
            "s3.index = Index(['Jan 1', 'Jan 2', 'Jan 3', 'Jan 4', 'Jan 5', 'Jan 6'], dtype='object')\n",
            "s3.dtype = float64\n"
          ]
        }
      ],
      "source": [
        "s3 = Series([1.2,2.5,-2.2,3.1,-0.8,-3.2], \n",
        "            index = ['Jan 1','Jan 2','Jan 3','Jan 4','Jan 5','Jan 6',])\n",
        "print('Series s3 =\\n', s3, '\\n')\n",
        "print('s3.values =', s3.values)   # display values of the Series\n",
        "print('s3.index =', s3.index)     # display indices of the Series\n",
        "print('s3.dtype =', s3.dtype)     # display the element type of the Series"
      ]
    },
    {
      "cell_type": "code",
      "execution_count": null,
      "metadata": {
        "id": "tUvgI8jp8eFX",
        "colab": {
          "base_uri": "https://localhost:8080/"
        },
        "outputId": "0659abcc-c3ff-42cd-b612-427b03fe1613"
      },
      "outputs": [
        {
          "output_type": "stream",
          "name": "stdout",
          "text": [
            "Series s4 =\n",
            " MI       Lansing\n",
            "CA    Sacramento\n",
            "TX        Austin\n",
            "MN       St Paul\n",
            "dtype: object \n",
            "\n",
            "s4.values = ['Lansing' 'Sacramento' 'Austin' 'St Paul']\n",
            "s4.index= Index(['MI', 'CA', 'TX', 'MN'], dtype='object')\n",
            "s4.dtype = object\n"
          ]
        }
      ],
      "source": [
        "capitals = {'MI': 'Lansing', 'CA': 'Sacramento', 'TX': 'Austin', 'MN': 'St Paul'}\n",
        "\n",
        "s4 = Series(capitals)   # creating a series from dictionary object\n",
        "print('Series s4 =\\n', s4, '\\n')\n",
        "print('s4.values =', s4.values)   # display values of the Series\n",
        "print('s4.index=', s4.index)      # display indices of the Series\n",
        "print('s4.dtype =', s4.dtype)     # display the element type of the Series"
      ]
    },
    {
      "cell_type": "code",
      "execution_count": null,
      "metadata": {
        "id": "Enbb-W3h8eFX",
        "colab": {
          "base_uri": "https://localhost:8080/"
        },
        "outputId": "4487d1f8-3fd4-4b98-ecbf-88c35800908c"
      },
      "outputs": [
        {
          "output_type": "stream",
          "name": "stdout",
          "text": [
            "s3 =\n",
            " Jan 1    1.2\n",
            "Jan 2    2.5\n",
            "Jan 3   -2.2\n",
            "Jan 4    3.1\n",
            "Jan 5   -0.8\n",
            "Jan 6   -3.2\n",
            "dtype: float64 \n",
            "\n",
            "s3[2]= -2.2\n",
            "s3['Jan 3']= -2.2\n",
            "\n",
            "s3[1:3]=\n",
            "Jan 2    2.5\n",
            "Jan 3   -2.2\n",
            "dtype: float64\n",
            "\n",
            "s3.iloc([1:3])=\n",
            "Jan 2    2.5\n",
            "Jan 3   -2.2\n",
            "dtype: float64\n"
          ]
        }
      ],
      "source": [
        "s3 = Series([1.2,2.5,-2.2,3.1,-0.8,-3.2], \n",
        "            index = ['Jan 1','Jan 2','Jan 3','Jan 4','Jan 5','Jan 6',])\n",
        "print('s3 =\\n', s3, '\\n')\n",
        "\n",
        "# Accessing elements of a Series\n",
        "\n",
        "print('s3[2]=', s3[2])        # display third element of the Series\n",
        "print('s3[\\'Jan 3\\']=', s3['Jan 3'])   # indexing element of a Series \n",
        "\n",
        "print('\\ns3[1:3]=')             # display a slice of the Series\n",
        "print(s3[1:3])\n",
        "print('\\ns3.iloc([1:3])=')      # display a slice of the Series\n",
        "print(s3.iloc[1:3])"
      ]
    },
    {
      "cell_type": "markdown",
      "metadata": {
        "id": "Xcaz3h6D8eFY"
      },
      "source": [
        "There are various functions available to find the number of elements in a Series. Result of the function depends on whether null elements are included. "
      ]
    },
    {
      "cell_type": "code",
      "execution_count": null,
      "metadata": {
        "id": "sfLT6w5Q8eFY",
        "colab": {
          "base_uri": "https://localhost:8080/"
        },
        "outputId": "57fb5f11-fd8f-4669-beab-1d51ecd6d6ed"
      },
      "outputs": [
        {
          "output_type": "stream",
          "name": "stdout",
          "text": [
            "Series s3 =\n",
            " Jan 1    1.2\n",
            "Jan 2    2.5\n",
            "Jan 3   -2.2\n",
            "Jan 4    3.1\n",
            "Jan 5   -0.8\n",
            "Jan 6   -3.2\n",
            "Jan 7    NaN\n",
            "dtype: float64 \n",
            "\n",
            "Shape of s3 = (7,)\n",
            "Size of s3 = 7\n",
            "Count of s3 = 6\n"
          ]
        }
      ],
      "source": [
        "s3['Jan 7'] = np.nan\n",
        "print('Series s3 =\\n', s3, '\\n')\n",
        "\n",
        "print('Shape of s3 =', s3.shape)   # get the dimension of the Series\n",
        "print('Size of s3 =', s3.size)     # get the number of elements of the Series\n",
        "print('Count of s3 =', s3.count()) # get the number of non-null elements of the Series"
      ]
    },
    {
      "cell_type": "markdown",
      "metadata": {
        "id": "Wn3HIvUw8eFY"
      },
      "source": [
        "A boolean filter can be used to select elements of a Series"
      ]
    },
    {
      "cell_type": "code",
      "execution_count": null,
      "metadata": {
        "id": "JTq2jNlb8eFY",
        "colab": {
          "base_uri": "https://localhost:8080/"
        },
        "outputId": "17361b8a-8efd-4911-fc09-3191a47a2065"
      },
      "outputs": [
        {
          "output_type": "stream",
          "name": "stdout",
          "text": [
            "Jan 1    1.2\n",
            "Jan 2    2.5\n",
            "Jan 4    3.1\n",
            "dtype: float64\n"
          ]
        }
      ],
      "source": [
        "print(s3[s3 > 0])   # applying filter to select non-negative elements of the Series"
      ]
    },
    {
      "cell_type": "markdown",
      "metadata": {
        "id": "firearHG8eFY"
      },
      "source": [
        "Scalar operations can be performed on elements of a numeric Series"
      ]
    },
    {
      "cell_type": "code",
      "execution_count": null,
      "metadata": {
        "id": "uqsyZpGk8eFY",
        "colab": {
          "base_uri": "https://localhost:8080/"
        },
        "outputId": "9da2e9f7-cbff-4ff7-bbc0-cc8428502823"
      },
      "outputs": [
        {
          "output_type": "stream",
          "name": "stdout",
          "text": [
            "s3 + 4 =\n",
            " Jan 1    5.2\n",
            "Jan 2    6.5\n",
            "Jan 3    1.8\n",
            "Jan 4    7.1\n",
            "Jan 5    3.2\n",
            "Jan 6    0.8\n",
            "Jan 7    NaN\n",
            "dtype: float64 \n",
            "\n",
            "s3 / 4 =\n",
            " Jan 1    0.300\n",
            "Jan 2    0.625\n",
            "Jan 3   -0.550\n",
            "Jan 4    0.775\n",
            "Jan 5   -0.200\n",
            "Jan 6   -0.800\n",
            "Jan 7      NaN\n",
            "dtype: float64\n"
          ]
        }
      ],
      "source": [
        "print('s3 + 4 =\\n', s3 + 4, '\\n')       \n",
        "print('s3 / 4 =\\n', s3 / 4)                 "
      ]
    },
    {
      "cell_type": "markdown",
      "metadata": {
        "id": "5q3wHOuQ8eFY"
      },
      "source": [
        "Numpy functions can be applied to pandas Series. "
      ]
    },
    {
      "cell_type": "code",
      "execution_count": null,
      "metadata": {
        "id": "T2EfiGs38eFZ",
        "colab": {
          "base_uri": "https://localhost:8080/"
        },
        "outputId": "1fc33e07-f668-46d6-ce9b-4ccde9019a28"
      },
      "outputs": [
        {
          "output_type": "stream",
          "name": "stdout",
          "text": [
            "np.log(s3 + 4) =\n",
            " Jan 1    1.648659\n",
            "Jan 2    1.871802\n",
            "Jan 3    0.587787\n",
            "Jan 4    1.960095\n",
            "Jan 5    1.163151\n",
            "Jan 6   -0.223144\n",
            "Jan 7         NaN\n",
            "dtype: float64 \n",
            "\n",
            "np.exp(s3 - 4) =\n",
            " Jan 1    0.060810\n",
            "Jan 2    0.223130\n",
            "Jan 3    0.002029\n",
            "Jan 4    0.406570\n",
            "Jan 5    0.008230\n",
            "Jan 6    0.000747\n",
            "Jan 7         NaN\n",
            "dtype: float64 \n",
            "\n"
          ]
        }
      ],
      "source": [
        "print('np.log(s3 + 4) =\\n', np.log(s3 + 4), '\\n')    # applying log function to a numeric Series\n",
        "print('np.exp(s3 - 4) =\\n', np.exp(s3 - 4), '\\n')    # applying exponent function to a numeric Series"
      ]
    },
    {
      "cell_type": "markdown",
      "metadata": {
        "id": "onCboFfz8eFZ"
      },
      "source": [
        "The value_counts() function can be used for tabulating the counts of each discrete value in the Series. "
      ]
    },
    {
      "cell_type": "code",
      "execution_count": null,
      "metadata": {
        "id": "7gI9kVTS8eFZ",
        "colab": {
          "base_uri": "https://localhost:8080/"
        },
        "outputId": "3f5488d0-637e-44f6-de83-0551c3f32d59"
      },
      "outputs": [
        {
          "output_type": "stream",
          "name": "stdout",
          "text": [
            "colors =\n",
            " 0       red\n",
            "1      blue\n",
            "2      blue\n",
            "3    yellow\n",
            "4       red\n",
            "5     green\n",
            "6      blue\n",
            "7       NaN\n",
            "dtype: object \n",
            "\n",
            "colors.value_counts() =\n",
            " blue      3\n",
            "red       2\n",
            "yellow    1\n",
            "green     1\n",
            "dtype: int64\n"
          ]
        }
      ],
      "source": [
        "colors = Series(['red', 'blue', 'blue', 'yellow', 'red', 'green', 'blue', np.nan])\n",
        "print('colors =\\n', colors, '\\n')\n",
        "\n",
        "print('colors.value_counts() =\\n', colors.value_counts())"
      ]
    },
    {
      "cell_type": "markdown",
      "metadata": {
        "id": "IlJI16vL8eFZ"
      },
      "source": [
        "### 2.2.2 DataFrame\n",
        "\n",
        "A DataFrame object is a tabular, spreadsheet-like data structure containing a collection of columns, each of which can be of different types (numeric, string, boolean, etc). Unlike Series, a DataFrame has distinct row and column indices. There are many ways to create a DataFrame object (e.g., from a dictionary, list of tuples, or even numpy's ndarrays)."
      ]
    },
    {
      "cell_type": "code",
      "execution_count": null,
      "metadata": {
        "id": "fPdfn_sV8eFZ",
        "colab": {
          "base_uri": "https://localhost:8080/"
        },
        "outputId": "b5873748-6695-4f61-eb42-845fe2f54373"
      },
      "outputs": [
        {
          "output_type": "execute_result",
          "data": {
            "text/plain": [
              "     make    model   MSRP\n",
              "0    Ford   Taurus  27595\n",
              "1   Honda   Accord  23570\n",
              "2  Toyota    Camry  23495\n",
              "3   Tesla  Model S  68000"
            ],
            "text/html": [
              "\n",
              "  <div id=\"df-b609edeb-4efd-4105-bbb7-a03c31f50ca1\">\n",
              "    <div class=\"colab-df-container\">\n",
              "      <div>\n",
              "<style scoped>\n",
              "    .dataframe tbody tr th:only-of-type {\n",
              "        vertical-align: middle;\n",
              "    }\n",
              "\n",
              "    .dataframe tbody tr th {\n",
              "        vertical-align: top;\n",
              "    }\n",
              "\n",
              "    .dataframe thead th {\n",
              "        text-align: right;\n",
              "    }\n",
              "</style>\n",
              "<table border=\"1\" class=\"dataframe\">\n",
              "  <thead>\n",
              "    <tr style=\"text-align: right;\">\n",
              "      <th></th>\n",
              "      <th>make</th>\n",
              "      <th>model</th>\n",
              "      <th>MSRP</th>\n",
              "    </tr>\n",
              "  </thead>\n",
              "  <tbody>\n",
              "    <tr>\n",
              "      <th>0</th>\n",
              "      <td>Ford</td>\n",
              "      <td>Taurus</td>\n",
              "      <td>27595</td>\n",
              "    </tr>\n",
              "    <tr>\n",
              "      <th>1</th>\n",
              "      <td>Honda</td>\n",
              "      <td>Accord</td>\n",
              "      <td>23570</td>\n",
              "    </tr>\n",
              "    <tr>\n",
              "      <th>2</th>\n",
              "      <td>Toyota</td>\n",
              "      <td>Camry</td>\n",
              "      <td>23495</td>\n",
              "    </tr>\n",
              "    <tr>\n",
              "      <th>3</th>\n",
              "      <td>Tesla</td>\n",
              "      <td>Model S</td>\n",
              "      <td>68000</td>\n",
              "    </tr>\n",
              "  </tbody>\n",
              "</table>\n",
              "</div>\n",
              "      <button class=\"colab-df-convert\" onclick=\"convertToInteractive('df-b609edeb-4efd-4105-bbb7-a03c31f50ca1')\"\n",
              "              title=\"Convert this dataframe to an interactive table.\"\n",
              "              style=\"display:none;\">\n",
              "        \n",
              "  <svg xmlns=\"http://www.w3.org/2000/svg\" height=\"24px\"viewBox=\"0 0 24 24\"\n",
              "       width=\"24px\">\n",
              "    <path d=\"M0 0h24v24H0V0z\" fill=\"none\"/>\n",
              "    <path d=\"M18.56 5.44l.94 2.06.94-2.06 2.06-.94-2.06-.94-.94-2.06-.94 2.06-2.06.94zm-11 1L8.5 8.5l.94-2.06 2.06-.94-2.06-.94L8.5 2.5l-.94 2.06-2.06.94zm10 10l.94 2.06.94-2.06 2.06-.94-2.06-.94-.94-2.06-.94 2.06-2.06.94z\"/><path d=\"M17.41 7.96l-1.37-1.37c-.4-.4-.92-.59-1.43-.59-.52 0-1.04.2-1.43.59L10.3 9.45l-7.72 7.72c-.78.78-.78 2.05 0 2.83L4 21.41c.39.39.9.59 1.41.59.51 0 1.02-.2 1.41-.59l7.78-7.78 2.81-2.81c.8-.78.8-2.07 0-2.86zM5.41 20L4 18.59l7.72-7.72 1.47 1.35L5.41 20z\"/>\n",
              "  </svg>\n",
              "      </button>\n",
              "      \n",
              "  <style>\n",
              "    .colab-df-container {\n",
              "      display:flex;\n",
              "      flex-wrap:wrap;\n",
              "      gap: 12px;\n",
              "    }\n",
              "\n",
              "    .colab-df-convert {\n",
              "      background-color: #E8F0FE;\n",
              "      border: none;\n",
              "      border-radius: 50%;\n",
              "      cursor: pointer;\n",
              "      display: none;\n",
              "      fill: #1967D2;\n",
              "      height: 32px;\n",
              "      padding: 0 0 0 0;\n",
              "      width: 32px;\n",
              "    }\n",
              "\n",
              "    .colab-df-convert:hover {\n",
              "      background-color: #E2EBFA;\n",
              "      box-shadow: 0px 1px 2px rgba(60, 64, 67, 0.3), 0px 1px 3px 1px rgba(60, 64, 67, 0.15);\n",
              "      fill: #174EA6;\n",
              "    }\n",
              "\n",
              "    [theme=dark] .colab-df-convert {\n",
              "      background-color: #3B4455;\n",
              "      fill: #D2E3FC;\n",
              "    }\n",
              "\n",
              "    [theme=dark] .colab-df-convert:hover {\n",
              "      background-color: #434B5C;\n",
              "      box-shadow: 0px 1px 3px 1px rgba(0, 0, 0, 0.15);\n",
              "      filter: drop-shadow(0px 1px 2px rgba(0, 0, 0, 0.3));\n",
              "      fill: #FFFFFF;\n",
              "    }\n",
              "  </style>\n",
              "\n",
              "      <script>\n",
              "        const buttonEl =\n",
              "          document.querySelector('#df-b609edeb-4efd-4105-bbb7-a03c31f50ca1 button.colab-df-convert');\n",
              "        buttonEl.style.display =\n",
              "          google.colab.kernel.accessAllowed ? 'block' : 'none';\n",
              "\n",
              "        async function convertToInteractive(key) {\n",
              "          const element = document.querySelector('#df-b609edeb-4efd-4105-bbb7-a03c31f50ca1');\n",
              "          const dataTable =\n",
              "            await google.colab.kernel.invokeFunction('convertToInteractive',\n",
              "                                                     [key], {});\n",
              "          if (!dataTable) return;\n",
              "\n",
              "          const docLinkHtml = 'Like what you see? Visit the ' +\n",
              "            '<a target=\"_blank\" href=https://colab.research.google.com/notebooks/data_table.ipynb>data table notebook</a>'\n",
              "            + ' to learn more about interactive tables.';\n",
              "          element.innerHTML = '';\n",
              "          dataTable['output_type'] = 'display_data';\n",
              "          await google.colab.output.renderOutput(dataTable, element);\n",
              "          const docLink = document.createElement('div');\n",
              "          docLink.innerHTML = docLinkHtml;\n",
              "          element.appendChild(docLink);\n",
              "        }\n",
              "      </script>\n",
              "    </div>\n",
              "  </div>\n",
              "  "
            ]
          },
          "metadata": {},
          "execution_count": 106
        }
      ],
      "source": [
        "from pandas import DataFrame\n",
        "\n",
        "cars = {'make': ['Ford', 'Honda', 'Toyota', 'Tesla'],\n",
        "       'model': ['Taurus', 'Accord', 'Camry', 'Model S'],\n",
        "       'MSRP': [27595, 23570, 23495, 68000]}          \n",
        "carData = DataFrame(cars)            # creating DataFrame from dictionary\n",
        "carData                              # display the table"
      ]
    },
    {
      "cell_type": "code",
      "execution_count": null,
      "metadata": {
        "id": "7MHaOU4h8eFZ",
        "colab": {
          "base_uri": "https://localhost:8080/"
        },
        "outputId": "07456645-bf73-4bd4-e601-93a180fef252"
      },
      "outputs": [
        {
          "output_type": "stream",
          "name": "stdout",
          "text": [
            "carData.index = RangeIndex(start=0, stop=4, step=1)\n",
            "carData.columns = Index(['make', 'model', 'MSRP'], dtype='object')\n"
          ]
        }
      ],
      "source": [
        "print('carData.index =', carData.index)         # print the row indices\n",
        "print('carData.columns =', carData.columns)     # print the column indices"
      ]
    },
    {
      "cell_type": "markdown",
      "metadata": {
        "id": "pQu6pJ1t8eFZ"
      },
      "source": [
        "Inserting columns to an existing dataframe"
      ]
    },
    {
      "cell_type": "code",
      "execution_count": null,
      "metadata": {
        "id": "JrNwrxOG8eFa",
        "colab": {
          "base_uri": "https://localhost:8080/"
        },
        "outputId": "94da0e81-7679-436e-96db-f46b4b49540c"
      },
      "outputs": [
        {
          "output_type": "execute_result",
          "data": {
            "text/plain": [
              "     make    model   MSRP  year      dealership\n",
              "1    Ford   Taurus  27595  2018   Courtesy Ford\n",
              "2   Honda   Accord  23570  2018   Capital Honda\n",
              "3  Toyota    Camry  23495  2018  Spartan Toyota\n",
              "4   Tesla  Model S  68000  2018             N/A"
            ],
            "text/html": [
              "\n",
              "  <div id=\"df-49969af5-751f-4a7f-b3ee-9b3937c6d1f5\">\n",
              "    <div class=\"colab-df-container\">\n",
              "      <div>\n",
              "<style scoped>\n",
              "    .dataframe tbody tr th:only-of-type {\n",
              "        vertical-align: middle;\n",
              "    }\n",
              "\n",
              "    .dataframe tbody tr th {\n",
              "        vertical-align: top;\n",
              "    }\n",
              "\n",
              "    .dataframe thead th {\n",
              "        text-align: right;\n",
              "    }\n",
              "</style>\n",
              "<table border=\"1\" class=\"dataframe\">\n",
              "  <thead>\n",
              "    <tr style=\"text-align: right;\">\n",
              "      <th></th>\n",
              "      <th>make</th>\n",
              "      <th>model</th>\n",
              "      <th>MSRP</th>\n",
              "      <th>year</th>\n",
              "      <th>dealership</th>\n",
              "    </tr>\n",
              "  </thead>\n",
              "  <tbody>\n",
              "    <tr>\n",
              "      <th>1</th>\n",
              "      <td>Ford</td>\n",
              "      <td>Taurus</td>\n",
              "      <td>27595</td>\n",
              "      <td>2018</td>\n",
              "      <td>Courtesy Ford</td>\n",
              "    </tr>\n",
              "    <tr>\n",
              "      <th>2</th>\n",
              "      <td>Honda</td>\n",
              "      <td>Accord</td>\n",
              "      <td>23570</td>\n",
              "      <td>2018</td>\n",
              "      <td>Capital Honda</td>\n",
              "    </tr>\n",
              "    <tr>\n",
              "      <th>3</th>\n",
              "      <td>Toyota</td>\n",
              "      <td>Camry</td>\n",
              "      <td>23495</td>\n",
              "      <td>2018</td>\n",
              "      <td>Spartan Toyota</td>\n",
              "    </tr>\n",
              "    <tr>\n",
              "      <th>4</th>\n",
              "      <td>Tesla</td>\n",
              "      <td>Model S</td>\n",
              "      <td>68000</td>\n",
              "      <td>2018</td>\n",
              "      <td>N/A</td>\n",
              "    </tr>\n",
              "  </tbody>\n",
              "</table>\n",
              "</div>\n",
              "      <button class=\"colab-df-convert\" onclick=\"convertToInteractive('df-49969af5-751f-4a7f-b3ee-9b3937c6d1f5')\"\n",
              "              title=\"Convert this dataframe to an interactive table.\"\n",
              "              style=\"display:none;\">\n",
              "        \n",
              "  <svg xmlns=\"http://www.w3.org/2000/svg\" height=\"24px\"viewBox=\"0 0 24 24\"\n",
              "       width=\"24px\">\n",
              "    <path d=\"M0 0h24v24H0V0z\" fill=\"none\"/>\n",
              "    <path d=\"M18.56 5.44l.94 2.06.94-2.06 2.06-.94-2.06-.94-.94-2.06-.94 2.06-2.06.94zm-11 1L8.5 8.5l.94-2.06 2.06-.94-2.06-.94L8.5 2.5l-.94 2.06-2.06.94zm10 10l.94 2.06.94-2.06 2.06-.94-2.06-.94-.94-2.06-.94 2.06-2.06.94z\"/><path d=\"M17.41 7.96l-1.37-1.37c-.4-.4-.92-.59-1.43-.59-.52 0-1.04.2-1.43.59L10.3 9.45l-7.72 7.72c-.78.78-.78 2.05 0 2.83L4 21.41c.39.39.9.59 1.41.59.51 0 1.02-.2 1.41-.59l7.78-7.78 2.81-2.81c.8-.78.8-2.07 0-2.86zM5.41 20L4 18.59l7.72-7.72 1.47 1.35L5.41 20z\"/>\n",
              "  </svg>\n",
              "      </button>\n",
              "      \n",
              "  <style>\n",
              "    .colab-df-container {\n",
              "      display:flex;\n",
              "      flex-wrap:wrap;\n",
              "      gap: 12px;\n",
              "    }\n",
              "\n",
              "    .colab-df-convert {\n",
              "      background-color: #E8F0FE;\n",
              "      border: none;\n",
              "      border-radius: 50%;\n",
              "      cursor: pointer;\n",
              "      display: none;\n",
              "      fill: #1967D2;\n",
              "      height: 32px;\n",
              "      padding: 0 0 0 0;\n",
              "      width: 32px;\n",
              "    }\n",
              "\n",
              "    .colab-df-convert:hover {\n",
              "      background-color: #E2EBFA;\n",
              "      box-shadow: 0px 1px 2px rgba(60, 64, 67, 0.3), 0px 1px 3px 1px rgba(60, 64, 67, 0.15);\n",
              "      fill: #174EA6;\n",
              "    }\n",
              "\n",
              "    [theme=dark] .colab-df-convert {\n",
              "      background-color: #3B4455;\n",
              "      fill: #D2E3FC;\n",
              "    }\n",
              "\n",
              "    [theme=dark] .colab-df-convert:hover {\n",
              "      background-color: #434B5C;\n",
              "      box-shadow: 0px 1px 3px 1px rgba(0, 0, 0, 0.15);\n",
              "      filter: drop-shadow(0px 1px 2px rgba(0, 0, 0, 0.3));\n",
              "      fill: #FFFFFF;\n",
              "    }\n",
              "  </style>\n",
              "\n",
              "      <script>\n",
              "        const buttonEl =\n",
              "          document.querySelector('#df-49969af5-751f-4a7f-b3ee-9b3937c6d1f5 button.colab-df-convert');\n",
              "        buttonEl.style.display =\n",
              "          google.colab.kernel.accessAllowed ? 'block' : 'none';\n",
              "\n",
              "        async function convertToInteractive(key) {\n",
              "          const element = document.querySelector('#df-49969af5-751f-4a7f-b3ee-9b3937c6d1f5');\n",
              "          const dataTable =\n",
              "            await google.colab.kernel.invokeFunction('convertToInteractive',\n",
              "                                                     [key], {});\n",
              "          if (!dataTable) return;\n",
              "\n",
              "          const docLinkHtml = 'Like what you see? Visit the ' +\n",
              "            '<a target=\"_blank\" href=https://colab.research.google.com/notebooks/data_table.ipynb>data table notebook</a>'\n",
              "            + ' to learn more about interactive tables.';\n",
              "          element.innerHTML = '';\n",
              "          dataTable['output_type'] = 'display_data';\n",
              "          await google.colab.output.renderOutput(dataTable, element);\n",
              "          const docLink = document.createElement('div');\n",
              "          docLink.innerHTML = docLinkHtml;\n",
              "          element.appendChild(docLink);\n",
              "        }\n",
              "      </script>\n",
              "    </div>\n",
              "  </div>\n",
              "  "
            ]
          },
          "metadata": {},
          "execution_count": 108
        }
      ],
      "source": [
        "carData2 = DataFrame(cars, index = [1,2,3,4])  # change the row index\n",
        "carData2['year'] = 2018    # add column with same value\n",
        "carData2['dealership'] = ['Courtesy Ford','Capital Honda','Spartan Toyota','N/A']\n",
        "carData2                   # display table"
      ]
    },
    {
      "cell_type": "markdown",
      "metadata": {
        "id": "fHHYnaOV8eFa"
      },
      "source": [
        "Creating DataFrame from a list of tuples."
      ]
    },
    {
      "cell_type": "code",
      "execution_count": null,
      "metadata": {
        "id": "WTQbXh__8eFa",
        "colab": {
          "base_uri": "https://localhost:8080/"
        },
        "outputId": "e3405be2-d793-468b-c28e-caf1615c7b5e"
      },
      "outputs": [
        {
          "output_type": "execute_result",
          "data": {
            "text/plain": [
              "   year  temp  precip\n",
              "0  2011  45.1    32.4\n",
              "1  2012  42.4    34.5\n",
              "2  2013  47.2    39.2\n",
              "3  2014  44.2    31.4\n",
              "4  2015  39.9    29.8\n",
              "5  2016  41.5    36.7"
            ],
            "text/html": [
              "\n",
              "  <div id=\"df-dcc86aa8-ccab-40e4-942b-0d94551dd7ee\">\n",
              "    <div class=\"colab-df-container\">\n",
              "      <div>\n",
              "<style scoped>\n",
              "    .dataframe tbody tr th:only-of-type {\n",
              "        vertical-align: middle;\n",
              "    }\n",
              "\n",
              "    .dataframe tbody tr th {\n",
              "        vertical-align: top;\n",
              "    }\n",
              "\n",
              "    .dataframe thead th {\n",
              "        text-align: right;\n",
              "    }\n",
              "</style>\n",
              "<table border=\"1\" class=\"dataframe\">\n",
              "  <thead>\n",
              "    <tr style=\"text-align: right;\">\n",
              "      <th></th>\n",
              "      <th>year</th>\n",
              "      <th>temp</th>\n",
              "      <th>precip</th>\n",
              "    </tr>\n",
              "  </thead>\n",
              "  <tbody>\n",
              "    <tr>\n",
              "      <th>0</th>\n",
              "      <td>2011</td>\n",
              "      <td>45.1</td>\n",
              "      <td>32.4</td>\n",
              "    </tr>\n",
              "    <tr>\n",
              "      <th>1</th>\n",
              "      <td>2012</td>\n",
              "      <td>42.4</td>\n",
              "      <td>34.5</td>\n",
              "    </tr>\n",
              "    <tr>\n",
              "      <th>2</th>\n",
              "      <td>2013</td>\n",
              "      <td>47.2</td>\n",
              "      <td>39.2</td>\n",
              "    </tr>\n",
              "    <tr>\n",
              "      <th>3</th>\n",
              "      <td>2014</td>\n",
              "      <td>44.2</td>\n",
              "      <td>31.4</td>\n",
              "    </tr>\n",
              "    <tr>\n",
              "      <th>4</th>\n",
              "      <td>2015</td>\n",
              "      <td>39.9</td>\n",
              "      <td>29.8</td>\n",
              "    </tr>\n",
              "    <tr>\n",
              "      <th>5</th>\n",
              "      <td>2016</td>\n",
              "      <td>41.5</td>\n",
              "      <td>36.7</td>\n",
              "    </tr>\n",
              "  </tbody>\n",
              "</table>\n",
              "</div>\n",
              "      <button class=\"colab-df-convert\" onclick=\"convertToInteractive('df-dcc86aa8-ccab-40e4-942b-0d94551dd7ee')\"\n",
              "              title=\"Convert this dataframe to an interactive table.\"\n",
              "              style=\"display:none;\">\n",
              "        \n",
              "  <svg xmlns=\"http://www.w3.org/2000/svg\" height=\"24px\"viewBox=\"0 0 24 24\"\n",
              "       width=\"24px\">\n",
              "    <path d=\"M0 0h24v24H0V0z\" fill=\"none\"/>\n",
              "    <path d=\"M18.56 5.44l.94 2.06.94-2.06 2.06-.94-2.06-.94-.94-2.06-.94 2.06-2.06.94zm-11 1L8.5 8.5l.94-2.06 2.06-.94-2.06-.94L8.5 2.5l-.94 2.06-2.06.94zm10 10l.94 2.06.94-2.06 2.06-.94-2.06-.94-.94-2.06-.94 2.06-2.06.94z\"/><path d=\"M17.41 7.96l-1.37-1.37c-.4-.4-.92-.59-1.43-.59-.52 0-1.04.2-1.43.59L10.3 9.45l-7.72 7.72c-.78.78-.78 2.05 0 2.83L4 21.41c.39.39.9.59 1.41.59.51 0 1.02-.2 1.41-.59l7.78-7.78 2.81-2.81c.8-.78.8-2.07 0-2.86zM5.41 20L4 18.59l7.72-7.72 1.47 1.35L5.41 20z\"/>\n",
              "  </svg>\n",
              "      </button>\n",
              "      \n",
              "  <style>\n",
              "    .colab-df-container {\n",
              "      display:flex;\n",
              "      flex-wrap:wrap;\n",
              "      gap: 12px;\n",
              "    }\n",
              "\n",
              "    .colab-df-convert {\n",
              "      background-color: #E8F0FE;\n",
              "      border: none;\n",
              "      border-radius: 50%;\n",
              "      cursor: pointer;\n",
              "      display: none;\n",
              "      fill: #1967D2;\n",
              "      height: 32px;\n",
              "      padding: 0 0 0 0;\n",
              "      width: 32px;\n",
              "    }\n",
              "\n",
              "    .colab-df-convert:hover {\n",
              "      background-color: #E2EBFA;\n",
              "      box-shadow: 0px 1px 2px rgba(60, 64, 67, 0.3), 0px 1px 3px 1px rgba(60, 64, 67, 0.15);\n",
              "      fill: #174EA6;\n",
              "    }\n",
              "\n",
              "    [theme=dark] .colab-df-convert {\n",
              "      background-color: #3B4455;\n",
              "      fill: #D2E3FC;\n",
              "    }\n",
              "\n",
              "    [theme=dark] .colab-df-convert:hover {\n",
              "      background-color: #434B5C;\n",
              "      box-shadow: 0px 1px 3px 1px rgba(0, 0, 0, 0.15);\n",
              "      filter: drop-shadow(0px 1px 2px rgba(0, 0, 0, 0.3));\n",
              "      fill: #FFFFFF;\n",
              "    }\n",
              "  </style>\n",
              "\n",
              "      <script>\n",
              "        const buttonEl =\n",
              "          document.querySelector('#df-dcc86aa8-ccab-40e4-942b-0d94551dd7ee button.colab-df-convert');\n",
              "        buttonEl.style.display =\n",
              "          google.colab.kernel.accessAllowed ? 'block' : 'none';\n",
              "\n",
              "        async function convertToInteractive(key) {\n",
              "          const element = document.querySelector('#df-dcc86aa8-ccab-40e4-942b-0d94551dd7ee');\n",
              "          const dataTable =\n",
              "            await google.colab.kernel.invokeFunction('convertToInteractive',\n",
              "                                                     [key], {});\n",
              "          if (!dataTable) return;\n",
              "\n",
              "          const docLinkHtml = 'Like what you see? Visit the ' +\n",
              "            '<a target=\"_blank\" href=https://colab.research.google.com/notebooks/data_table.ipynb>data table notebook</a>'\n",
              "            + ' to learn more about interactive tables.';\n",
              "          element.innerHTML = '';\n",
              "          dataTable['output_type'] = 'display_data';\n",
              "          await google.colab.output.renderOutput(dataTable, element);\n",
              "          const docLink = document.createElement('div');\n",
              "          docLink.innerHTML = docLinkHtml;\n",
              "          element.appendChild(docLink);\n",
              "        }\n",
              "      </script>\n",
              "    </div>\n",
              "  </div>\n",
              "  "
            ]
          },
          "metadata": {},
          "execution_count": 109
        }
      ],
      "source": [
        "tuplelist = [(2011,45.1,32.4),(2012,42.4,34.5),(2013,47.2,39.2),\n",
        "              (2014,44.2,31.4),(2015,39.9,29.8),(2016,41.5,36.7)]\n",
        "columnNames = ['year','temp','precip']\n",
        "weatherData = DataFrame(tuplelist, columns=columnNames)\n",
        "weatherData"
      ]
    },
    {
      "cell_type": "markdown",
      "metadata": {
        "id": "bofDdBCV8eFa"
      },
      "source": [
        "Creating DataFrame from numpy ndarray"
      ]
    },
    {
      "cell_type": "code",
      "execution_count": null,
      "metadata": {
        "id": "knqwXGk_8eFa",
        "colab": {
          "base_uri": "https://localhost:8080/"
        },
        "outputId": "7f333c89-87cf-4c7b-b6fd-3a60fe291780"
      },
      "outputs": [
        {
          "output_type": "execute_result",
          "data": {
            "text/plain": [
              "         x1        x2        x3\n",
              "0  0.254182 -0.520155  0.923354\n",
              "1  0.846265  0.558260 -0.520185\n",
              "2  0.261144 -0.280315 -0.281639\n",
              "3 -0.763713  0.099997 -1.178932\n",
              "4 -1.140081  0.873413 -0.080222"
            ],
            "text/html": [
              "\n",
              "  <div id=\"df-e17f993b-a758-46c4-9adf-71ba00e4acc5\">\n",
              "    <div class=\"colab-df-container\">\n",
              "      <div>\n",
              "<style scoped>\n",
              "    .dataframe tbody tr th:only-of-type {\n",
              "        vertical-align: middle;\n",
              "    }\n",
              "\n",
              "    .dataframe tbody tr th {\n",
              "        vertical-align: top;\n",
              "    }\n",
              "\n",
              "    .dataframe thead th {\n",
              "        text-align: right;\n",
              "    }\n",
              "</style>\n",
              "<table border=\"1\" class=\"dataframe\">\n",
              "  <thead>\n",
              "    <tr style=\"text-align: right;\">\n",
              "      <th></th>\n",
              "      <th>x1</th>\n",
              "      <th>x2</th>\n",
              "      <th>x3</th>\n",
              "    </tr>\n",
              "  </thead>\n",
              "  <tbody>\n",
              "    <tr>\n",
              "      <th>0</th>\n",
              "      <td>0.254182</td>\n",
              "      <td>-0.520155</td>\n",
              "      <td>0.923354</td>\n",
              "    </tr>\n",
              "    <tr>\n",
              "      <th>1</th>\n",
              "      <td>0.846265</td>\n",
              "      <td>0.558260</td>\n",
              "      <td>-0.520185</td>\n",
              "    </tr>\n",
              "    <tr>\n",
              "      <th>2</th>\n",
              "      <td>0.261144</td>\n",
              "      <td>-0.280315</td>\n",
              "      <td>-0.281639</td>\n",
              "    </tr>\n",
              "    <tr>\n",
              "      <th>3</th>\n",
              "      <td>-0.763713</td>\n",
              "      <td>0.099997</td>\n",
              "      <td>-1.178932</td>\n",
              "    </tr>\n",
              "    <tr>\n",
              "      <th>4</th>\n",
              "      <td>-1.140081</td>\n",
              "      <td>0.873413</td>\n",
              "      <td>-0.080222</td>\n",
              "    </tr>\n",
              "  </tbody>\n",
              "</table>\n",
              "</div>\n",
              "      <button class=\"colab-df-convert\" onclick=\"convertToInteractive('df-e17f993b-a758-46c4-9adf-71ba00e4acc5')\"\n",
              "              title=\"Convert this dataframe to an interactive table.\"\n",
              "              style=\"display:none;\">\n",
              "        \n",
              "  <svg xmlns=\"http://www.w3.org/2000/svg\" height=\"24px\"viewBox=\"0 0 24 24\"\n",
              "       width=\"24px\">\n",
              "    <path d=\"M0 0h24v24H0V0z\" fill=\"none\"/>\n",
              "    <path d=\"M18.56 5.44l.94 2.06.94-2.06 2.06-.94-2.06-.94-.94-2.06-.94 2.06-2.06.94zm-11 1L8.5 8.5l.94-2.06 2.06-.94-2.06-.94L8.5 2.5l-.94 2.06-2.06.94zm10 10l.94 2.06.94-2.06 2.06-.94-2.06-.94-.94-2.06-.94 2.06-2.06.94z\"/><path d=\"M17.41 7.96l-1.37-1.37c-.4-.4-.92-.59-1.43-.59-.52 0-1.04.2-1.43.59L10.3 9.45l-7.72 7.72c-.78.78-.78 2.05 0 2.83L4 21.41c.39.39.9.59 1.41.59.51 0 1.02-.2 1.41-.59l7.78-7.78 2.81-2.81c.8-.78.8-2.07 0-2.86zM5.41 20L4 18.59l7.72-7.72 1.47 1.35L5.41 20z\"/>\n",
              "  </svg>\n",
              "      </button>\n",
              "      \n",
              "  <style>\n",
              "    .colab-df-container {\n",
              "      display:flex;\n",
              "      flex-wrap:wrap;\n",
              "      gap: 12px;\n",
              "    }\n",
              "\n",
              "    .colab-df-convert {\n",
              "      background-color: #E8F0FE;\n",
              "      border: none;\n",
              "      border-radius: 50%;\n",
              "      cursor: pointer;\n",
              "      display: none;\n",
              "      fill: #1967D2;\n",
              "      height: 32px;\n",
              "      padding: 0 0 0 0;\n",
              "      width: 32px;\n",
              "    }\n",
              "\n",
              "    .colab-df-convert:hover {\n",
              "      background-color: #E2EBFA;\n",
              "      box-shadow: 0px 1px 2px rgba(60, 64, 67, 0.3), 0px 1px 3px 1px rgba(60, 64, 67, 0.15);\n",
              "      fill: #174EA6;\n",
              "    }\n",
              "\n",
              "    [theme=dark] .colab-df-convert {\n",
              "      background-color: #3B4455;\n",
              "      fill: #D2E3FC;\n",
              "    }\n",
              "\n",
              "    [theme=dark] .colab-df-convert:hover {\n",
              "      background-color: #434B5C;\n",
              "      box-shadow: 0px 1px 3px 1px rgba(0, 0, 0, 0.15);\n",
              "      filter: drop-shadow(0px 1px 2px rgba(0, 0, 0, 0.3));\n",
              "      fill: #FFFFFF;\n",
              "    }\n",
              "  </style>\n",
              "\n",
              "      <script>\n",
              "        const buttonEl =\n",
              "          document.querySelector('#df-e17f993b-a758-46c4-9adf-71ba00e4acc5 button.colab-df-convert');\n",
              "        buttonEl.style.display =\n",
              "          google.colab.kernel.accessAllowed ? 'block' : 'none';\n",
              "\n",
              "        async function convertToInteractive(key) {\n",
              "          const element = document.querySelector('#df-e17f993b-a758-46c4-9adf-71ba00e4acc5');\n",
              "          const dataTable =\n",
              "            await google.colab.kernel.invokeFunction('convertToInteractive',\n",
              "                                                     [key], {});\n",
              "          if (!dataTable) return;\n",
              "\n",
              "          const docLinkHtml = 'Like what you see? Visit the ' +\n",
              "            '<a target=\"_blank\" href=https://colab.research.google.com/notebooks/data_table.ipynb>data table notebook</a>'\n",
              "            + ' to learn more about interactive tables.';\n",
              "          element.innerHTML = '';\n",
              "          dataTable['output_type'] = 'display_data';\n",
              "          await google.colab.output.renderOutput(dataTable, element);\n",
              "          const docLink = document.createElement('div');\n",
              "          docLink.innerHTML = docLinkHtml;\n",
              "          element.appendChild(docLink);\n",
              "        }\n",
              "      </script>\n",
              "    </div>\n",
              "  </div>\n",
              "  "
            ]
          },
          "metadata": {},
          "execution_count": 110
        }
      ],
      "source": [
        "import numpy as np\n",
        "\n",
        "npdata = np.random.randn(5,3)  # create a 5 by 3 random matrix\n",
        "columnNames = ['x1','x2','x3']\n",
        "data = DataFrame(npdata, columns=columnNames)\n",
        "data"
      ]
    },
    {
      "cell_type": "markdown",
      "metadata": {
        "id": "McY-K1-U8eFa"
      },
      "source": [
        "There are many ways to access elements of a DataFrame object."
      ]
    },
    {
      "cell_type": "code",
      "execution_count": null,
      "metadata": {
        "id": "YTA5pUuu8eFa",
        "colab": {
          "base_uri": "https://localhost:8080/"
        },
        "outputId": "bb034194-5634-4ab4-87db-855220766865"
      },
      "outputs": [
        {
          "output_type": "stream",
          "name": "stdout",
          "text": [
            "0   -0.520155\n",
            "1    0.558260\n",
            "2   -0.280315\n",
            "3    0.099997\n",
            "4    0.873413\n",
            "Name: x2, dtype: float64\n",
            "<class 'pandas.core.series.Series'>\n"
          ]
        }
      ],
      "source": [
        "# accessing an entire column will return a Series object\n",
        "\n",
        "print(data['x2'])\n",
        "print(type(data['x2']))"
      ]
    },
    {
      "cell_type": "code",
      "execution_count": null,
      "metadata": {
        "id": "t1S0cCCh8eFa",
        "colab": {
          "base_uri": "https://localhost:8080/"
        },
        "outputId": "d4ccaa97-4b22-4948-defc-76bb09fc5ee2"
      },
      "outputs": [
        {
          "output_type": "stream",
          "name": "stdout",
          "text": [
            "Row 3 of data table:\n",
            "x1    0.261144\n",
            "x2   -0.280315\n",
            "x3   -0.281639\n",
            "Name: 2, dtype: float64\n",
            "<class 'pandas.core.series.Series'>\n",
            "\n",
            "Row 3 of car data table:\n",
            "make                  Toyota\n",
            "model                  Camry\n",
            "MSRP                   23495\n",
            "year                    2018\n",
            "dealership    Spartan Toyota\n",
            "Name: 3, dtype: object\n"
          ]
        }
      ],
      "source": [
        "# accessing an entire row will return a Series object\n",
        "\n",
        "print('Row 3 of data table:')\n",
        "print(data.iloc[2])       # returns the 3rd row of DataFrame\n",
        "print(type(data.iloc[2]))\n",
        "\n",
        "print('\\nRow 3 of car data table:')\n",
        "print(carData2.iloc[2])   # row contains objects of different types"
      ]
    },
    {
      "cell_type": "code",
      "execution_count": null,
      "metadata": {
        "id": "h4M9KlcQ8eFb",
        "colab": {
          "base_uri": "https://localhost:8080/"
        },
        "outputId": "f6544bfb-2573-4548-dbeb-99e05e9a92ee"
      },
      "outputs": [
        {
          "output_type": "stream",
          "name": "stdout",
          "text": [
            "carData2 =\n",
            "      make    model   MSRP  year      dealership\n",
            "1    Ford   Taurus  27595  2018   Courtesy Ford\n",
            "2   Honda   Accord  23570  2018   Capital Honda\n",
            "3  Toyota    Camry  23495  2018  Spartan Toyota\n",
            "4   Tesla  Model S  68000  2018             N/A\n",
            "\n",
            "carData2.iloc[1,2] = 23570\n",
            "carData2.loc[1,'model'] = Taurus\n",
            "\n",
            "carData2.iloc[1:3,1:3]=\n",
            "    model   MSRP\n",
            "2  Accord  23570\n",
            "3   Camry  23495\n"
          ]
        }
      ],
      "source": [
        "# accessing a specific element of the DataFrame\n",
        "\n",
        "print('carData2 =\\n', carData2)\n",
        "\n",
        "print('\\ncarData2.iloc[1,2] =', carData2.iloc[1,2])                # retrieving second row, third column\n",
        "print('carData2.loc[1,\\'model\\'] =', carData2.loc[1,'model'])    # retrieving second row, column named 'model'\n",
        "\n",
        "# accessing a slice of the DataFrame\n",
        "\n",
        "print('\\ncarData2.iloc[1:3,1:3]=')\n",
        "print(carData2.iloc[1:3,1:3])"
      ]
    },
    {
      "cell_type": "code",
      "execution_count": null,
      "metadata": {
        "id": "t2IkCL6m8eFb",
        "colab": {
          "base_uri": "https://localhost:8080/"
        },
        "outputId": "85833228-fb29-4674-f53f-9b439bdfca47"
      },
      "outputs": [
        {
          "output_type": "stream",
          "name": "stdout",
          "text": [
            "carData2 =\n",
            "      make    model   MSRP  year      dealership\n",
            "1    Ford   Taurus  27595  2018   Courtesy Ford\n",
            "2   Honda   Accord  23570  2018   Capital Honda\n",
            "3  Toyota    Camry  23495  2018  Spartan Toyota\n",
            "4   Tesla  Model S  68000  2018             N/A \n",
            "\n",
            "carData2.shape = (4, 5)\n",
            "carData2.size = 20\n"
          ]
        }
      ],
      "source": [
        "print('carData2 =\\n', carData2, '\\n')\n",
        "\n",
        "print('carData2.shape =', carData2.shape)\n",
        "print('carData2.size =', carData2.size)"
      ]
    },
    {
      "cell_type": "code",
      "execution_count": null,
      "metadata": {
        "id": "9FsF6Aq88eFb",
        "colab": {
          "base_uri": "https://localhost:8080/"
        },
        "outputId": "acf20837-92f3-4d10-d2b5-9284c679531a"
      },
      "outputs": [
        {
          "output_type": "stream",
          "name": "stdout",
          "text": [
            "carData2 =\n",
            "      make    model   MSRP  year      dealership\n",
            "1    Ford   Taurus  27595  2018   Courtesy Ford\n",
            "2   Honda   Accord  23570  2018   Capital Honda\n",
            "3  Toyota    Camry  23495  2018  Spartan Toyota\n",
            "4   Tesla  Model S  68000  2018             N/A \n",
            "\n",
            "carData2[carData2.MSRP > 25000] =\n",
            "    make    model   MSRP  year     dealership\n",
            "1   Ford   Taurus  27595  2018  Courtesy Ford\n",
            "4  Tesla  Model S  68000  2018            N/A\n"
          ]
        }
      ],
      "source": [
        "# selection and filtering\n",
        "\n",
        "print('carData2 =\\n', carData2, '\\n')\n",
        "\n",
        "print('carData2[carData2.MSRP > 25000] =')  \n",
        "print(carData2[carData2.MSRP > 25000])"
      ]
    },
    {
      "cell_type": "markdown",
      "metadata": {
        "id": "_dJKputS8eFb"
      },
      "source": [
        "### 2.2.3 Arithmetic Operations"
      ]
    },
    {
      "cell_type": "code",
      "execution_count": null,
      "metadata": {
        "id": "lYrSECdU8eFb",
        "colab": {
          "base_uri": "https://localhost:8080/"
        },
        "outputId": "5dfe94f2-6a4e-4762-83f4-19bc0cb0145a"
      },
      "outputs": [
        {
          "output_type": "stream",
          "name": "stdout",
          "text": [
            "         x1        x2        x3\n",
            "0  0.254182 -0.520155  0.923354\n",
            "1  0.846265  0.558260 -0.520185\n",
            "2  0.261144 -0.280315 -0.281639\n",
            "3 -0.763713  0.099997 -1.178932\n",
            "4 -1.140081  0.873413 -0.080222\n",
            "\n",
            "Data transpose operation: data.T\n",
            "           0         1         2         3         4\n",
            "x1  0.254182  0.846265  0.261144 -0.763713 -1.140081\n",
            "x2 -0.520155  0.558260 -0.280315  0.099997  0.873413\n",
            "x3  0.923354 -0.520185 -0.281639 -1.178932 -0.080222\n",
            "\n",
            "Addition: data + 4\n",
            "         x1        x2        x3\n",
            "0  4.254182  3.479845  4.923354\n",
            "1  4.846265  4.558260  3.479815\n",
            "2  4.261144  3.719685  3.718361\n",
            "3  3.236287  4.099997  2.821068\n",
            "4  2.859919  4.873413  3.919778\n",
            "\n",
            "Multiplication: data * 10\n",
            "          x1        x2         x3\n",
            "0   2.541824 -5.201555   9.233545\n",
            "1   8.462647  5.582595  -5.201845\n",
            "2   2.611439 -2.803148  -2.816394\n",
            "3  -7.637134  0.999968 -11.789320\n",
            "4 -11.400808  8.734131  -0.802222\n"
          ]
        }
      ],
      "source": [
        "print(data)\n",
        "\n",
        "print('\\nData transpose operation: data.T')\n",
        "print(data.T)    # transpose operation\n",
        "\n",
        "print('\\nAddition: data + 4')\n",
        "print(data + 4)    # addition operation\n",
        "\n",
        "print('\\nMultiplication: data * 10')\n",
        "print(data * 10)   # multiplication operation"
      ]
    },
    {
      "cell_type": "code",
      "execution_count": null,
      "metadata": {
        "id": "5tBpw4z28eFb",
        "colab": {
          "base_uri": "https://localhost:8080/"
        },
        "outputId": "4f611874-2f73-4b07-d9d2-cf6d26a9058a"
      },
      "outputs": [
        {
          "output_type": "stream",
          "name": "stdout",
          "text": [
            "data =\n",
            "          x1        x2        x3\n",
            "0  0.254182 -0.520155  0.923354\n",
            "1  0.846265  0.558260 -0.520185\n",
            "2  0.261144 -0.280315 -0.281639\n",
            "3 -0.763713  0.099997 -1.178932\n",
            "4 -1.140081  0.873413 -0.080222\n",
            "\n",
            "data2 =\n",
            "         x1        x2        x3\n",
            "0 -0.509617  1.230932  1.228382\n",
            "1  0.482045  0.798164  1.150435\n",
            "2  2.133023 -1.095870 -0.112229\n",
            "3  0.134328  0.438635 -1.108712\n",
            "4  1.027812  0.190733  2.644226\n",
            "\n",
            "data + data2 = \n",
            "         x1        x2        x3\n",
            "0 -0.255435  0.710777  2.151737\n",
            "1  1.328310  1.356424  0.630251\n",
            "2  2.394167 -1.376185 -0.393868\n",
            "3 -0.629385  0.538632 -2.287644\n",
            "4 -0.112268  1.064146  2.564004\n",
            "\n",
            "data * data2 = \n",
            "         x1        x2        x3\n",
            "0 -0.129536 -0.640276  1.134232\n",
            "1  0.407938  0.445583 -0.598439\n",
            "2  0.557026  0.307189  0.031608\n",
            "3 -0.102588  0.043862  1.307096\n",
            "4 -1.171789  0.166588 -0.212126\n"
          ]
        }
      ],
      "source": [
        "print('data =\\n', data)\n",
        "\n",
        "columnNames = ['x1','x2','x3']\n",
        "data2 = DataFrame(np.random.randn(5,3), columns=columnNames)\n",
        "print('\\ndata2 =')\n",
        "print(data2)\n",
        "\n",
        "print('\\ndata + data2 = ')\n",
        "print(data.add(data2))\n",
        "\n",
        "print('\\ndata * data2 = ')\n",
        "print(data.mul(data2))"
      ]
    },
    {
      "cell_type": "code",
      "execution_count": null,
      "metadata": {
        "id": "qJIpfrea8eFb",
        "colab": {
          "base_uri": "https://localhost:8080/"
        },
        "outputId": "d238f32f-0c19-4d7b-e0fb-84085ffa8db3"
      },
      "outputs": [
        {
          "output_type": "stream",
          "name": "stdout",
          "text": [
            "         x1        x2        x3\n",
            "0  0.254182  0.520155  0.923354\n",
            "1  0.846265  0.558260  0.520185\n",
            "2  0.261144  0.280315  0.281639\n",
            "3  0.763713  0.099997  1.178932\n",
            "4  1.140081  0.873413  0.080222\n",
            "\n",
            "Maximum value per column:\n",
            "x1    0.846265\n",
            "x2    0.873413\n",
            "x3    0.923354\n",
            "dtype: float64\n",
            "\n",
            "Minimum value per row:\n",
            "0   -0.520155\n",
            "1   -0.520185\n",
            "2   -0.281639\n",
            "3   -1.178932\n",
            "4   -1.140081\n",
            "dtype: float64\n",
            "\n",
            "Sum of values per column:\n",
            "x1   -0.542203\n",
            "x2    0.731199\n",
            "x3   -1.137624\n",
            "dtype: float64\n",
            "\n",
            "Average value per row:\n",
            "0    0.219127\n",
            "1    0.294780\n",
            "2   -0.100270\n",
            "3   -0.614216\n",
            "4   -0.115630\n",
            "dtype: float64\n",
            "\n",
            "Calculate max - min per column\n",
            "x1    1.986346\n",
            "x2    1.393569\n",
            "x3    2.102286\n",
            "dtype: float64\n",
            "\n",
            "Calculate max - min per row\n",
            "0    1.443510\n",
            "1    1.366449\n",
            "2    0.542783\n",
            "3    1.278929\n",
            "4    2.013494\n",
            "dtype: float64\n"
          ]
        }
      ],
      "source": [
        "print(data.abs())    # get the absolute value for each element\n",
        "\n",
        "print('\\nMaximum value per column:')\n",
        "print(data.max())    # get maximum value for each column\n",
        "\n",
        "print('\\nMinimum value per row:')\n",
        "print(data.min(axis=1))    # get minimum value for each row\n",
        "\n",
        "print('\\nSum of values per column:')\n",
        "print(data.sum())    # get sum of values for each column\n",
        "\n",
        "print('\\nAverage value per row:')\n",
        "print(data.mean(axis=1))    # get average value for each row\n",
        "\n",
        "print('\\nCalculate max - min per column')\n",
        "f = lambda x: x.max() - x.min()\n",
        "print(data.apply(f))\n",
        "\n",
        "print('\\nCalculate max - min per row')\n",
        "f = lambda x: x.max() - x.min()\n",
        "print(data.apply(f, axis=1))"
      ]
    },
    {
      "cell_type": "markdown",
      "metadata": {
        "id": "1Dvsy6-Z8eFc"
      },
      "source": [
        "The value_counts() function can also be applied to a pandas DataFrame"
      ]
    },
    {
      "cell_type": "code",
      "execution_count": null,
      "metadata": {
        "id": "5BlFqYWK8eFc",
        "colab": {
          "base_uri": "https://localhost:8080/"
        },
        "outputId": "d0bc8fa6-4732-4edd-f9df-b2fc24f26928"
      },
      "outputs": [
        {
          "output_type": "stream",
          "name": "stdout",
          "text": [
            "shapeData =\n",
            "        shape color\n",
            "0     circle   red\n",
            "1     square   red\n",
            "2     square   red\n",
            "3     square  blue\n",
            "4     circle  blue\n",
            "5  rectangle  blue \n",
            "\n",
            "shapeData.value_counts() =\n",
            " shape      color\n",
            "circle     blue     1\n",
            "           red      1\n",
            "rectangle  blue     1\n",
            "square     blue     1\n",
            "           red      2\n",
            "dtype: int64\n"
          ]
        }
      ],
      "source": [
        "objects = {'shape': ['circle', 'square', 'square', 'square', 'circle', 'rectangle'],\n",
        "           'color': ['red', 'red', 'red', 'blue', 'blue', 'blue']}\n",
        "\n",
        "shapeData = DataFrame(objects)\n",
        "print('shapeData =\\n', shapeData, '\\n')\n",
        "\n",
        "print('shapeData.value_counts() =\\n', shapeData.value_counts().sort_values())"
      ]
    },
    {
      "cell_type": "markdown",
      "metadata": {
        "id": "m-6KfhnE8eFc"
      },
      "source": [
        "### 2.2.4 Plotting Series and DataFrame\n",
        "\n",
        "There are many built-in functions available to plot the data stored in a Series or a DataFrame.\n",
        "\n",
        "**(a)** Line plot"
      ]
    },
    {
      "cell_type": "code",
      "execution_count": null,
      "metadata": {
        "id": "SJBaRX5o_pEf"
      },
      "outputs": [],
      "source": [
        "%matplotlib inline\n",
        "\n",
        "s3 = Series([1.2,2.5,-2.2,3.1,-0.8,-3.2,1.4], \n",
        "            index = ['Jan 1','Jan 2','Jan 3','Jan 4','Jan 5','Jan 6','Jan 7'])"
      ]
    },
    {
      "cell_type": "code",
      "execution_count": null,
      "metadata": {
        "id": "BNgGHmhm8eFc",
        "colab": {
          "base_uri": "https://localhost:8080/"
        },
        "outputId": "e7780d02-d3db-4bf3-c7ba-39850be14638"
      },
      "outputs": [
        {
          "output_type": "execute_result",
          "data": {
            "text/plain": [
              "<matplotlib.axes._subplots.AxesSubplot at 0x7f6c44776a90>"
            ]
          },
          "metadata": {},
          "execution_count": 121
        },
        {
          "output_type": "display_data",
          "data": {
            "text/plain": [
              "<Figure size 432x288 with 1 Axes>"
            ],
            "image/png": "[encoded data removed]"
          },
          "metadata": {
            "needs_background": "light"
          }
        }
      ],
      "source": [
        "s3.plot(kind='line', title='Line plot')"
      ]
    },
    {
      "cell_type": "markdown",
      "metadata": {
        "id": "7mmuEOof8eFc"
      },
      "source": [
        "**(b)** Bar plot"
      ]
    },
    {
      "cell_type": "code",
      "execution_count": null,
      "metadata": {
        "id": "cdUTeqWZ8eFc",
        "colab": {
          "base_uri": "https://localhost:8080/"
        },
        "outputId": "e01144ae-1313-4bde-8567-3c94b2cd64bc"
      },
      "outputs": [
        {
          "output_type": "execute_result",
          "data": {
            "text/plain": [
              "<matplotlib.axes._subplots.AxesSubplot at 0x7f6c43cfbb50>"
            ]
          },
          "metadata": {},
          "execution_count": 122
        },
        {
          "output_type": "display_data",
          "data": {
            "text/plain": [
              "<Figure size 432x288 with 1 Axes>"
            ],
            "image/png": "[encoded data removed]"
          },
          "metadata": {
            "needs_background": "light"
          }
        }
      ],
      "source": [
        "s3.plot(kind='bar', title='Bar plot')"
      ]
    },
    {
      "cell_type": "markdown",
      "metadata": {
        "id": "JUJqhXlA8eFc"
      },
      "source": [
        "**(c)** Histogram"
      ]
    },
    {
      "cell_type": "code",
      "execution_count": null,
      "metadata": {
        "id": "swlPhNvm8eFc",
        "colab": {
          "base_uri": "https://localhost:8080/"
        },
        "outputId": "04303af1-dcf3-49d8-c702-7a8b3528ef1d"
      },
      "outputs": [
        {
          "output_type": "execute_result",
          "data": {
            "text/plain": [
              "<matplotlib.axes._subplots.AxesSubplot at 0x7f6c413b03d0>"
            ]
          },
          "metadata": {},
          "execution_count": 123
        },
        {
          "output_type": "display_data",
          "data": {
            "text/plain": [
              "<Figure size 432x288 with 1 Axes>"
            ],
            "image/png": "[encoded data removed]"
          },
          "metadata": {
            "needs_background": "light"
          }
        }
      ],
      "source": [
        "s3.plot(kind='hist', title = 'Histogram')"
      ]
    },
    {
      "cell_type": "markdown",
      "metadata": {
        "id": "0L5UZaeR8eFc"
      },
      "source": [
        "**(d)** Box plot"
      ]
    },
    {
      "cell_type": "code",
      "execution_count": null,
      "metadata": {
        "id": "Ox2Ftgh-8eFd",
        "colab": {
          "base_uri": "https://localhost:8080/"
        },
        "outputId": "a5d4b605-9bb0-4cc5-a34f-ba114837d7f5"
      },
      "outputs": [
        {
          "output_type": "execute_result",
          "data": {
            "text/plain": [
              "<matplotlib.axes._subplots.AxesSubplot at 0x7f6c4133a790>"
            ]
          },
          "metadata": {},
          "execution_count": 124
        },
        {
          "output_type": "display_data",
          "data": {
            "text/plain": [
              "<Figure size 432x288 with 1 Axes>"
            ],
            "image/png": "[encoded data removed]"
          },
          "metadata": {
            "needs_background": "light"
          }
        }
      ],
      "source": [
        "tuplelist = [(2011,45.1,32.4),(2012,42.4,34.5),(2013,47.2,39.2),\n",
        "              (2014,44.2,31.4),(2015,39.9,29.8),(2016,41.5,36.7)]\n",
        "columnNames = ['year','temp','precip']\n",
        "weatherData = DataFrame(tuplelist, columns=columnNames)\n",
        "weatherData[['temp','precip']].plot(kind='box', title='Box plot')"
      ]
    },
    {
      "cell_type": "markdown",
      "metadata": {
        "id": "lHrSTDEY8eFd"
      },
      "source": [
        "**(e)** Scatter plot "
      ]
    },
    {
      "cell_type": "code",
      "execution_count": null,
      "metadata": {
        "id": "nxzsPmi98eFd",
        "colab": {
          "base_uri": "https://localhost:8080/"
        },
        "outputId": "ae45cfdd-6bef-41e4-d905-ae040e08c18f"
      },
      "outputs": [
        {
          "output_type": "stream",
          "name": "stdout",
          "text": [
            "weatherData =\n",
            "    year  temp  precip\n",
            "0  2011  45.1    32.4\n",
            "1  2012  42.4    34.5\n",
            "2  2013  47.2    39.2\n",
            "3  2014  44.2    31.4\n",
            "4  2015  39.9    29.8\n",
            "5  2016  41.5    36.7\n"
          ]
        },
        {
          "output_type": "execute_result",
          "data": {
            "text/plain": [
              "<matplotlib.axes._subplots.AxesSubplot at 0x7f6c4125bc50>"
            ]
          },
          "metadata": {},
          "execution_count": 125
        },
        {
          "output_type": "display_data",
          "data": {
            "text/plain": [
              "<Figure size 432x288 with 1 Axes>"
            ],
            "image/png": "[encoded data removed]"
          },
          "metadata": {
            "needs_background": "light"
          }
        }
      ],
      "source": [
        "print('weatherData =\\n', weatherData)\n",
        "\n",
        "weatherData.plot(kind='scatter', x='temp', y='precip')"
      ]
    },
    {
      "cell_type": "markdown",
      "metadata": {
        "id": "nseafkAvB3SH"
      },
      "source": [
        "# Exercise: Explore crop production dataset\n",
        "\n",
        "The dataset `Production_Crops_E_Asia.csv` contains crop production statistics from the United Nations Food and Agriculture Organization (UN FAO) in East Asian countries from 1961 to 2019 (source: https://data.world/agriculture/crop-production). In this exercise, you'll explore the dataset using some of the operations from Modules 1-2 in this lab. "
      ]
    },
    {
      "cell_type": "code",
      "execution_count": null,
      "metadata": {
        "id": "2378EspcCT4d"
      },
      "outputs": [],
      "source": [
        "import pandas as pd"
      ]
    },
    {
      "cell_type": "code",
      "execution_count": null,
      "metadata": {
        "id": "qSirJQ-E_wvk"
      },
      "outputs": [],
      "source": [
        "# Load the CSV file from its storage location on Google Drive\n",
        "prod = pd.read_csv('https://docs.google.com/uc?export=download&id=1r2DzEFS5tb5NjoIyAl6FvUDYW5DOKm5q')"
      ]
    },
    {
      "cell_type": "code",
      "execution_count": null,
      "metadata": {
        "id": "nYAFalt4mjjs",
        "colab": {
          "base_uri": "https://localhost:8080/",
          "height": 748
        },
        "outputId": "06f9f21c-3334-42df-86db-c0ee724655d9"
      },
      "outputs": [
        {
          "output_type": "execute_result",
          "data": {
            "text/plain": [
              "      Area Code         Area  Item Code                              Item  \\\n",
              "0             2  Afghanistan        221               Almonds, with shell   \n",
              "1             2  Afghanistan        221               Almonds, with shell   \n",
              "2             2  Afghanistan        221               Almonds, with shell   \n",
              "3             2  Afghanistan        711  Anise, badian, fennel, coriander   \n",
              "4             2  Afghanistan        711  Anise, badian, fennel, coriander   \n",
              "...         ...          ...        ...                               ...   \n",
              "9633        249        Yemen       1729                   Treenuts, Total   \n",
              "9634        249        Yemen       1729                   Treenuts, Total   \n",
              "9635        249        Yemen       1735                Vegetables Primary   \n",
              "9636        249        Yemen       1735                Vegetables Primary   \n",
              "9637        249        Yemen       1735                Vegetables Primary   \n",
              "\n",
              "      Element Code         Element    Unit     Y1961 Y1961F     Y1962  ...  \\\n",
              "0             5312  Area harvested      ha       NaN    NaN       NaN  ...   \n",
              "1             5419           Yield   hg/ha       NaN    NaN       NaN  ...   \n",
              "2             5510      Production  tonnes       NaN    NaN       NaN  ...   \n",
              "3             5312  Area harvested      ha       NaN      M       NaN  ...   \n",
              "4             5419           Yield   hg/ha       NaN    NaN       NaN  ...   \n",
              "...            ...             ...     ...       ...    ...       ...  ...   \n",
              "9633          5419           Yield   hg/ha       NaN    NaN       NaN  ...   \n",
              "9634          5510      Production  tonnes       NaN    NaN       NaN  ...   \n",
              "9635          5312  Area harvested      ha    7000.0      A    7100.0  ...   \n",
              "9636          5419           Yield   hg/ha  107143.0     Fc  107042.0  ...   \n",
              "9637          5510      Production  tonnes   75000.0      A   76000.0  ...   \n",
              "\n",
              "         Y2015  Y2015F     Y2016  Y2016F     Y2017  Y2017F     Y2018  Y2018F  \\\n",
              "0      14676.0     NaN   19481.0     NaN   19793.0     NaN   20053.0     NaN   \n",
              "1      16521.0      Fc   16859.0      Fc   13788.0      Fc   17161.0      Fc   \n",
              "2      24246.0     NaN   32843.0     NaN   27291.0     NaN   34413.0     NaN   \n",
              "3      25000.0       F   25787.0      Im   28398.0      Im   26725.0      Im   \n",
              "4       7200.0      Fc    6982.0      Fc    6863.0      Fc    6898.0      Fc   \n",
              "...        ...     ...       ...     ...       ...     ...       ...     ...   \n",
              "9633   18805.0      Fc   18061.0      Fc   17863.0      Fc   17513.0      Fc   \n",
              "9634   11014.0       A   10591.0       A   10484.0       A   10483.0       A   \n",
              "9635   42489.0       A   39887.0       A   38612.0       A   40647.0       A   \n",
              "9636  113518.0      Fc  106887.0      Fc  107777.0      Fc  112627.0      Fc   \n",
              "9637  482325.0       A  426339.0       A  416147.0       A  457796.0       A   \n",
              "\n",
              "         Y2019  Y2019F  \n",
              "0      29203.0     NaN  \n",
              "1      13083.0      Fc  \n",
              "2      38205.0     NaN  \n",
              "3      27562.0      Im  \n",
              "4       6903.0      Fc  \n",
              "...        ...     ...  \n",
              "9633   17516.0      Fc  \n",
              "9634   11340.0       A  \n",
              "9635   41528.0       A  \n",
              "9636  115155.0      Fc  \n",
              "9637  478214.0       A  \n",
              "\n",
              "[9638 rows x 125 columns]"
            ],
            "text/html": [
              "\n",
              "  <div id=\"df-34148341-6c8d-4b2c-a7e8-6a4954b634df\">\n",
              "    <div class=\"colab-df-container\">\n",
              "      <div>\n",
              "<style scoped>\n",
              "    .dataframe tbody tr th:only-of-type {\n",
              "        vertical-align: middle;\n",
              "    }\n",
              "\n",
              "    .dataframe tbody tr th {\n",
              "        vertical-align: top;\n",
              "    }\n",
              "\n",
              "    .dataframe thead th {\n",
              "        text-align: right;\n",
              "    }\n",
              "</style>\n",
              "<table border=\"1\" class=\"dataframe\">\n",
              "  <thead>\n",
              "    <tr style=\"text-align: right;\">\n",
              "      <th></th>\n",
              "      <th>Area Code</th>\n",
              "      <th>Area</th>\n",
              "      <th>Item Code</th>\n",
              "      <th>Item</th>\n",
              "      <th>Element Code</th>\n",
              "      <th>Element</th>\n",
              "      <th>Unit</th>\n",
              "      <th>Y1961</th>\n",
              "      <th>Y1961F</th>\n",
              "      <th>Y1962</th>\n",
              "      <th>...</th>\n",
              "      <th>Y2015</th>\n",
              "      <th>Y2015F</th>\n",
              "      <th>Y2016</th>\n",
              "      <th>Y2016F</th>\n",
              "      <th>Y2017</th>\n",
              "      <th>Y2017F</th>\n",
              "      <th>Y2018</th>\n",
              "      <th>Y2018F</th>\n",
              "      <th>Y2019</th>\n",
              "      <th>Y2019F</th>\n",
              "    </tr>\n",
              "  </thead>\n",
              "  <tbody>\n",
              "    <tr>\n",
              "      <th>0</th>\n",
              "      <td>2</td>\n",
              "      <td>Afghanistan</td>\n",
              "      <td>221</td>\n",
              "      <td>Almonds, with shell</td>\n",
              "      <td>5312</td>\n",
              "      <td>Area harvested</td>\n",
              "      <td>ha</td>\n",
              "      <td>NaN</td>\n",
              "      <td>NaN</td>\n",
              "      <td>NaN</td>\n",
              "      <td>...</td>\n",
              "      <td>14676.0</td>\n",
              "      <td>NaN</td>\n",
              "      <td>19481.0</td>\n",
              "      <td>NaN</td>\n",
              "      <td>19793.0</td>\n",
              "      <td>NaN</td>\n",
              "      <td>20053.0</td>\n",
              "      <td>NaN</td>\n",
              "      <td>29203.0</td>\n",
              "      <td>NaN</td>\n",
              "    </tr>\n",
              "    <tr>\n",
              "      <th>1</th>\n",
              "      <td>2</td>\n",
              "      <td>Afghanistan</td>\n",
              "      <td>221</td>\n",
              "      <td>Almonds, with shell</td>\n",
              "      <td>5419</td>\n",
              "      <td>Yield</td>\n",
              "      <td>hg/ha</td>\n",
              "      <td>NaN</td>\n",
              "      <td>NaN</td>\n",
              "      <td>NaN</td>\n",
              "      <td>...</td>\n",
              "      <td>16521.0</td>\n",
              "      <td>Fc</td>\n",
              "      <td>16859.0</td>\n",
              "      <td>Fc</td>\n",
              "      <td>13788.0</td>\n",
              "      <td>Fc</td>\n",
              "      <td>17161.0</td>\n",
              "      <td>Fc</td>\n",
              "      <td>13083.0</td>\n",
              "      <td>Fc</td>\n",
              "    </tr>\n",
              "    <tr>\n",
              "      <th>2</th>\n",
              "      <td>2</td>\n",
              "      <td>Afghanistan</td>\n",
              "      <td>221</td>\n",
              "      <td>Almonds, with shell</td>\n",
              "      <td>5510</td>\n",
              "      <td>Production</td>\n",
              "      <td>tonnes</td>\n",
              "      <td>NaN</td>\n",
              "      <td>NaN</td>\n",
              "      <td>NaN</td>\n",
              "      <td>...</td>\n",
              "      <td>24246.0</td>\n",
              "      <td>NaN</td>\n",
              "      <td>32843.0</td>\n",
              "      <td>NaN</td>\n",
              "      <td>27291.0</td>\n",
              "      <td>NaN</td>\n",
              "      <td>34413.0</td>\n",
              "      <td>NaN</td>\n",
              "      <td>38205.0</td>\n",
              "      <td>NaN</td>\n",
              "    </tr>\n",
              "    <tr>\n",
              "      <th>3</th>\n",
              "      <td>2</td>\n",
              "      <td>Afghanistan</td>\n",
              "      <td>711</td>\n",
              "      <td>Anise, badian, fennel, coriander</td>\n",
              "      <td>5312</td>\n",
              "      <td>Area harvested</td>\n",
              "      <td>ha</td>\n",
              "      <td>NaN</td>\n",
              "      <td>M</td>\n",
              "      <td>NaN</td>\n",
              "      <td>...</td>\n",
              "      <td>25000.0</td>\n",
              "      <td>F</td>\n",
              "      <td>25787.0</td>\n",
              "      <td>Im</td>\n",
              "      <td>28398.0</td>\n",
              "      <td>Im</td>\n",
              "      <td>26725.0</td>\n",
              "      <td>Im</td>\n",
              "      <td>27562.0</td>\n",
              "      <td>Im</td>\n",
              "    </tr>\n",
              "    <tr>\n",
              "      <th>4</th>\n",
              "      <td>2</td>\n",
              "      <td>Afghanistan</td>\n",
              "      <td>711</td>\n",
              "      <td>Anise, badian, fennel, coriander</td>\n",
              "      <td>5419</td>\n",
              "      <td>Yield</td>\n",
              "      <td>hg/ha</td>\n",
              "      <td>NaN</td>\n",
              "      <td>NaN</td>\n",
              "      <td>NaN</td>\n",
              "      <td>...</td>\n",
              "      <td>7200.0</td>\n",
              "      <td>Fc</td>\n",
              "      <td>6982.0</td>\n",
              "      <td>Fc</td>\n",
              "      <td>6863.0</td>\n",
              "      <td>Fc</td>\n",
              "      <td>6898.0</td>\n",
              "      <td>Fc</td>\n",
              "      <td>6903.0</td>\n",
              "      <td>Fc</td>\n",
              "    </tr>\n",
              "    <tr>\n",
              "      <th>...</th>\n",
              "      <td>...</td>\n",
              "      <td>...</td>\n",
              "      <td>...</td>\n",
              "      <td>...</td>\n",
              "      <td>...</td>\n",
              "      <td>...</td>\n",
              "      <td>...</td>\n",
              "      <td>...</td>\n",
              "      <td>...</td>\n",
              "      <td>...</td>\n",
              "      <td>...</td>\n",
              "      <td>...</td>\n",
              "      <td>...</td>\n",
              "      <td>...</td>\n",
              "      <td>...</td>\n",
              "      <td>...</td>\n",
              "      <td>...</td>\n",
              "      <td>...</td>\n",
              "      <td>...</td>\n",
              "      <td>...</td>\n",
              "      <td>...</td>\n",
              "    </tr>\n",
              "    <tr>\n",
              "      <th>9633</th>\n",
              "      <td>249</td>\n",
              "      <td>Yemen</td>\n",
              "      <td>1729</td>\n",
              "      <td>Treenuts, Total</td>\n",
              "      <td>5419</td>\n",
              "      <td>Yield</td>\n",
              "      <td>hg/ha</td>\n",
              "      <td>NaN</td>\n",
              "      <td>NaN</td>\n",
              "      <td>NaN</td>\n",
              "      <td>...</td>\n",
              "      <td>18805.0</td>\n",
              "      <td>Fc</td>\n",
              "      <td>18061.0</td>\n",
              "      <td>Fc</td>\n",
              "      <td>17863.0</td>\n",
              "      <td>Fc</td>\n",
              "      <td>17513.0</td>\n",
              "      <td>Fc</td>\n",
              "      <td>17516.0</td>\n",
              "      <td>Fc</td>\n",
              "    </tr>\n",
              "    <tr>\n",
              "      <th>9634</th>\n",
              "      <td>249</td>\n",
              "      <td>Yemen</td>\n",
              "      <td>1729</td>\n",
              "      <td>Treenuts, Total</td>\n",
              "      <td>5510</td>\n",
              "      <td>Production</td>\n",
              "      <td>tonnes</td>\n",
              "      <td>NaN</td>\n",
              "      <td>NaN</td>\n",
              "      <td>NaN</td>\n",
              "      <td>...</td>\n",
              "      <td>11014.0</td>\n",
              "      <td>A</td>\n",
              "      <td>10591.0</td>\n",
              "      <td>A</td>\n",
              "      <td>10484.0</td>\n",
              "      <td>A</td>\n",
              "      <td>10483.0</td>\n",
              "      <td>A</td>\n",
              "      <td>11340.0</td>\n",
              "      <td>A</td>\n",
              "    </tr>\n",
              "    <tr>\n",
              "      <th>9635</th>\n",
              "      <td>249</td>\n",
              "      <td>Yemen</td>\n",
              "      <td>1735</td>\n",
              "      <td>Vegetables Primary</td>\n",
              "      <td>5312</td>\n",
              "      <td>Area harvested</td>\n",
              "      <td>ha</td>\n",
              "      <td>7000.0</td>\n",
              "      <td>A</td>\n",
              "      <td>7100.0</td>\n",
              "      <td>...</td>\n",
              "      <td>42489.0</td>\n",
              "      <td>A</td>\n",
              "      <td>39887.0</td>\n",
              "      <td>A</td>\n",
              "      <td>38612.0</td>\n",
              "      <td>A</td>\n",
              "      <td>40647.0</td>\n",
              "      <td>A</td>\n",
              "      <td>41528.0</td>\n",
              "      <td>A</td>\n",
              "    </tr>\n",
              "    <tr>\n",
              "      <th>9636</th>\n",
              "      <td>249</td>\n",
              "      <td>Yemen</td>\n",
              "      <td>1735</td>\n",
              "      <td>Vegetables Primary</td>\n",
              "      <td>5419</td>\n",
              "      <td>Yield</td>\n",
              "      <td>hg/ha</td>\n",
              "      <td>107143.0</td>\n",
              "      <td>Fc</td>\n",
              "      <td>107042.0</td>\n",
              "      <td>...</td>\n",
              "      <td>113518.0</td>\n",
              "      <td>Fc</td>\n",
              "      <td>106887.0</td>\n",
              "      <td>Fc</td>\n",
              "      <td>107777.0</td>\n",
              "      <td>Fc</td>\n",
              "      <td>112627.0</td>\n",
              "      <td>Fc</td>\n",
              "      <td>115155.0</td>\n",
              "      <td>Fc</td>\n",
              "    </tr>\n",
              "    <tr>\n",
              "      <th>9637</th>\n",
              "      <td>249</td>\n",
              "      <td>Yemen</td>\n",
              "      <td>1735</td>\n",
              "      <td>Vegetables Primary</td>\n",
              "      <td>5510</td>\n",
              "      <td>Production</td>\n",
              "      <td>tonnes</td>\n",
              "      <td>75000.0</td>\n",
              "      <td>A</td>\n",
              "      <td>76000.0</td>\n",
              "      <td>...</td>\n",
              "      <td>482325.0</td>\n",
              "      <td>A</td>\n",
              "      <td>426339.0</td>\n",
              "      <td>A</td>\n",
              "      <td>416147.0</td>\n",
              "      <td>A</td>\n",
              "      <td>457796.0</td>\n",
              "      <td>A</td>\n",
              "      <td>478214.0</td>\n",
              "      <td>A</td>\n",
              "    </tr>\n",
              "  </tbody>\n",
              "</table>\n",
              "<p>9638 rows × 125 columns</p>\n",
              "</div>\n",
              "      <button class=\"colab-df-convert\" onclick=\"convertToInteractive('df-34148341-6c8d-4b2c-a7e8-6a4954b634df')\"\n",
              "              title=\"Convert this dataframe to an interactive table.\"\n",
              "              style=\"display:none;\">\n",
              "        \n",
              "  <svg xmlns=\"http://www.w3.org/2000/svg\" height=\"24px\"viewBox=\"0 0 24 24\"\n",
              "       width=\"24px\">\n",
              "    <path d=\"M0 0h24v24H0V0z\" fill=\"none\"/>\n",
              "    <path d=\"M18.56 5.44l.94 2.06.94-2.06 2.06-.94-2.06-.94-.94-2.06-.94 2.06-2.06.94zm-11 1L8.5 8.5l.94-2.06 2.06-.94-2.06-.94L8.5 2.5l-.94 2.06-2.06.94zm10 10l.94 2.06.94-2.06 2.06-.94-2.06-.94-.94-2.06-.94 2.06-2.06.94z\"/><path d=\"M17.41 7.96l-1.37-1.37c-.4-.4-.92-.59-1.43-.59-.52 0-1.04.2-1.43.59L10.3 9.45l-7.72 7.72c-.78.78-.78 2.05 0 2.83L4 21.41c.39.39.9.59 1.41.59.51 0 1.02-.2 1.41-.59l7.78-7.78 2.81-2.81c.8-.78.8-2.07 0-2.86zM5.41 20L4 18.59l7.72-7.72 1.47 1.35L5.41 20z\"/>\n",
              "  </svg>\n",
              "      </button>\n",
              "      \n",
              "  <style>\n",
              "    .colab-df-container {\n",
              "      display:flex;\n",
              "      flex-wrap:wrap;\n",
              "      gap: 12px;\n",
              "    }\n",
              "\n",
              "    .colab-df-convert {\n",
              "      background-color: #E8F0FE;\n",
              "      border: none;\n",
              "      border-radius: 50%;\n",
              "      cursor: pointer;\n",
              "      display: none;\n",
              "      fill: #1967D2;\n",
              "      height: 32px;\n",
              "      padding: 0 0 0 0;\n",
              "      width: 32px;\n",
              "    }\n",
              "\n",
              "    .colab-df-convert:hover {\n",
              "      background-color: #E2EBFA;\n",
              "      box-shadow: 0px 1px 2px rgba(60, 64, 67, 0.3), 0px 1px 3px 1px rgba(60, 64, 67, 0.15);\n",
              "      fill: #174EA6;\n",
              "    }\n",
              "\n",
              "    [theme=dark] .colab-df-convert {\n",
              "      background-color: #3B4455;\n",
              "      fill: #D2E3FC;\n",
              "    }\n",
              "\n",
              "    [theme=dark] .colab-df-convert:hover {\n",
              "      background-color: #434B5C;\n",
              "      box-shadow: 0px 1px 3px 1px rgba(0, 0, 0, 0.15);\n",
              "      filter: drop-shadow(0px 1px 2px rgba(0, 0, 0, 0.3));\n",
              "      fill: #FFFFFF;\n",
              "    }\n",
              "  </style>\n",
              "\n",
              "      <script>\n",
              "        const buttonEl =\n",
              "          document.querySelector('#df-34148341-6c8d-4b2c-a7e8-6a4954b634df button.colab-df-convert');\n",
              "        buttonEl.style.display =\n",
              "          google.colab.kernel.accessAllowed ? 'block' : 'none';\n",
              "\n",
              "        async function convertToInteractive(key) {\n",
              "          const element = document.querySelector('#df-34148341-6c8d-4b2c-a7e8-6a4954b634df');\n",
              "          const dataTable =\n",
              "            await google.colab.kernel.invokeFunction('convertToInteractive',\n",
              "                                                     [key], {});\n",
              "          if (!dataTable) return;\n",
              "\n",
              "          const docLinkHtml = 'Like what you see? Visit the ' +\n",
              "            '<a target=\"_blank\" href=https://colab.research.google.com/notebooks/data_table.ipynb>data table notebook</a>'\n",
              "            + ' to learn more about interactive tables.';\n",
              "          element.innerHTML = '';\n",
              "          dataTable['output_type'] = 'display_data';\n",
              "          await google.colab.output.renderOutput(dataTable, element);\n",
              "          const docLink = document.createElement('div');\n",
              "          docLink.innerHTML = docLinkHtml;\n",
              "          element.appendChild(docLink);\n",
              "        }\n",
              "      </script>\n",
              "    </div>\n",
              "  </div>\n",
              "  "
            ]
          },
          "metadata": {},
          "execution_count": 128
        }
      ],
      "source": [
        "prod"
      ]
    },
    {
      "cell_type": "markdown",
      "metadata": {
        "id": "GfUZWGWAmjjs"
      },
      "source": [
        "How many unique countries are in the dataset? What are the names of the countries? Print a list of the unique countries from the 'Area' column as well as the number of unique countries."
      ]
    },
    {
      "cell_type": "code",
      "execution_count": null,
      "metadata": {
        "id": "k4UftRSrmjjs",
        "colab": {
          "base_uri": "https://localhost:8080/"
        },
        "outputId": "b92c049a-6e02-4b57-a346-09785937f9d0"
      },
      "outputs": [
        {
          "output_type": "stream",
          "name": "stdout",
          "text": [
            "['Afghanistan' 'Armenia' 'Azerbaijan' 'Bahrain' 'Bangladesh' 'Bhutan'\n",
            " 'Brunei Darussalam' 'Cambodia' 'China, Hong Kong SAR' 'China, Macao SAR'\n",
            " 'China, mainland' 'China, Taiwan Province of' 'Cyprus'\n",
            " \"Democratic People's Republic of Korea\" 'Georgia' 'India' 'Indonesia'\n",
            " 'Iran (Islamic Republic of)' 'Iraq' 'Israel' 'Japan' 'Jordan'\n",
            " 'Kazakhstan' 'Kuwait' 'Kyrgyzstan' \"Lao People's Democratic Republic\"\n",
            " 'Lebanon' 'Malaysia' 'Maldives' 'Mongolia' 'Myanmar' 'Nepal' 'Oman'\n",
            " 'Pakistan' 'Palestine' 'Philippines' 'Qatar' 'Republic of Korea'\n",
            " 'Saudi Arabia' 'Singapore' 'Sri Lanka' 'Syrian Arab Republic'\n",
            " 'Tajikistan' 'Thailand' 'Timor-Leste' 'Turkey' 'Turkmenistan'\n",
            " 'United Arab Emirates' 'Uzbekistan' 'Viet Nam' 'Yemen']\n",
            "Number of unique countries: 51\n"
          ]
        }
      ],
      "source": [
        "print(prod['Area'].unique())\n",
        "print('Number of unique countries: {}'.format(len(prod['Area'].unique())))"
      ]
    },
    {
      "cell_type": "markdown",
      "metadata": {
        "id": "FsL4xE_Cmjjs"
      },
      "source": [
        "What are the most common crops included in the dataset across all countries? Use value_counts() to print the number of occurrences of each crop category (column 'Item') in the dataframe."
      ]
    },
    {
      "cell_type": "code",
      "execution_count": null,
      "metadata": {
        "id": "aVE_heebmjjs",
        "colab": {
          "base_uri": "https://localhost:8080/"
        },
        "outputId": "8b794663-0fee-4b53-aa56-837d83a57cf8"
      },
      "outputs": [
        {
          "output_type": "stream",
          "name": "stdout",
          "text": [
            "Roots and Tubers, Total    152\n",
            "Vegetables, fresh nes      152\n",
            "Vegetables Primary         152\n",
            "Fruit Primary              150\n",
            "Cereals, Total             144\n",
            "                          ... \n",
            "Tallowtree seed              3\n",
            "Gooseberries                 3\n",
            "Agave fibres nes             3\n",
            "Karite nuts (sheanuts)       2\n",
            "Cassava leaves               2\n",
            "Name: Item, Length: 165, dtype: int64\n"
          ]
        }
      ],
      "source": [
        "# YOUR CODE HERE\n",
        "print(prod['Item'].value_counts())"
      ]
    },
    {
      "cell_type": "markdown",
      "metadata": {
        "id": "tAi6yOcFmjjs"
      },
      "source": [
        "Print a list of the countries in the dataframe sorted by the number of rows in which it appears."
      ]
    },
    {
      "cell_type": "code",
      "execution_count": null,
      "metadata": {
        "id": "loQN4arYmjjs",
        "colab": {
          "base_uri": "https://localhost:8080/"
        },
        "outputId": "734b3f3f-3797-4a72-c856-d0e478963f09"
      },
      "outputs": [
        {
          "output_type": "execute_result",
          "data": {
            "text/plain": [
              "[('China, Macao SAR', 23),\n",
              " ('China, Hong Kong SAR', 59),\n",
              " ('Mongolia', 74),\n",
              " ('Singapore', 76),\n",
              " ('Bahrain', 89),\n",
              " ('Maldives', 93),\n",
              " ('Qatar', 101),\n",
              " ('Oman', 102),\n",
              " ('Brunei Darussalam', 105),\n",
              " ('Saudi Arabia', 112),\n",
              " ('United Arab Emirates', 112),\n",
              " ('Kuwait', 119),\n",
              " ('Timor-Leste', 119),\n",
              " ('Turkmenistan', 119),\n",
              " ('Cambodia', 128),\n",
              " (\"Democratic People's Republic of Korea\", 138),\n",
              " (\"Lao People's Democratic Republic\", 138),\n",
              " ('Afghanistan', 145),\n",
              " ('Armenia', 164),\n",
              " ('Viet Nam', 165),\n",
              " ('Myanmar', 168),\n",
              " ('Tajikistan', 172),\n",
              " ('Malaysia', 174),\n",
              " ('Bhutan', 178),\n",
              " ('Sri Lanka', 180),\n",
              " ('Georgia', 190),\n",
              " ('Nepal', 199),\n",
              " ('Yemen', 208),\n",
              " ('Iraq', 220),\n",
              " ('Indonesia', 221),\n",
              " ('Bangladesh', 223),\n",
              " ('Jordan', 224),\n",
              " ('Lebanon', 228),\n",
              " ('Azerbaijan', 230),\n",
              " ('Kazakhstan', 230),\n",
              " ('Republic of Korea', 230),\n",
              " ('Palestine', 243),\n",
              " ('Kyrgyzstan', 251),\n",
              " ('Philippines', 254),\n",
              " ('Syrian Arab Republic', 254),\n",
              " ('Thailand', 257),\n",
              " ('Israel', 259),\n",
              " ('Pakistan', 263),\n",
              " ('Uzbekistan', 264),\n",
              " ('China, Taiwan Province of', 267),\n",
              " ('Cyprus', 273),\n",
              " ('India', 284),\n",
              " ('Japan', 288),\n",
              " ('Iran (Islamic Republic of)', 302),\n",
              " ('Turkey', 325),\n",
              " ('China, mainland', 398)]"
            ]
          },
          "metadata": {},
          "execution_count": 131
        }
      ],
      "source": [
        "sorted([(country, df.shape[0]) for country, df in prod.groupby('Area')], key=lambda x: x[1])"
      ]
    },
    {
      "cell_type": "markdown",
      "metadata": {
        "id": "3lpjFBSdmjjs"
      },
      "source": [
        "What are the trends in crop production for cereal crops (includes maize, wheat, etc.) from 1961 to 2019? Plot a line plot of crop production for the following countries: India, Japan, Iran, Turkey, and China (mainland). Only plot the values in the columns with format 'YXXXX'."
      ]
    },
    {
      "cell_type": "markdown",
      "metadata": {
        "id": "uz6lQZrcmjjs"
      },
      "source": [
        "Step 1: filter the dataframe to only include rows for the specified countries."
      ]
    },
    {
      "cell_type": "code",
      "execution_count": null,
      "metadata": {
        "id": "aaSmVEKMmjjs"
      },
      "outputs": [],
      "source": [
        "sel_prod = prod[prod['Area'].isin(['India', 'Japan', 'Iran (Islamic Republic of)', 'Turkey', 'China, mainland'])]"
      ]
    },
    {
      "cell_type": "markdown",
      "metadata": {
        "id": "f19jYafTmjjt"
      },
      "source": [
        "Step 2: filter the columns to only include Area, Item, Element, and those matching the pattern 'YXXXX'."
      ]
    },
    {
      "cell_type": "code",
      "execution_count": null,
      "metadata": {
        "id": "8oJaY__Imjjt"
      },
      "outputs": [],
      "source": [
        "year_cols = [col for col in sel_prod.columns if (col.startswith('Y') and len(col) == 5)]"
      ]
    },
    {
      "cell_type": "code",
      "execution_count": null,
      "metadata": {
        "id": "64p0gN5Smjjt"
      },
      "outputs": [],
      "source": [
        "sel_prod = sel_prod[['Area', 'Item', 'Element'] + year_cols]"
      ]
    },
    {
      "cell_type": "code",
      "execution_count": null,
      "metadata": {
        "id": "JF9riqCWmjju",
        "colab": {
          "base_uri": "https://localhost:8080/",
          "height": 731
        },
        "outputId": "f7940b00-f366-4f71-ef60-bfa377430290"
      },
      "outputs": [
        {
          "output_type": "execute_result",
          "data": {
            "text/plain": [
              "                 Area                              Item         Element  \\\n",
              "1344  China, mainland               Almonds, with shell  Area harvested   \n",
              "1345  China, mainland               Almonds, with shell           Yield   \n",
              "1346  China, mainland               Almonds, with shell      Production   \n",
              "1347  China, mainland  Anise, badian, fennel, coriander  Area harvested   \n",
              "1348  China, mainland  Anise, badian, fennel, coriander           Yield   \n",
              "...               ...                               ...             ...   \n",
              "8765           Turkey                   Treenuts, Total           Yield   \n",
              "8766           Turkey                   Treenuts, Total      Production   \n",
              "8767           Turkey                Vegetables Primary  Area harvested   \n",
              "8768           Turkey                Vegetables Primary           Yield   \n",
              "8769           Turkey                Vegetables Primary      Production   \n",
              "\n",
              "          Y1961      Y1962      Y1963      Y1964      Y1965      Y1966  \\\n",
              "1344        NaN        NaN        NaN        NaN        NaN        NaN   \n",
              "1345        NaN        NaN        NaN        NaN        NaN        NaN   \n",
              "1346     5000.0     5500.0     5800.0     6500.0     7500.0     8000.0   \n",
              "1347        NaN        NaN        NaN        NaN        NaN        NaN   \n",
              "1348        NaN        NaN        NaN        NaN        NaN        NaN   \n",
              "...         ...        ...        ...        ...        ...        ...   \n",
              "8765     6935.0     8080.0     6837.0     9836.0     5754.0     9213.0   \n",
              "8766   227780.0   272310.0   232590.0   344415.0   204670.0   331900.0   \n",
              "8767   318710.0   316735.0   329450.0   343860.0   341070.0   354635.0   \n",
              "8768   118770.0   122731.0   124784.0   123632.0   126244.0   118046.0   \n",
              "8769  3785315.0  3887315.0  4111015.0  4251215.0  4305815.0  4186315.0   \n",
              "\n",
              "          Y1967  ...       Y2010       Y2011       Y2012       Y2013  \\\n",
              "1344        NaN  ...     13000.0     14000.0     14500.0     14500.0   \n",
              "1345        NaN  ...     29231.0     30000.0     29655.0     29655.0   \n",
              "1346     7800.0  ...     38000.0     42000.0     43000.0     43000.0   \n",
              "1347        NaN  ...     37000.0     37522.0     37000.0     37500.0   \n",
              "1348        NaN  ...     11892.0     12153.0     12703.0     12587.0   \n",
              "...         ...  ...         ...         ...         ...         ...   \n",
              "8765     6391.0  ...     16450.0     13676.0     18066.0     16407.0   \n",
              "8766   233800.0  ...   1023186.0    857854.0   1153854.0    995221.0   \n",
              "8767   353450.0  ...    656866.0    668519.0    688339.0    674210.0   \n",
              "8768   124751.0  ...    314461.0    328767.0    320240.0    338086.0   \n",
              "8769  4409315.0  ...  20655850.0  21978709.0  22043387.0  22794099.0   \n",
              "\n",
              "           Y2014       Y2015       Y2016       Y2017       Y2018       Y2019  \n",
              "1344     13994.0     13493.0     13159.0     12797.0     12513.0     12811.0  \n",
              "1345     30660.0     31928.0     32838.0     33602.0     34364.0     35126.0  \n",
              "1346     42905.0     43080.0     43212.0     43000.0     43000.0     45000.0  \n",
              "1347     38630.0     40304.0     40862.0     41629.0     42375.0     43101.0  \n",
              "1348     12756.0     13026.0     13220.0     13408.0     13597.0     13785.0  \n",
              "...          ...         ...         ...         ...         ...         ...  \n",
              "8765     13789.0     17743.0     10118.0     11865.0      8898.0     10197.0  \n",
              "8766    850484.0   1126505.0    937521.0   1118704.0   1136407.0   1311555.0  \n",
              "8767    666577.0    688476.0    718405.0    742198.0    727822.0    747417.0  \n",
              "8768    340307.0    344183.0    339939.0    335806.0    331537.0    339021.0  \n",
              "8769  22684068.0  23696207.0  24421408.0  24923427.0  24130023.0  25338974.0  \n",
              "\n",
              "[1597 rows x 62 columns]"
            ],
            "text/html": [
              "\n",
              "  <div id=\"df-b2bbac3a-e3e6-427b-9acd-fdec7d51f1b2\">\n",
              "    <div class=\"colab-df-container\">\n",
              "      <div>\n",
              "<style scoped>\n",
              "    .dataframe tbody tr th:only-of-type {\n",
              "        vertical-align: middle;\n",
              "    }\n",
              "\n",
              "    .dataframe tbody tr th {\n",
              "        vertical-align: top;\n",
              "    }\n",
              "\n",
              "    .dataframe thead th {\n",
              "        text-align: right;\n",
              "    }\n",
              "</style>\n",
              "<table border=\"1\" class=\"dataframe\">\n",
              "  <thead>\n",
              "    <tr style=\"text-align: right;\">\n",
              "      <th></th>\n",
              "      <th>Area</th>\n",
              "      <th>Item</th>\n",
              "      <th>Element</th>\n",
              "      <th>Y1961</th>\n",
              "      <th>Y1962</th>\n",
              "      <th>Y1963</th>\n",
              "      <th>Y1964</th>\n",
              "      <th>Y1965</th>\n",
              "      <th>Y1966</th>\n",
              "      <th>Y1967</th>\n",
              "      <th>...</th>\n",
              "      <th>Y2010</th>\n",
              "      <th>Y2011</th>\n",
              "      <th>Y2012</th>\n",
              "      <th>Y2013</th>\n",
              "      <th>Y2014</th>\n",
              "      <th>Y2015</th>\n",
              "      <th>Y2016</th>\n",
              "      <th>Y2017</th>\n",
              "      <th>Y2018</th>\n",
              "      <th>Y2019</th>\n",
              "    </tr>\n",
              "  </thead>\n",
              "  <tbody>\n",
              "    <tr>\n",
              "      <th>1344</th>\n",
              "      <td>China, mainland</td>\n",
              "      <td>Almonds, with shell</td>\n",
              "      <td>Area harvested</td>\n",
              "      <td>NaN</td>\n",
              "      <td>NaN</td>\n",
              "      <td>NaN</td>\n",
              "      <td>NaN</td>\n",
              "      <td>NaN</td>\n",
              "      <td>NaN</td>\n",
              "      <td>NaN</td>\n",
              "      <td>...</td>\n",
              "      <td>13000.0</td>\n",
              "      <td>14000.0</td>\n",
              "      <td>14500.0</td>\n",
              "      <td>14500.0</td>\n",
              "      <td>13994.0</td>\n",
              "      <td>13493.0</td>\n",
              "      <td>13159.0</td>\n",
              "      <td>12797.0</td>\n",
              "      <td>12513.0</td>\n",
              "      <td>12811.0</td>\n",
              "    </tr>\n",
              "    <tr>\n",
              "      <th>1345</th>\n",
              "      <td>China, mainland</td>\n",
              "      <td>Almonds, with shell</td>\n",
              "      <td>Yield</td>\n",
              "      <td>NaN</td>\n",
              "      <td>NaN</td>\n",
              "      <td>NaN</td>\n",
              "      <td>NaN</td>\n",
              "      <td>NaN</td>\n",
              "      <td>NaN</td>\n",
              "      <td>NaN</td>\n",
              "      <td>...</td>\n",
              "      <td>29231.0</td>\n",
              "      <td>30000.0</td>\n",
              "      <td>29655.0</td>\n",
              "      <td>29655.0</td>\n",
              "      <td>30660.0</td>\n",
              "      <td>31928.0</td>\n",
              "      <td>32838.0</td>\n",
              "      <td>33602.0</td>\n",
              "      <td>34364.0</td>\n",
              "      <td>35126.0</td>\n",
              "    </tr>\n",
              "    <tr>\n",
              "      <th>1346</th>\n",
              "      <td>China, mainland</td>\n",
              "      <td>Almonds, with shell</td>\n",
              "      <td>Production</td>\n",
              "      <td>5000.0</td>\n",
              "      <td>5500.0</td>\n",
              "      <td>5800.0</td>\n",
              "      <td>6500.0</td>\n",
              "      <td>7500.0</td>\n",
              "      <td>8000.0</td>\n",
              "      <td>7800.0</td>\n",
              "      <td>...</td>\n",
              "      <td>38000.0</td>\n",
              "      <td>42000.0</td>\n",
              "      <td>43000.0</td>\n",
              "      <td>43000.0</td>\n",
              "      <td>42905.0</td>\n",
              "      <td>43080.0</td>\n",
              "      <td>43212.0</td>\n",
              "      <td>43000.0</td>\n",
              "      <td>43000.0</td>\n",
              "      <td>45000.0</td>\n",
              "    </tr>\n",
              "    <tr>\n",
              "      <th>1347</th>\n",
              "      <td>China, mainland</td>\n",
              "      <td>Anise, badian, fennel, coriander</td>\n",
              "      <td>Area harvested</td>\n",
              "      <td>NaN</td>\n",
              "      <td>NaN</td>\n",
              "      <td>NaN</td>\n",
              "      <td>NaN</td>\n",
              "      <td>NaN</td>\n",
              "      <td>NaN</td>\n",
              "      <td>NaN</td>\n",
              "      <td>...</td>\n",
              "      <td>37000.0</td>\n",
              "      <td>37522.0</td>\n",
              "      <td>37000.0</td>\n",
              "      <td>37500.0</td>\n",
              "      <td>38630.0</td>\n",
              "      <td>40304.0</td>\n",
              "      <td>40862.0</td>\n",
              "      <td>41629.0</td>\n",
              "      <td>42375.0</td>\n",
              "      <td>43101.0</td>\n",
              "    </tr>\n",
              "    <tr>\n",
              "      <th>1348</th>\n",
              "      <td>China, mainland</td>\n",
              "      <td>Anise, badian, fennel, coriander</td>\n",
              "      <td>Yield</td>\n",
              "      <td>NaN</td>\n",
              "      <td>NaN</td>\n",
              "      <td>NaN</td>\n",
              "      <td>NaN</td>\n",
              "      <td>NaN</td>\n",
              "      <td>NaN</td>\n",
              "      <td>NaN</td>\n",
              "      <td>...</td>\n",
              "      <td>11892.0</td>\n",
              "      <td>12153.0</td>\n",
              "      <td>12703.0</td>\n",
              "      <td>12587.0</td>\n",
              "      <td>12756.0</td>\n",
              "      <td>13026.0</td>\n",
              "      <td>13220.0</td>\n",
              "      <td>13408.0</td>\n",
              "      <td>13597.0</td>\n",
              "      <td>13785.0</td>\n",
              "    </tr>\n",
              "    <tr>\n",
              "      <th>...</th>\n",
              "      <td>...</td>\n",
              "      <td>...</td>\n",
              "      <td>...</td>\n",
              "      <td>...</td>\n",
              "      <td>...</td>\n",
              "      <td>...</td>\n",
              "      <td>...</td>\n",
              "      <td>...</td>\n",
              "      <td>...</td>\n",
              "      <td>...</td>\n",
              "      <td>...</td>\n",
              "      <td>...</td>\n",
              "      <td>...</td>\n",
              "      <td>...</td>\n",
              "      <td>...</td>\n",
              "      <td>...</td>\n",
              "      <td>...</td>\n",
              "      <td>...</td>\n",
              "      <td>...</td>\n",
              "      <td>...</td>\n",
              "      <td>...</td>\n",
              "    </tr>\n",
              "    <tr>\n",
              "      <th>8765</th>\n",
              "      <td>Turkey</td>\n",
              "      <td>Treenuts, Total</td>\n",
              "      <td>Yield</td>\n",
              "      <td>6935.0</td>\n",
              "      <td>8080.0</td>\n",
              "      <td>6837.0</td>\n",
              "      <td>9836.0</td>\n",
              "      <td>5754.0</td>\n",
              "      <td>9213.0</td>\n",
              "      <td>6391.0</td>\n",
              "      <td>...</td>\n",
              "      <td>16450.0</td>\n",
              "      <td>13676.0</td>\n",
              "      <td>18066.0</td>\n",
              "      <td>16407.0</td>\n",
              "      <td>13789.0</td>\n",
              "      <td>17743.0</td>\n",
              "      <td>10118.0</td>\n",
              "      <td>11865.0</td>\n",
              "      <td>8898.0</td>\n",
              "      <td>10197.0</td>\n",
              "    </tr>\n",
              "    <tr>\n",
              "      <th>8766</th>\n",
              "      <td>Turkey</td>\n",
              "      <td>Treenuts, Total</td>\n",
              "      <td>Production</td>\n",
              "      <td>227780.0</td>\n",
              "      <td>272310.0</td>\n",
              "      <td>232590.0</td>\n",
              "      <td>344415.0</td>\n",
              "      <td>204670.0</td>\n",
              "      <td>331900.0</td>\n",
              "      <td>233800.0</td>\n",
              "      <td>...</td>\n",
              "      <td>1023186.0</td>\n",
              "      <td>857854.0</td>\n",
              "      <td>1153854.0</td>\n",
              "      <td>995221.0</td>\n",
              "      <td>850484.0</td>\n",
              "      <td>1126505.0</td>\n",
              "      <td>937521.0</td>\n",
              "      <td>1118704.0</td>\n",
              "      <td>1136407.0</td>\n",
              "      <td>1311555.0</td>\n",
              "    </tr>\n",
              "    <tr>\n",
              "      <th>8767</th>\n",
              "      <td>Turkey</td>\n",
              "      <td>Vegetables Primary</td>\n",
              "      <td>Area harvested</td>\n",
              "      <td>318710.0</td>\n",
              "      <td>316735.0</td>\n",
              "      <td>329450.0</td>\n",
              "      <td>343860.0</td>\n",
              "      <td>341070.0</td>\n",
              "      <td>354635.0</td>\n",
              "      <td>353450.0</td>\n",
              "      <td>...</td>\n",
              "      <td>656866.0</td>\n",
              "      <td>668519.0</td>\n",
              "      <td>688339.0</td>\n",
              "      <td>674210.0</td>\n",
              "      <td>666577.0</td>\n",
              "      <td>688476.0</td>\n",
              "      <td>718405.0</td>\n",
              "      <td>742198.0</td>\n",
              "      <td>727822.0</td>\n",
              "      <td>747417.0</td>\n",
              "    </tr>\n",
              "    <tr>\n",
              "      <th>8768</th>\n",
              "      <td>Turkey</td>\n",
              "      <td>Vegetables Primary</td>\n",
              "      <td>Yield</td>\n",
              "      <td>118770.0</td>\n",
              "      <td>122731.0</td>\n",
              "      <td>124784.0</td>\n",
              "      <td>123632.0</td>\n",
              "      <td>126244.0</td>\n",
              "      <td>118046.0</td>\n",
              "      <td>124751.0</td>\n",
              "      <td>...</td>\n",
              "      <td>314461.0</td>\n",
              "      <td>328767.0</td>\n",
              "      <td>320240.0</td>\n",
              "      <td>338086.0</td>\n",
              "      <td>340307.0</td>\n",
              "      <td>344183.0</td>\n",
              "      <td>339939.0</td>\n",
              "      <td>335806.0</td>\n",
              "      <td>331537.0</td>\n",
              "      <td>339021.0</td>\n",
              "    </tr>\n",
              "    <tr>\n",
              "      <th>8769</th>\n",
              "      <td>Turkey</td>\n",
              "      <td>Vegetables Primary</td>\n",
              "      <td>Production</td>\n",
              "      <td>3785315.0</td>\n",
              "      <td>3887315.0</td>\n",
              "      <td>4111015.0</td>\n",
              "      <td>4251215.0</td>\n",
              "      <td>4305815.0</td>\n",
              "      <td>4186315.0</td>\n",
              "      <td>4409315.0</td>\n",
              "      <td>...</td>\n",
              "      <td>20655850.0</td>\n",
              "      <td>21978709.0</td>\n",
              "      <td>22043387.0</td>\n",
              "      <td>22794099.0</td>\n",
              "      <td>22684068.0</td>\n",
              "      <td>23696207.0</td>\n",
              "      <td>24421408.0</td>\n",
              "      <td>24923427.0</td>\n",
              "      <td>24130023.0</td>\n",
              "      <td>25338974.0</td>\n",
              "    </tr>\n",
              "  </tbody>\n",
              "</table>\n",
              "<p>1597 rows × 62 columns</p>\n",
              "</div>\n",
              "      <button class=\"colab-df-convert\" onclick=\"convertToInteractive('df-b2bbac3a-e3e6-427b-9acd-fdec7d51f1b2')\"\n",
              "              title=\"Convert this dataframe to an interactive table.\"\n",
              "              style=\"display:none;\">\n",
              "        \n",
              "  <svg xmlns=\"http://www.w3.org/2000/svg\" height=\"24px\"viewBox=\"0 0 24 24\"\n",
              "       width=\"24px\">\n",
              "    <path d=\"M0 0h24v24H0V0z\" fill=\"none\"/>\n",
              "    <path d=\"M18.56 5.44l.94 2.06.94-2.06 2.06-.94-2.06-.94-.94-2.06-.94 2.06-2.06.94zm-11 1L8.5 8.5l.94-2.06 2.06-.94-2.06-.94L8.5 2.5l-.94 2.06-2.06.94zm10 10l.94 2.06.94-2.06 2.06-.94-2.06-.94-.94-2.06-.94 2.06-2.06.94z\"/><path d=\"M17.41 7.96l-1.37-1.37c-.4-.4-.92-.59-1.43-.59-.52 0-1.04.2-1.43.59L10.3 9.45l-7.72 7.72c-.78.78-.78 2.05 0 2.83L4 21.41c.39.39.9.59 1.41.59.51 0 1.02-.2 1.41-.59l7.78-7.78 2.81-2.81c.8-.78.8-2.07 0-2.86zM5.41 20L4 18.59l7.72-7.72 1.47 1.35L5.41 20z\"/>\n",
              "  </svg>\n",
              "      </button>\n",
              "      \n",
              "  <style>\n",
              "    .colab-df-container {\n",
              "      display:flex;\n",
              "      flex-wrap:wrap;\n",
              "      gap: 12px;\n",
              "    }\n",
              "\n",
              "    .colab-df-convert {\n",
              "      background-color: #E8F0FE;\n",
              "      border: none;\n",
              "      border-radius: 50%;\n",
              "      cursor: pointer;\n",
              "      display: none;\n",
              "      fill: #1967D2;\n",
              "      height: 32px;\n",
              "      padding: 0 0 0 0;\n",
              "      width: 32px;\n",
              "    }\n",
              "\n",
              "    .colab-df-convert:hover {\n",
              "      background-color: #E2EBFA;\n",
              "      box-shadow: 0px 1px 2px rgba(60, 64, 67, 0.3), 0px 1px 3px 1px rgba(60, 64, 67, 0.15);\n",
              "      fill: #174EA6;\n",
              "    }\n",
              "\n",
              "    [theme=dark] .colab-df-convert {\n",
              "      background-color: #3B4455;\n",
              "      fill: #D2E3FC;\n",
              "    }\n",
              "\n",
              "    [theme=dark] .colab-df-convert:hover {\n",
              "      background-color: #434B5C;\n",
              "      box-shadow: 0px 1px 3px 1px rgba(0, 0, 0, 0.15);\n",
              "      filter: drop-shadow(0px 1px 2px rgba(0, 0, 0, 0.3));\n",
              "      fill: #FFFFFF;\n",
              "    }\n",
              "  </style>\n",
              "\n",
              "      <script>\n",
              "        const buttonEl =\n",
              "          document.querySelector('#df-b2bbac3a-e3e6-427b-9acd-fdec7d51f1b2 button.colab-df-convert');\n",
              "        buttonEl.style.display =\n",
              "          google.colab.kernel.accessAllowed ? 'block' : 'none';\n",
              "\n",
              "        async function convertToInteractive(key) {\n",
              "          const element = document.querySelector('#df-b2bbac3a-e3e6-427b-9acd-fdec7d51f1b2');\n",
              "          const dataTable =\n",
              "            await google.colab.kernel.invokeFunction('convertToInteractive',\n",
              "                                                     [key], {});\n",
              "          if (!dataTable) return;\n",
              "\n",
              "          const docLinkHtml = 'Like what you see? Visit the ' +\n",
              "            '<a target=\"_blank\" href=https://colab.research.google.com/notebooks/data_table.ipynb>data table notebook</a>'\n",
              "            + ' to learn more about interactive tables.';\n",
              "          element.innerHTML = '';\n",
              "          dataTable['output_type'] = 'display_data';\n",
              "          await google.colab.output.renderOutput(dataTable, element);\n",
              "          const docLink = document.createElement('div');\n",
              "          docLink.innerHTML = docLinkHtml;\n",
              "          element.appendChild(docLink);\n",
              "        }\n",
              "      </script>\n",
              "    </div>\n",
              "  </div>\n",
              "  "
            ]
          },
          "metadata": {},
          "execution_count": 135
        }
      ],
      "source": [
        "sel_prod"
      ]
    },
    {
      "cell_type": "markdown",
      "metadata": {
        "id": "dSlzFUrgmjju"
      },
      "source": [
        "Step 3: filter that dataframe to include only the rows for which Element has the value 'Production' and Item contains 'Cereals, Total'."
      ]
    },
    {
      "cell_type": "code",
      "execution_count": null,
      "metadata": {
        "id": "7V4FNxUZmjju"
      },
      "outputs": [],
      "source": [
        "sel_prod = sel_prod[(sel_prod['Element'] == 'Production') & (sel_prod['Item'] == 'Cereals, Total')]"
      ]
    },
    {
      "cell_type": "markdown",
      "metadata": {
        "id": "hyBnBgaNmjju"
      },
      "source": [
        "Step 4: Plot the line plot of production values from 1961 to 2019 for each of the 5 countries (each country should be a separate line). Only the 'YXXXX' columns should be used for the line plot values.\n",
        "\n",
        "Note: pandas by default plots by column, so to plot each of the countries as its own line, we need to transpose the dataframe so that each column contains the values for one country."
      ]
    },
    {
      "cell_type": "code",
      "execution_count": null,
      "metadata": {
        "id": "MUuMIL5Smjju"
      },
      "outputs": [],
      "source": [
        "sel_prod_t = sel_prod.T"
      ]
    },
    {
      "cell_type": "code",
      "execution_count": null,
      "metadata": {
        "id": "Fb1iWkNGmjju",
        "colab": {
          "base_uri": "https://localhost:8080/",
          "height": 424
        },
        "outputId": "a29316ef-f541-48a8-d892-43a31dee1fc8"
      },
      "outputs": [
        {
          "output_type": "execute_result",
          "data": {
            "text/plain": [
              "                    1708            2860                        3383  \\\n",
              "Area     China, mainland           India  Iran (Islamic Republic of)   \n",
              "Item      Cereals, Total  Cereals, Total              Cereals, Total   \n",
              "Element       Production      Production                  Production   \n",
              "Y1961        107000000.0      87376496.0                   4303119.0   \n",
              "Y1962        117640008.0      87257552.0                   4402740.0   \n",
              "...                  ...             ...                         ...   \n",
              "Y2015        618165315.0     284333000.0                  18255385.0   \n",
              "Y2016        614585014.0     297850000.0                  22427057.0   \n",
              "Y2017        614037296.0     310782330.0                  18120141.0   \n",
              "Y2018        608893802.0     321556400.0                  19915737.0   \n",
              "Y2019        612719900.0     324300640.0                  23812431.0   \n",
              "\n",
              "                   4150            8736  \n",
              "Area              Japan          Turkey  \n",
              "Item     Cereals, Total  Cereals, Total  \n",
              "Element      Production      Production  \n",
              "Y1961        20318660.0      12729100.0  \n",
              "Y1962        20635150.0      14728000.0  \n",
              "...                 ...             ...  \n",
              "Y2015        12141378.0      38632438.0  \n",
              "Y2016        11924607.0      35276615.0  \n",
              "Y2017        11903422.0      36126157.0  \n",
              "Y2018        11575093.0      34395628.0  \n",
              "Y2019        11829777.0      34398698.0  \n",
              "\n",
              "[62 rows x 5 columns]"
            ],
            "text/html": [
              "\n",
              "  <div id=\"df-96b8bd73-30ac-4644-a874-fd7b0ae11e7d\">\n",
              "    <div class=\"colab-df-container\">\n",
              "      <div>\n",
              "<style scoped>\n",
              "    .dataframe tbody tr th:only-of-type {\n",
              "        vertical-align: middle;\n",
              "    }\n",
              "\n",
              "    .dataframe tbody tr th {\n",
              "        vertical-align: top;\n",
              "    }\n",
              "\n",
              "    .dataframe thead th {\n",
              "        text-align: right;\n",
              "    }\n",
              "</style>\n",
              "<table border=\"1\" class=\"dataframe\">\n",
              "  <thead>\n",
              "    <tr style=\"text-align: right;\">\n",
              "      <th></th>\n",
              "      <th>1708</th>\n",
              "      <th>2860</th>\n",
              "      <th>3383</th>\n",
              "      <th>4150</th>\n",
              "      <th>8736</th>\n",
              "    </tr>\n",
              "  </thead>\n",
              "  <tbody>\n",
              "    <tr>\n",
              "      <th>Area</th>\n",
              "      <td>China, mainland</td>\n",
              "      <td>India</td>\n",
              "      <td>Iran (Islamic Republic of)</td>\n",
              "      <td>Japan</td>\n",
              "      <td>Turkey</td>\n",
              "    </tr>\n",
              "    <tr>\n",
              "      <th>Item</th>\n",
              "      <td>Cereals, Total</td>\n",
              "      <td>Cereals, Total</td>\n",
              "      <td>Cereals, Total</td>\n",
              "      <td>Cereals, Total</td>\n",
              "      <td>Cereals, Total</td>\n",
              "    </tr>\n",
              "    <tr>\n",
              "      <th>Element</th>\n",
              "      <td>Production</td>\n",
              "      <td>Production</td>\n",
              "      <td>Production</td>\n",
              "      <td>Production</td>\n",
              "      <td>Production</td>\n",
              "    </tr>\n",
              "    <tr>\n",
              "      <th>Y1961</th>\n",
              "      <td>107000000.0</td>\n",
              "      <td>87376496.0</td>\n",
              "      <td>4303119.0</td>\n",
              "      <td>20318660.0</td>\n",
              "      <td>12729100.0</td>\n",
              "    </tr>\n",
              "    <tr>\n",
              "      <th>Y1962</th>\n",
              "      <td>117640008.0</td>\n",
              "      <td>87257552.0</td>\n",
              "      <td>4402740.0</td>\n",
              "      <td>20635150.0</td>\n",
              "      <td>14728000.0</td>\n",
              "    </tr>\n",
              "    <tr>\n",
              "      <th>...</th>\n",
              "      <td>...</td>\n",
              "      <td>...</td>\n",
              "      <td>...</td>\n",
              "      <td>...</td>\n",
              "      <td>...</td>\n",
              "    </tr>\n",
              "    <tr>\n",
              "      <th>Y2015</th>\n",
              "      <td>618165315.0</td>\n",
              "      <td>284333000.0</td>\n",
              "      <td>18255385.0</td>\n",
              "      <td>12141378.0</td>\n",
              "      <td>38632438.0</td>\n",
              "    </tr>\n",
              "    <tr>\n",
              "      <th>Y2016</th>\n",
              "      <td>614585014.0</td>\n",
              "      <td>297850000.0</td>\n",
              "      <td>22427057.0</td>\n",
              "      <td>11924607.0</td>\n",
              "      <td>35276615.0</td>\n",
              "    </tr>\n",
              "    <tr>\n",
              "      <th>Y2017</th>\n",
              "      <td>614037296.0</td>\n",
              "      <td>310782330.0</td>\n",
              "      <td>18120141.0</td>\n",
              "      <td>11903422.0</td>\n",
              "      <td>36126157.0</td>\n",
              "    </tr>\n",
              "    <tr>\n",
              "      <th>Y2018</th>\n",
              "      <td>608893802.0</td>\n",
              "      <td>321556400.0</td>\n",
              "      <td>19915737.0</td>\n",
              "      <td>11575093.0</td>\n",
              "      <td>34395628.0</td>\n",
              "    </tr>\n",
              "    <tr>\n",
              "      <th>Y2019</th>\n",
              "      <td>612719900.0</td>\n",
              "      <td>324300640.0</td>\n",
              "      <td>23812431.0</td>\n",
              "      <td>11829777.0</td>\n",
              "      <td>34398698.0</td>\n",
              "    </tr>\n",
              "  </tbody>\n",
              "</table>\n",
              "<p>62 rows × 5 columns</p>\n",
              "</div>\n",
              "      <button class=\"colab-df-convert\" onclick=\"convertToInteractive('df-96b8bd73-30ac-4644-a874-fd7b0ae11e7d')\"\n",
              "              title=\"Convert this dataframe to an interactive table.\"\n",
              "              style=\"display:none;\">\n",
              "        \n",
              "  <svg xmlns=\"http://www.w3.org/2000/svg\" height=\"24px\"viewBox=\"0 0 24 24\"\n",
              "       width=\"24px\">\n",
              "    <path d=\"M0 0h24v24H0V0z\" fill=\"none\"/>\n",
              "    <path d=\"M18.56 5.44l.94 2.06.94-2.06 2.06-.94-2.06-.94-.94-2.06-.94 2.06-2.06.94zm-11 1L8.5 8.5l.94-2.06 2.06-.94-2.06-.94L8.5 2.5l-.94 2.06-2.06.94zm10 10l.94 2.06.94-2.06 2.06-.94-2.06-.94-.94-2.06-.94 2.06-2.06.94z\"/><path d=\"M17.41 7.96l-1.37-1.37c-.4-.4-.92-.59-1.43-.59-.52 0-1.04.2-1.43.59L10.3 9.45l-7.72 7.72c-.78.78-.78 2.05 0 2.83L4 21.41c.39.39.9.59 1.41.59.51 0 1.02-.2 1.41-.59l7.78-7.78 2.81-2.81c.8-.78.8-2.07 0-2.86zM5.41 20L4 18.59l7.72-7.72 1.47 1.35L5.41 20z\"/>\n",
              "  </svg>\n",
              "      </button>\n",
              "      \n",
              "  <style>\n",
              "    .colab-df-container {\n",
              "      display:flex;\n",
              "      flex-wrap:wrap;\n",
              "      gap: 12px;\n",
              "    }\n",
              "\n",
              "    .colab-df-convert {\n",
              "      background-color: #E8F0FE;\n",
              "      border: none;\n",
              "      border-radius: 50%;\n",
              "      cursor: pointer;\n",
              "      display: none;\n",
              "      fill: #1967D2;\n",
              "      height: 32px;\n",
              "      padding: 0 0 0 0;\n",
              "      width: 32px;\n",
              "    }\n",
              "\n",
              "    .colab-df-convert:hover {\n",
              "      background-color: #E2EBFA;\n",
              "      box-shadow: 0px 1px 2px rgba(60, 64, 67, 0.3), 0px 1px 3px 1px rgba(60, 64, 67, 0.15);\n",
              "      fill: #174EA6;\n",
              "    }\n",
              "\n",
              "    [theme=dark] .colab-df-convert {\n",
              "      background-color: #3B4455;\n",
              "      fill: #D2E3FC;\n",
              "    }\n",
              "\n",
              "    [theme=dark] .colab-df-convert:hover {\n",
              "      background-color: #434B5C;\n",
              "      box-shadow: 0px 1px 3px 1px rgba(0, 0, 0, 0.15);\n",
              "      filter: drop-shadow(0px 1px 2px rgba(0, 0, 0, 0.3));\n",
              "      fill: #FFFFFF;\n",
              "    }\n",
              "  </style>\n",
              "\n",
              "      <script>\n",
              "        const buttonEl =\n",
              "          document.querySelector('#df-96b8bd73-30ac-4644-a874-fd7b0ae11e7d button.colab-df-convert');\n",
              "        buttonEl.style.display =\n",
              "          google.colab.kernel.accessAllowed ? 'block' : 'none';\n",
              "\n",
              "        async function convertToInteractive(key) {\n",
              "          const element = document.querySelector('#df-96b8bd73-30ac-4644-a874-fd7b0ae11e7d');\n",
              "          const dataTable =\n",
              "            await google.colab.kernel.invokeFunction('convertToInteractive',\n",
              "                                                     [key], {});\n",
              "          if (!dataTable) return;\n",
              "\n",
              "          const docLinkHtml = 'Like what you see? Visit the ' +\n",
              "            '<a target=\"_blank\" href=https://colab.research.google.com/notebooks/data_table.ipynb>data table notebook</a>'\n",
              "            + ' to learn more about interactive tables.';\n",
              "          element.innerHTML = '';\n",
              "          dataTable['output_type'] = 'display_data';\n",
              "          await google.colab.output.renderOutput(dataTable, element);\n",
              "          const docLink = document.createElement('div');\n",
              "          docLink.innerHTML = docLinkHtml;\n",
              "          element.appendChild(docLink);\n",
              "        }\n",
              "      </script>\n",
              "    </div>\n",
              "  </div>\n",
              "  "
            ]
          },
          "metadata": {},
          "execution_count": 138
        }
      ],
      "source": [
        "sel_prod_t"
      ]
    },
    {
      "cell_type": "code",
      "execution_count": null,
      "metadata": {
        "id": "jihfgty_mjju"
      },
      "outputs": [],
      "source": [
        "sel_prod_t.columns = ['China', 'India', 'Iran', 'Japan', 'Turkey']"
      ]
    },
    {
      "cell_type": "code",
      "execution_count": null,
      "metadata": {
        "id": "EreZrLuEmjju",
        "colab": {
          "base_uri": "https://localhost:8080/",
          "height": 299
        },
        "outputId": "22e08fbc-fd18-43bb-c25a-003ecbc934cf"
      },
      "outputs": [
        {
          "output_type": "execute_result",
          "data": {
            "text/plain": [
              "<matplotlib.axes._subplots.AxesSubplot at 0x7f6c411d8450>"
            ]
          },
          "metadata": {},
          "execution_count": 140
        },
        {
          "output_type": "display_data",
          "data": {
            "text/plain": [
              "<Figure size 432x288 with 1 Axes>"
            ],
            "image/png": "[encoded data removed]"
          },
          "metadata": {
            "needs_background": "light"
          }
        }
      ],
      "source": [
        "sel_prod_t[3:].plot(kind='line', title='Total Cereals Production from 1961 to 2019 (tonnes)')"
      ]
    },
    {
      "cell_type": "code",
      "execution_count": null,
      "metadata": {
        "id": "OA6Ygulbmjju"
      },
      "outputs": [],
      "source": [
        ""
      ]
    }
  ],
  "metadata": {
    "colab": {
      "collapsed_sections": [],
      "name": "Copy of CSE572-Lab1.ipynb",
      "provenance": []
    },
    "kernelspec": {
      "display_name": "Python 3",
      "language": "python",
      "name": "python3"
    },
    "language_info": {
      "codemirror_mode": {
        "name": "ipython",
        "version": 3
      },
      "file_extension": ".py",
      "mimetype": "text/x-python",
      "name": "python",
      "nbconvert_exporter": "python",
      "pygments_lexer": "ipython3",
      "version": "3.6.15"
    }
  },
  "nbformat": 4,
  "nbformat_minor": 0
}